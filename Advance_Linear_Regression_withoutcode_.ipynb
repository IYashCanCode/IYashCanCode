{
  "cells": [
    {
      "cell_type": "markdown",
      "metadata": {
        "id": "view-in-github",
        "colab_type": "text"
      },
      "source": [
        "<a href=\"https://colab.research.google.com/github/IYashCanCode/IYashCanCode/blob/main/Advance_Linear_Regression_withoutcode_.ipynb\" target=\"_parent\"><img src=\"https://colab.research.google.com/assets/colab-badge.svg\" alt=\"Open In Colab\"/></a>"
      ]
    },
    {
      "cell_type": "markdown",
      "metadata": {
        "id": "JhHC5CQ2FXGS"
      },
      "source": [
        "# <center> Advance Regression Techniques <center>\n",
        "\n",
        "In this assignment you will learn a lot on various advance regression techniques like lasso, ridge, ElasticNet, polynomial regression, and also you will learn hyperparameter tuning technique called GridSearchCV\n",
        "\n",
        "   So buddy role up your sleeves and get ready for various fun activities\n",
        "    \n",
        "## **`Problem statement: Car Price Prediction`** \n",
        "You are required to model the price of cars with the available independent variables. It will be used by the management to understand how exactly the prices vary with the independent variable\n",
        "<br>\n",
        "<br>\n",
        "<br>\n",
        "\n",
        "The solution is divided into the following sections: \n",
        "- Data understanding and exploration\n",
        "- Data cleaning\n",
        "- Data preparation\n",
        "- Model building and evaluation\n"
      ]
    },
    {
      "cell_type": "markdown",
      "metadata": {
        "id": "mM8Z5LDKFXGb"
      },
      "source": [
        "### 1. Data Understanding and Exploration\n",
        "<p style='text-align: right;'> points= 20</p>\n",
        "\n",
        "\n",
        "Let's first have a look at the dataset and understand the size, attribute names etc."
      ]
    },
    {
      "cell_type": "code",
      "execution_count": null,
      "metadata": {
        "id": "-Xp1n_LfFXGd"
      },
      "outputs": [],
      "source": [
        "# Importing necessary libraries numpy, pandas, pyplot, seaborn\n",
        "import pandas as pd\n",
        "import numpy as np\n",
        "import matplotlib.pyplot as plt\n",
        "import seaborn as sns\n",
        "from sklearn.model_selection import train_test_split as TTS\n",
        "# import linear_model, LinearRegression, Ridge, lasso, GridSearchCV from sklearn\n",
        "from sklearn.linear_model import LinearRegression as LR\n",
        "from sklearn.linear_model import Lasso\n",
        "from sklearn.linear_model import Ridge\n",
        "from sklearn.model_selection import GridSearchCV as GSC\n",
        "# import os\n",
        "import os\n",
        "# hide warnings\n",
        "import warnings\n",
        "warnings.filterwarnings('ignore')\n"
      ]
    },
    {
      "cell_type": "code",
      "execution_count": null,
      "metadata": {
        "id": "VpfWRbRIFXGf"
      },
      "outputs": [],
      "source": [
        "# reading the CarPrice_Assignment\n",
        "cars = pd.read_csv('CarPrice_Assignment.csv')"
      ]
    },
    {
      "cell_type": "code",
      "execution_count": null,
      "metadata": {
        "id": "7FOyB9w5FXGg",
        "outputId": "5c61be3b-b5bb-469a-83f3-247e0e50af79",
        "colab": {
          "base_uri": "https://localhost:8080/"
        }
      },
      "outputs": [
        {
          "output_type": "stream",
          "name": "stdout",
          "text": [
            "<class 'pandas.core.frame.DataFrame'>\n",
            "RangeIndex: 205 entries, 0 to 204\n",
            "Data columns (total 26 columns):\n",
            " #   Column            Non-Null Count  Dtype  \n",
            "---  ------            --------------  -----  \n",
            " 0   car_ID            205 non-null    int64  \n",
            " 1   symboling         205 non-null    int64  \n",
            " 2   CarName           205 non-null    object \n",
            " 3   fueltype          205 non-null    object \n",
            " 4   aspiration        205 non-null    object \n",
            " 5   doornumber        205 non-null    object \n",
            " 6   carbody           205 non-null    object \n",
            " 7   drivewheel        205 non-null    object \n",
            " 8   enginelocation    205 non-null    object \n",
            " 9   wheelbase         205 non-null    float64\n",
            " 10  carlength         205 non-null    float64\n",
            " 11  carwidth          205 non-null    float64\n",
            " 12  carheight         205 non-null    float64\n",
            " 13  curbweight        205 non-null    int64  \n",
            " 14  enginetype        205 non-null    object \n",
            " 15  cylindernumber    205 non-null    object \n",
            " 16  enginesize        205 non-null    int64  \n",
            " 17  fuelsystem        205 non-null    object \n",
            " 18  boreratio         205 non-null    float64\n",
            " 19  stroke            205 non-null    float64\n",
            " 20  compressionratio  205 non-null    float64\n",
            " 21  horsepower        205 non-null    int64  \n",
            " 22  peakrpm           205 non-null    int64  \n",
            " 23  citympg           205 non-null    int64  \n",
            " 24  highwaympg        205 non-null    int64  \n",
            " 25  price             205 non-null    float64\n",
            "dtypes: float64(8), int64(8), object(10)\n",
            "memory usage: 41.8+ KB\n"
          ]
        }
      ],
      "source": [
        "# summary of the dataset: 205 rows, 26 columns, no null values\n",
        "cars.info()"
      ]
    },
    {
      "cell_type": "code",
      "source": [
        "cars.head()"
      ],
      "metadata": {
        "colab": {
          "base_uri": "https://localhost:8080/",
          "height": 351
        },
        "id": "CemRX8Pd8D9a",
        "outputId": "94fd939a-45b5-4afe-f716-242fb246f565"
      },
      "execution_count": null,
      "outputs": [
        {
          "output_type": "execute_result",
          "data": {
            "text/plain": [
              "   car_ID  symboling                   CarName fueltype aspiration doornumber  \\\n",
              "0       1          3        alfa-romero giulia      gas        std        two   \n",
              "1       2          3       alfa-romero stelvio      gas        std        two   \n",
              "2       3          1  alfa-romero Quadrifoglio      gas        std        two   \n",
              "3       4          2               audi 100 ls      gas        std       four   \n",
              "4       5          2                audi 100ls      gas        std       four   \n",
              "\n",
              "       carbody drivewheel enginelocation  wheelbase  ...  enginesize  \\\n",
              "0  convertible        rwd          front       88.6  ...         130   \n",
              "1  convertible        rwd          front       88.6  ...         130   \n",
              "2    hatchback        rwd          front       94.5  ...         152   \n",
              "3        sedan        fwd          front       99.8  ...         109   \n",
              "4        sedan        4wd          front       99.4  ...         136   \n",
              "\n",
              "   fuelsystem  boreratio  stroke compressionratio horsepower  peakrpm citympg  \\\n",
              "0        mpfi       3.47    2.68              9.0        111     5000      21   \n",
              "1        mpfi       3.47    2.68              9.0        111     5000      21   \n",
              "2        mpfi       2.68    3.47              9.0        154     5000      19   \n",
              "3        mpfi       3.19    3.40             10.0        102     5500      24   \n",
              "4        mpfi       3.19    3.40              8.0        115     5500      18   \n",
              "\n",
              "   highwaympg    price  \n",
              "0          27  13495.0  \n",
              "1          27  16500.0  \n",
              "2          26  16500.0  \n",
              "3          30  13950.0  \n",
              "4          22  17450.0  \n",
              "\n",
              "[5 rows x 26 columns]"
            ],
            "text/html": [
              "\n",
              "  <div id=\"df-8c38acd5-0081-4b5e-abbc-a1c0cde0e6c3\">\n",
              "    <div class=\"colab-df-container\">\n",
              "      <div>\n",
              "<style scoped>\n",
              "    .dataframe tbody tr th:only-of-type {\n",
              "        vertical-align: middle;\n",
              "    }\n",
              "\n",
              "    .dataframe tbody tr th {\n",
              "        vertical-align: top;\n",
              "    }\n",
              "\n",
              "    .dataframe thead th {\n",
              "        text-align: right;\n",
              "    }\n",
              "</style>\n",
              "<table border=\"1\" class=\"dataframe\">\n",
              "  <thead>\n",
              "    <tr style=\"text-align: right;\">\n",
              "      <th></th>\n",
              "      <th>car_ID</th>\n",
              "      <th>symboling</th>\n",
              "      <th>CarName</th>\n",
              "      <th>fueltype</th>\n",
              "      <th>aspiration</th>\n",
              "      <th>doornumber</th>\n",
              "      <th>carbody</th>\n",
              "      <th>drivewheel</th>\n",
              "      <th>enginelocation</th>\n",
              "      <th>wheelbase</th>\n",
              "      <th>...</th>\n",
              "      <th>enginesize</th>\n",
              "      <th>fuelsystem</th>\n",
              "      <th>boreratio</th>\n",
              "      <th>stroke</th>\n",
              "      <th>compressionratio</th>\n",
              "      <th>horsepower</th>\n",
              "      <th>peakrpm</th>\n",
              "      <th>citympg</th>\n",
              "      <th>highwaympg</th>\n",
              "      <th>price</th>\n",
              "    </tr>\n",
              "  </thead>\n",
              "  <tbody>\n",
              "    <tr>\n",
              "      <th>0</th>\n",
              "      <td>1</td>\n",
              "      <td>3</td>\n",
              "      <td>alfa-romero giulia</td>\n",
              "      <td>gas</td>\n",
              "      <td>std</td>\n",
              "      <td>two</td>\n",
              "      <td>convertible</td>\n",
              "      <td>rwd</td>\n",
              "      <td>front</td>\n",
              "      <td>88.6</td>\n",
              "      <td>...</td>\n",
              "      <td>130</td>\n",
              "      <td>mpfi</td>\n",
              "      <td>3.47</td>\n",
              "      <td>2.68</td>\n",
              "      <td>9.0</td>\n",
              "      <td>111</td>\n",
              "      <td>5000</td>\n",
              "      <td>21</td>\n",
              "      <td>27</td>\n",
              "      <td>13495.0</td>\n",
              "    </tr>\n",
              "    <tr>\n",
              "      <th>1</th>\n",
              "      <td>2</td>\n",
              "      <td>3</td>\n",
              "      <td>alfa-romero stelvio</td>\n",
              "      <td>gas</td>\n",
              "      <td>std</td>\n",
              "      <td>two</td>\n",
              "      <td>convertible</td>\n",
              "      <td>rwd</td>\n",
              "      <td>front</td>\n",
              "      <td>88.6</td>\n",
              "      <td>...</td>\n",
              "      <td>130</td>\n",
              "      <td>mpfi</td>\n",
              "      <td>3.47</td>\n",
              "      <td>2.68</td>\n",
              "      <td>9.0</td>\n",
              "      <td>111</td>\n",
              "      <td>5000</td>\n",
              "      <td>21</td>\n",
              "      <td>27</td>\n",
              "      <td>16500.0</td>\n",
              "    </tr>\n",
              "    <tr>\n",
              "      <th>2</th>\n",
              "      <td>3</td>\n",
              "      <td>1</td>\n",
              "      <td>alfa-romero Quadrifoglio</td>\n",
              "      <td>gas</td>\n",
              "      <td>std</td>\n",
              "      <td>two</td>\n",
              "      <td>hatchback</td>\n",
              "      <td>rwd</td>\n",
              "      <td>front</td>\n",
              "      <td>94.5</td>\n",
              "      <td>...</td>\n",
              "      <td>152</td>\n",
              "      <td>mpfi</td>\n",
              "      <td>2.68</td>\n",
              "      <td>3.47</td>\n",
              "      <td>9.0</td>\n",
              "      <td>154</td>\n",
              "      <td>5000</td>\n",
              "      <td>19</td>\n",
              "      <td>26</td>\n",
              "      <td>16500.0</td>\n",
              "    </tr>\n",
              "    <tr>\n",
              "      <th>3</th>\n",
              "      <td>4</td>\n",
              "      <td>2</td>\n",
              "      <td>audi 100 ls</td>\n",
              "      <td>gas</td>\n",
              "      <td>std</td>\n",
              "      <td>four</td>\n",
              "      <td>sedan</td>\n",
              "      <td>fwd</td>\n",
              "      <td>front</td>\n",
              "      <td>99.8</td>\n",
              "      <td>...</td>\n",
              "      <td>109</td>\n",
              "      <td>mpfi</td>\n",
              "      <td>3.19</td>\n",
              "      <td>3.40</td>\n",
              "      <td>10.0</td>\n",
              "      <td>102</td>\n",
              "      <td>5500</td>\n",
              "      <td>24</td>\n",
              "      <td>30</td>\n",
              "      <td>13950.0</td>\n",
              "    </tr>\n",
              "    <tr>\n",
              "      <th>4</th>\n",
              "      <td>5</td>\n",
              "      <td>2</td>\n",
              "      <td>audi 100ls</td>\n",
              "      <td>gas</td>\n",
              "      <td>std</td>\n",
              "      <td>four</td>\n",
              "      <td>sedan</td>\n",
              "      <td>4wd</td>\n",
              "      <td>front</td>\n",
              "      <td>99.4</td>\n",
              "      <td>...</td>\n",
              "      <td>136</td>\n",
              "      <td>mpfi</td>\n",
              "      <td>3.19</td>\n",
              "      <td>3.40</td>\n",
              "      <td>8.0</td>\n",
              "      <td>115</td>\n",
              "      <td>5500</td>\n",
              "      <td>18</td>\n",
              "      <td>22</td>\n",
              "      <td>17450.0</td>\n",
              "    </tr>\n",
              "  </tbody>\n",
              "</table>\n",
              "<p>5 rows × 26 columns</p>\n",
              "</div>\n",
              "      <button class=\"colab-df-convert\" onclick=\"convertToInteractive('df-8c38acd5-0081-4b5e-abbc-a1c0cde0e6c3')\"\n",
              "              title=\"Convert this dataframe to an interactive table.\"\n",
              "              style=\"display:none;\">\n",
              "        \n",
              "  <svg xmlns=\"http://www.w3.org/2000/svg\" height=\"24px\"viewBox=\"0 0 24 24\"\n",
              "       width=\"24px\">\n",
              "    <path d=\"M0 0h24v24H0V0z\" fill=\"none\"/>\n",
              "    <path d=\"M18.56 5.44l.94 2.06.94-2.06 2.06-.94-2.06-.94-.94-2.06-.94 2.06-2.06.94zm-11 1L8.5 8.5l.94-2.06 2.06-.94-2.06-.94L8.5 2.5l-.94 2.06-2.06.94zm10 10l.94 2.06.94-2.06 2.06-.94-2.06-.94-.94-2.06-.94 2.06-2.06.94z\"/><path d=\"M17.41 7.96l-1.37-1.37c-.4-.4-.92-.59-1.43-.59-.52 0-1.04.2-1.43.59L10.3 9.45l-7.72 7.72c-.78.78-.78 2.05 0 2.83L4 21.41c.39.39.9.59 1.41.59.51 0 1.02-.2 1.41-.59l7.78-7.78 2.81-2.81c.8-.78.8-2.07 0-2.86zM5.41 20L4 18.59l7.72-7.72 1.47 1.35L5.41 20z\"/>\n",
              "  </svg>\n",
              "      </button>\n",
              "      \n",
              "  <style>\n",
              "    .colab-df-container {\n",
              "      display:flex;\n",
              "      flex-wrap:wrap;\n",
              "      gap: 12px;\n",
              "    }\n",
              "\n",
              "    .colab-df-convert {\n",
              "      background-color: #E8F0FE;\n",
              "      border: none;\n",
              "      border-radius: 50%;\n",
              "      cursor: pointer;\n",
              "      display: none;\n",
              "      fill: #1967D2;\n",
              "      height: 32px;\n",
              "      padding: 0 0 0 0;\n",
              "      width: 32px;\n",
              "    }\n",
              "\n",
              "    .colab-df-convert:hover {\n",
              "      background-color: #E2EBFA;\n",
              "      box-shadow: 0px 1px 2px rgba(60, 64, 67, 0.3), 0px 1px 3px 1px rgba(60, 64, 67, 0.15);\n",
              "      fill: #174EA6;\n",
              "    }\n",
              "\n",
              "    [theme=dark] .colab-df-convert {\n",
              "      background-color: #3B4455;\n",
              "      fill: #D2E3FC;\n",
              "    }\n",
              "\n",
              "    [theme=dark] .colab-df-convert:hover {\n",
              "      background-color: #434B5C;\n",
              "      box-shadow: 0px 1px 3px 1px rgba(0, 0, 0, 0.15);\n",
              "      filter: drop-shadow(0px 1px 2px rgba(0, 0, 0, 0.3));\n",
              "      fill: #FFFFFF;\n",
              "    }\n",
              "  </style>\n",
              "\n",
              "      <script>\n",
              "        const buttonEl =\n",
              "          document.querySelector('#df-8c38acd5-0081-4b5e-abbc-a1c0cde0e6c3 button.colab-df-convert');\n",
              "        buttonEl.style.display =\n",
              "          google.colab.kernel.accessAllowed ? 'block' : 'none';\n",
              "\n",
              "        async function convertToInteractive(key) {\n",
              "          const element = document.querySelector('#df-8c38acd5-0081-4b5e-abbc-a1c0cde0e6c3');\n",
              "          const dataTable =\n",
              "            await google.colab.kernel.invokeFunction('convertToInteractive',\n",
              "                                                     [key], {});\n",
              "          if (!dataTable) return;\n",
              "\n",
              "          const docLinkHtml = 'Like what you see? Visit the ' +\n",
              "            '<a target=\"_blank\" href=https://colab.research.google.com/notebooks/data_table.ipynb>data table notebook</a>'\n",
              "            + ' to learn more about interactive tables.';\n",
              "          element.innerHTML = '';\n",
              "          dataTable['output_type'] = 'display_data';\n",
              "          await google.colab.output.renderOutput(dataTable, element);\n",
              "          const docLink = document.createElement('div');\n",
              "          docLink.innerHTML = docLinkHtml;\n",
              "          element.appendChild(docLink);\n",
              "        }\n",
              "      </script>\n",
              "    </div>\n",
              "  </div>\n",
              "  "
            ]
          },
          "metadata": {},
          "execution_count": 240
        }
      ]
    },
    {
      "cell_type": "code",
      "source": [
        "cars.describe()"
      ],
      "metadata": {
        "colab": {
          "base_uri": "https://localhost:8080/",
          "height": 364
        },
        "id": "skSfjGLW8QC9",
        "outputId": "4426cd3f-a19a-4fbb-f9f8-05cee47bee51"
      },
      "execution_count": null,
      "outputs": [
        {
          "output_type": "execute_result",
          "data": {
            "text/plain": [
              "           car_ID   symboling   wheelbase   carlength    carwidth   carheight  \\\n",
              "count  205.000000  205.000000  205.000000  205.000000  205.000000  205.000000   \n",
              "mean   103.000000    0.834146   98.756585  174.049268   65.907805   53.724878   \n",
              "std     59.322565    1.245307    6.021776   12.337289    2.145204    2.443522   \n",
              "min      1.000000   -2.000000   86.600000  141.100000   60.300000   47.800000   \n",
              "25%     52.000000    0.000000   94.500000  166.300000   64.100000   52.000000   \n",
              "50%    103.000000    1.000000   97.000000  173.200000   65.500000   54.100000   \n",
              "75%    154.000000    2.000000  102.400000  183.100000   66.900000   55.500000   \n",
              "max    205.000000    3.000000  120.900000  208.100000   72.300000   59.800000   \n",
              "\n",
              "        curbweight  enginesize   boreratio      stroke  compressionratio  \\\n",
              "count   205.000000  205.000000  205.000000  205.000000        205.000000   \n",
              "mean   2555.565854  126.907317    3.329756    3.255415         10.142537   \n",
              "std     520.680204   41.642693    0.270844    0.313597          3.972040   \n",
              "min    1488.000000   61.000000    2.540000    2.070000          7.000000   \n",
              "25%    2145.000000   97.000000    3.150000    3.110000          8.600000   \n",
              "50%    2414.000000  120.000000    3.310000    3.290000          9.000000   \n",
              "75%    2935.000000  141.000000    3.580000    3.410000          9.400000   \n",
              "max    4066.000000  326.000000    3.940000    4.170000         23.000000   \n",
              "\n",
              "       horsepower      peakrpm     citympg  highwaympg         price  \n",
              "count  205.000000   205.000000  205.000000  205.000000    205.000000  \n",
              "mean   104.117073  5125.121951   25.219512   30.751220  13276.710571  \n",
              "std     39.544167   476.985643    6.542142    6.886443   7988.852332  \n",
              "min     48.000000  4150.000000   13.000000   16.000000   5118.000000  \n",
              "25%     70.000000  4800.000000   19.000000   25.000000   7788.000000  \n",
              "50%     95.000000  5200.000000   24.000000   30.000000  10295.000000  \n",
              "75%    116.000000  5500.000000   30.000000   34.000000  16503.000000  \n",
              "max    288.000000  6600.000000   49.000000   54.000000  45400.000000  "
            ],
            "text/html": [
              "\n",
              "  <div id=\"df-daf6a713-e84d-441e-b72c-5d8f391165c6\">\n",
              "    <div class=\"colab-df-container\">\n",
              "      <div>\n",
              "<style scoped>\n",
              "    .dataframe tbody tr th:only-of-type {\n",
              "        vertical-align: middle;\n",
              "    }\n",
              "\n",
              "    .dataframe tbody tr th {\n",
              "        vertical-align: top;\n",
              "    }\n",
              "\n",
              "    .dataframe thead th {\n",
              "        text-align: right;\n",
              "    }\n",
              "</style>\n",
              "<table border=\"1\" class=\"dataframe\">\n",
              "  <thead>\n",
              "    <tr style=\"text-align: right;\">\n",
              "      <th></th>\n",
              "      <th>car_ID</th>\n",
              "      <th>symboling</th>\n",
              "      <th>wheelbase</th>\n",
              "      <th>carlength</th>\n",
              "      <th>carwidth</th>\n",
              "      <th>carheight</th>\n",
              "      <th>curbweight</th>\n",
              "      <th>enginesize</th>\n",
              "      <th>boreratio</th>\n",
              "      <th>stroke</th>\n",
              "      <th>compressionratio</th>\n",
              "      <th>horsepower</th>\n",
              "      <th>peakrpm</th>\n",
              "      <th>citympg</th>\n",
              "      <th>highwaympg</th>\n",
              "      <th>price</th>\n",
              "    </tr>\n",
              "  </thead>\n",
              "  <tbody>\n",
              "    <tr>\n",
              "      <th>count</th>\n",
              "      <td>205.000000</td>\n",
              "      <td>205.000000</td>\n",
              "      <td>205.000000</td>\n",
              "      <td>205.000000</td>\n",
              "      <td>205.000000</td>\n",
              "      <td>205.000000</td>\n",
              "      <td>205.000000</td>\n",
              "      <td>205.000000</td>\n",
              "      <td>205.000000</td>\n",
              "      <td>205.000000</td>\n",
              "      <td>205.000000</td>\n",
              "      <td>205.000000</td>\n",
              "      <td>205.000000</td>\n",
              "      <td>205.000000</td>\n",
              "      <td>205.000000</td>\n",
              "      <td>205.000000</td>\n",
              "    </tr>\n",
              "    <tr>\n",
              "      <th>mean</th>\n",
              "      <td>103.000000</td>\n",
              "      <td>0.834146</td>\n",
              "      <td>98.756585</td>\n",
              "      <td>174.049268</td>\n",
              "      <td>65.907805</td>\n",
              "      <td>53.724878</td>\n",
              "      <td>2555.565854</td>\n",
              "      <td>126.907317</td>\n",
              "      <td>3.329756</td>\n",
              "      <td>3.255415</td>\n",
              "      <td>10.142537</td>\n",
              "      <td>104.117073</td>\n",
              "      <td>5125.121951</td>\n",
              "      <td>25.219512</td>\n",
              "      <td>30.751220</td>\n",
              "      <td>13276.710571</td>\n",
              "    </tr>\n",
              "    <tr>\n",
              "      <th>std</th>\n",
              "      <td>59.322565</td>\n",
              "      <td>1.245307</td>\n",
              "      <td>6.021776</td>\n",
              "      <td>12.337289</td>\n",
              "      <td>2.145204</td>\n",
              "      <td>2.443522</td>\n",
              "      <td>520.680204</td>\n",
              "      <td>41.642693</td>\n",
              "      <td>0.270844</td>\n",
              "      <td>0.313597</td>\n",
              "      <td>3.972040</td>\n",
              "      <td>39.544167</td>\n",
              "      <td>476.985643</td>\n",
              "      <td>6.542142</td>\n",
              "      <td>6.886443</td>\n",
              "      <td>7988.852332</td>\n",
              "    </tr>\n",
              "    <tr>\n",
              "      <th>min</th>\n",
              "      <td>1.000000</td>\n",
              "      <td>-2.000000</td>\n",
              "      <td>86.600000</td>\n",
              "      <td>141.100000</td>\n",
              "      <td>60.300000</td>\n",
              "      <td>47.800000</td>\n",
              "      <td>1488.000000</td>\n",
              "      <td>61.000000</td>\n",
              "      <td>2.540000</td>\n",
              "      <td>2.070000</td>\n",
              "      <td>7.000000</td>\n",
              "      <td>48.000000</td>\n",
              "      <td>4150.000000</td>\n",
              "      <td>13.000000</td>\n",
              "      <td>16.000000</td>\n",
              "      <td>5118.000000</td>\n",
              "    </tr>\n",
              "    <tr>\n",
              "      <th>25%</th>\n",
              "      <td>52.000000</td>\n",
              "      <td>0.000000</td>\n",
              "      <td>94.500000</td>\n",
              "      <td>166.300000</td>\n",
              "      <td>64.100000</td>\n",
              "      <td>52.000000</td>\n",
              "      <td>2145.000000</td>\n",
              "      <td>97.000000</td>\n",
              "      <td>3.150000</td>\n",
              "      <td>3.110000</td>\n",
              "      <td>8.600000</td>\n",
              "      <td>70.000000</td>\n",
              "      <td>4800.000000</td>\n",
              "      <td>19.000000</td>\n",
              "      <td>25.000000</td>\n",
              "      <td>7788.000000</td>\n",
              "    </tr>\n",
              "    <tr>\n",
              "      <th>50%</th>\n",
              "      <td>103.000000</td>\n",
              "      <td>1.000000</td>\n",
              "      <td>97.000000</td>\n",
              "      <td>173.200000</td>\n",
              "      <td>65.500000</td>\n",
              "      <td>54.100000</td>\n",
              "      <td>2414.000000</td>\n",
              "      <td>120.000000</td>\n",
              "      <td>3.310000</td>\n",
              "      <td>3.290000</td>\n",
              "      <td>9.000000</td>\n",
              "      <td>95.000000</td>\n",
              "      <td>5200.000000</td>\n",
              "      <td>24.000000</td>\n",
              "      <td>30.000000</td>\n",
              "      <td>10295.000000</td>\n",
              "    </tr>\n",
              "    <tr>\n",
              "      <th>75%</th>\n",
              "      <td>154.000000</td>\n",
              "      <td>2.000000</td>\n",
              "      <td>102.400000</td>\n",
              "      <td>183.100000</td>\n",
              "      <td>66.900000</td>\n",
              "      <td>55.500000</td>\n",
              "      <td>2935.000000</td>\n",
              "      <td>141.000000</td>\n",
              "      <td>3.580000</td>\n",
              "      <td>3.410000</td>\n",
              "      <td>9.400000</td>\n",
              "      <td>116.000000</td>\n",
              "      <td>5500.000000</td>\n",
              "      <td>30.000000</td>\n",
              "      <td>34.000000</td>\n",
              "      <td>16503.000000</td>\n",
              "    </tr>\n",
              "    <tr>\n",
              "      <th>max</th>\n",
              "      <td>205.000000</td>\n",
              "      <td>3.000000</td>\n",
              "      <td>120.900000</td>\n",
              "      <td>208.100000</td>\n",
              "      <td>72.300000</td>\n",
              "      <td>59.800000</td>\n",
              "      <td>4066.000000</td>\n",
              "      <td>326.000000</td>\n",
              "      <td>3.940000</td>\n",
              "      <td>4.170000</td>\n",
              "      <td>23.000000</td>\n",
              "      <td>288.000000</td>\n",
              "      <td>6600.000000</td>\n",
              "      <td>49.000000</td>\n",
              "      <td>54.000000</td>\n",
              "      <td>45400.000000</td>\n",
              "    </tr>\n",
              "  </tbody>\n",
              "</table>\n",
              "</div>\n",
              "      <button class=\"colab-df-convert\" onclick=\"convertToInteractive('df-daf6a713-e84d-441e-b72c-5d8f391165c6')\"\n",
              "              title=\"Convert this dataframe to an interactive table.\"\n",
              "              style=\"display:none;\">\n",
              "        \n",
              "  <svg xmlns=\"http://www.w3.org/2000/svg\" height=\"24px\"viewBox=\"0 0 24 24\"\n",
              "       width=\"24px\">\n",
              "    <path d=\"M0 0h24v24H0V0z\" fill=\"none\"/>\n",
              "    <path d=\"M18.56 5.44l.94 2.06.94-2.06 2.06-.94-2.06-.94-.94-2.06-.94 2.06-2.06.94zm-11 1L8.5 8.5l.94-2.06 2.06-.94-2.06-.94L8.5 2.5l-.94 2.06-2.06.94zm10 10l.94 2.06.94-2.06 2.06-.94-2.06-.94-.94-2.06-.94 2.06-2.06.94z\"/><path d=\"M17.41 7.96l-1.37-1.37c-.4-.4-.92-.59-1.43-.59-.52 0-1.04.2-1.43.59L10.3 9.45l-7.72 7.72c-.78.78-.78 2.05 0 2.83L4 21.41c.39.39.9.59 1.41.59.51 0 1.02-.2 1.41-.59l7.78-7.78 2.81-2.81c.8-.78.8-2.07 0-2.86zM5.41 20L4 18.59l7.72-7.72 1.47 1.35L5.41 20z\"/>\n",
              "  </svg>\n",
              "      </button>\n",
              "      \n",
              "  <style>\n",
              "    .colab-df-container {\n",
              "      display:flex;\n",
              "      flex-wrap:wrap;\n",
              "      gap: 12px;\n",
              "    }\n",
              "\n",
              "    .colab-df-convert {\n",
              "      background-color: #E8F0FE;\n",
              "      border: none;\n",
              "      border-radius: 50%;\n",
              "      cursor: pointer;\n",
              "      display: none;\n",
              "      fill: #1967D2;\n",
              "      height: 32px;\n",
              "      padding: 0 0 0 0;\n",
              "      width: 32px;\n",
              "    }\n",
              "\n",
              "    .colab-df-convert:hover {\n",
              "      background-color: #E2EBFA;\n",
              "      box-shadow: 0px 1px 2px rgba(60, 64, 67, 0.3), 0px 1px 3px 1px rgba(60, 64, 67, 0.15);\n",
              "      fill: #174EA6;\n",
              "    }\n",
              "\n",
              "    [theme=dark] .colab-df-convert {\n",
              "      background-color: #3B4455;\n",
              "      fill: #D2E3FC;\n",
              "    }\n",
              "\n",
              "    [theme=dark] .colab-df-convert:hover {\n",
              "      background-color: #434B5C;\n",
              "      box-shadow: 0px 1px 3px 1px rgba(0, 0, 0, 0.15);\n",
              "      filter: drop-shadow(0px 1px 2px rgba(0, 0, 0, 0.3));\n",
              "      fill: #FFFFFF;\n",
              "    }\n",
              "  </style>\n",
              "\n",
              "      <script>\n",
              "        const buttonEl =\n",
              "          document.querySelector('#df-daf6a713-e84d-441e-b72c-5d8f391165c6 button.colab-df-convert');\n",
              "        buttonEl.style.display =\n",
              "          google.colab.kernel.accessAllowed ? 'block' : 'none';\n",
              "\n",
              "        async function convertToInteractive(key) {\n",
              "          const element = document.querySelector('#df-daf6a713-e84d-441e-b72c-5d8f391165c6');\n",
              "          const dataTable =\n",
              "            await google.colab.kernel.invokeFunction('convertToInteractive',\n",
              "                                                     [key], {});\n",
              "          if (!dataTable) return;\n",
              "\n",
              "          const docLinkHtml = 'Like what you see? Visit the ' +\n",
              "            '<a target=\"_blank\" href=https://colab.research.google.com/notebooks/data_table.ipynb>data table notebook</a>'\n",
              "            + ' to learn more about interactive tables.';\n",
              "          element.innerHTML = '';\n",
              "          dataTable['output_type'] = 'display_data';\n",
              "          await google.colab.output.renderOutput(dataTable, element);\n",
              "          const docLink = document.createElement('div');\n",
              "          docLink.innerHTML = docLinkHtml;\n",
              "          element.appendChild(docLink);\n",
              "        }\n",
              "      </script>\n",
              "    </div>\n",
              "  </div>\n",
              "  "
            ]
          },
          "metadata": {},
          "execution_count": 241
        }
      ]
    },
    {
      "cell_type": "markdown",
      "source": [
        " 0. car_ID: Unique id of each observation (Interger)                   \n",
        " 1. symboling: Its assigned insurance risk rating, A value of +3 indicates that the auto is risky, -3 that it is probably pretty safe.(Categorical)                \n",
        " 2. CarName:Name of car company (Categorical)                \n",
        " 3. fueltype:Car fuel type i.e gas or diesel (Categorical)                 \n",
        " 4. aspiration:Aspiration used in a car (Categorical)               \n",
        " 5. doornumber:Number of doors in a car (Categorical)               \n",
        " 6. carbody:body of car (Categorical)                  \n",
        " 7. drivewheel:type of drive wheel (Categorical)               \n",
        " 8. enginelocation:Location of car engine (Categorical)           \n",
        " 9. wheelbase:Weelbase of car (Numeric)               \n",
        " 10. carlength:Length of car (Numeric)               \n",
        " 11. carwidth: Width of car (Numeric)                \n",
        " 12. carheight: Height of car(Numeric)               \n",
        " 13. curbweight:The weight of a car without occupants or baggage. (Numeric)               \n",
        " 14. enginetype:Type of engine. (Categorical)               \n",
        " 15. cylindernumber:cylinder placed in the car (Categorical)           \n",
        " 16. enginesize:Size of car (Numeric)               \n",
        " 17. fuelsystem: Fuel system of car (Categorical).               \n",
        " 18. boreratio:Boreratio of car (Numeric)               \n",
        " 19. stroke: Stroke or volume inside the engine (Numeric).                \n",
        " 20. compressionratio: Compression ratio of car (Numeric)        \n",
        " 21. horsepower:Horsepower (Numeric)               \n",
        " 22. peakrpm:Car peak rpm (Numeric)                  \n",
        " 23. citympg:Mileage in city (Numeric)                  \n",
        " 24. highwaympg:Mileage on highway (Numeric)               \n",
        " 25. price:Price of car (Numeric)    "
      ],
      "metadata": {
        "id": "hrxTyRG1-OLF"
      }
    },
    {
      "cell_type": "markdown",
      "metadata": {
        "id": "zkXK8IOpFXGm"
      },
      "source": [
        "#### Understanding the unique value distribution\n",
        "\n",
        "Here we will check various attributes in a feature and its contribution in the dataset."
      ]
    },
    {
      "cell_type": "code",
      "execution_count": null,
      "metadata": {
        "id": "1ZORGLjvFXGo",
        "outputId": "58cda4b2-0483-44e5-bfb0-8b110ef265dd",
        "colab": {
          "base_uri": "https://localhost:8080/"
        }
      },
      "outputs": [
        {
          "output_type": "execute_result",
          "data": {
            "text/plain": [
              " 0    67\n",
              " 1    54\n",
              " 2    32\n",
              " 3    27\n",
              "-1    22\n",
              "-2     3\n",
              "Name: symboling, dtype: int64"
            ]
          },
          "metadata": {},
          "execution_count": 242
        }
      ],
      "source": [
        "#Check each symboling attribute's count\n",
        "cars['symboling'].value_counts()"
      ]
    },
    {
      "cell_type": "markdown",
      "metadata": {
        "id": "f1yITWz1FXGp"
      },
      "source": [
        "From above output we can see that symboling parameter in cars daraset shows -2 (least risky) to +3 most risky but most of the cars are 0,1,2.\n"
      ]
    },
    {
      "cell_type": "code",
      "execution_count": null,
      "metadata": {
        "id": "-FBKacajFXGq",
        "outputId": "4a71310e-a43f-48f5-bea6-e92b34bd8246",
        "colab": {
          "base_uri": "https://localhost:8080/"
        }
      },
      "outputs": [
        {
          "output_type": "execute_result",
          "data": {
            "text/plain": [
              "std      168\n",
              "turbo     37\n",
              "Name: aspiration, dtype: int64"
            ]
          },
          "metadata": {},
          "execution_count": 243
        }
      ],
      "source": [
        "#Check each aspiration attribute's count\n",
        "cars['aspiration'].value_counts()"
      ]
    },
    {
      "cell_type": "markdown",
      "metadata": {
        "id": "-dS_iGnDFXGr"
      },
      "source": [
        "aspiration: An (internal combustion) engine property showing whether the oxygen intake is through standard (atmospheric pressure)or through turbocharging (pressurised oxygen intake)"
      ]
    },
    {
      "cell_type": "code",
      "execution_count": null,
      "metadata": {
        "id": "IFcU6HvEFXGs",
        "outputId": "65a1777d-5b09-4c03-f289-74abd999ed5b",
        "colab": {
          "base_uri": "https://localhost:8080/"
        }
      },
      "outputs": [
        {
          "output_type": "execute_result",
          "data": {
            "text/plain": [
              "fwd    120\n",
              "rwd     76\n",
              "4wd      9\n",
              "Name: drivewheel, dtype: int64"
            ]
          },
          "metadata": {},
          "execution_count": 244
        }
      ],
      "source": [
        "#Check each drivewheel attribute's count\n",
        "cars['drivewheel'].value_counts()"
      ]
    },
    {
      "cell_type": "markdown",
      "metadata": {
        "id": "E1UuGqg6FXGs"
      },
      "source": [
        "drivewheel: frontwheel, rarewheel or four-wheel drive \n",
        "\n",
        "Now plot distribution plot for **wheelbase**: distance between centre of front and rarewheels\n"
      ]
    },
    {
      "cell_type": "code",
      "execution_count": null,
      "metadata": {
        "id": "Lwf4PtXGFXGt",
        "outputId": "54a9e389-0a95-4809-f217-c8b578e07af1",
        "colab": {
          "base_uri": "https://localhost:8080/",
          "height": 369
        }
      },
      "outputs": [
        {
          "output_type": "display_data",
          "data": {
            "text/plain": [
              "<Figure size 360x360 with 1 Axes>"
            ],
            "image/png": "[encoded data removed]"
          },
          "metadata": {
            "needs_background": "light"
          }
        }
      ],
      "source": [
        "# plot wheetbase distribution\n",
        "sns.displot(x = 'wheelbase',data = cars,kde=True)\n",
        "plt.show()"
      ]
    },
    {
      "cell_type": "markdown",
      "metadata": {
        "id": "o6uiWY59FXGu"
      },
      "source": [
        "plot distribution plot for **curbweight**: weight of car without occupants or baggage\n"
      ]
    },
    {
      "cell_type": "code",
      "execution_count": null,
      "metadata": {
        "id": "MDiaFAusFXGu",
        "outputId": "c5bcf4b6-a31d-4e9f-8bb2-7ba4dd1c73cf",
        "colab": {
          "base_uri": "https://localhost:8080/",
          "height": 369
        }
      },
      "outputs": [
        {
          "output_type": "display_data",
          "data": {
            "text/plain": [
              "<Figure size 360x360 with 1 Axes>"
            ],
            "image/png": "[encoded data removed]"
          },
          "metadata": {
            "needs_background": "light"
          }
        }
      ],
      "source": [
        "# plot curbweight distribution\n",
        "sns.displot(cars['curbweight'],kde=True)\n",
        "plt.show()"
      ]
    },
    {
      "cell_type": "markdown",
      "metadata": {
        "id": "cuZHH0zJFXGv"
      },
      "source": [
        "plot distribution plot for **stroke**: volume of the engine (the distance traveled by the piston in each cycle)"
      ]
    },
    {
      "cell_type": "code",
      "execution_count": null,
      "metadata": {
        "id": "Q4YlQKtWFXGw",
        "outputId": "c24a8d00-91f4-4d06-89c8-2cdebefb8d87",
        "colab": {
          "base_uri": "https://localhost:8080/",
          "height": 279
        }
      },
      "outputs": [
        {
          "output_type": "display_data",
          "data": {
            "text/plain": [
              "<Figure size 432x288 with 1 Axes>"
            ],
            "image/png": "[encoded data removed]"
          },
          "metadata": {
            "needs_background": "light"
          }
        }
      ],
      "source": [
        "# plot stroke dsitribution\n",
        "sns.distplot(cars['stroke'],kde=True)\n",
        "plt.show()"
      ]
    },
    {
      "cell_type": "markdown",
      "metadata": {
        "id": "U0Sp3elQFXGw"
      },
      "source": [
        "Now plot distribution plot for **compressionration**: ratio of volume of compression chamber at largest capacity to least capacity"
      ]
    },
    {
      "cell_type": "code",
      "execution_count": null,
      "metadata": {
        "id": "2R0CMbPUFXGx",
        "outputId": "3445e102-ef3c-4e66-ef73-9f94bd4690d5",
        "colab": {
          "base_uri": "https://localhost:8080/",
          "height": 279
        }
      },
      "outputs": [
        {
          "output_type": "display_data",
          "data": {
            "text/plain": [
              "<Figure size 432x288 with 1 Axes>"
            ],
            "image/png": "[encoded data removed]"
          },
          "metadata": {
            "needs_background": "light"
          }
        }
      ],
      "source": [
        "# plot compressionratio distribution\n",
        "sns.distplot(cars['compressionratio'],kde=True)\n",
        "plt.show()"
      ]
    },
    {
      "cell_type": "markdown",
      "metadata": {
        "id": "5y1oZshsFXGy"
      },
      "source": [
        "Now lets see distribution plot for target variable: **price** of car\n"
      ]
    },
    {
      "cell_type": "code",
      "execution_count": null,
      "metadata": {
        "id": "XDJ614kZFXGz",
        "outputId": "f78092b0-a211-45e4-bbf4-2bfda1e08310",
        "colab": {
          "base_uri": "https://localhost:8080/",
          "height": 279
        }
      },
      "outputs": [
        {
          "output_type": "display_data",
          "data": {
            "text/plain": [
              "<Figure size 432x288 with 1 Axes>"
            ],
            "image/png": "[encoded data removed]"
          },
          "metadata": {
            "needs_background": "light"
          }
        }
      ],
      "source": [
        "# Price distribution\n",
        "sns.distplot(cars['price'],kde=True)\n",
        "plt.show()"
      ]
    },
    {
      "cell_type": "markdown",
      "metadata": {
        "id": "UQZcH73kFXG0"
      },
      "source": [
        "#### Data Exploration\n",
        "\n",
        "To perform linear regression, the (numeric) target variable should be linearly related to *at least one another numeric variable*. Let's see whether that's true in this case.\n",
        "\n",
        "\n",
        "We'll first subset the list of all (independent) numeric variables, and then make a **pairwise plot**."
      ]
    },
    {
      "cell_type": "code",
      "execution_count": null,
      "metadata": {
        "id": "goxV5kP2FXG2",
        "outputId": "39abd96d-b3fc-452a-ebb6-ba03ef2ae9f5",
        "colab": {
          "base_uri": "https://localhost:8080/",
          "height": 206
        }
      },
      "outputs": [
        {
          "output_type": "execute_result",
          "data": {
            "text/plain": [
              "   car_ID  symboling  wheelbase  carlength  carwidth  carheight  curbweight  \\\n",
              "0       1          3       88.6      168.8      64.1       48.8        2548   \n",
              "1       2          3       88.6      168.8      64.1       48.8        2548   \n",
              "2       3          1       94.5      171.2      65.5       52.4        2823   \n",
              "3       4          2       99.8      176.6      66.2       54.3        2337   \n",
              "4       5          2       99.4      176.6      66.4       54.3        2824   \n",
              "\n",
              "   enginesize  boreratio  stroke  compressionratio  horsepower  peakrpm  \\\n",
              "0         130       3.47    2.68               9.0         111     5000   \n",
              "1         130       3.47    2.68               9.0         111     5000   \n",
              "2         152       2.68    3.47               9.0         154     5000   \n",
              "3         109       3.19    3.40              10.0         102     5500   \n",
              "4         136       3.19    3.40               8.0         115     5500   \n",
              "\n",
              "   citympg  highwaympg    price  \n",
              "0       21          27  13495.0  \n",
              "1       21          27  16500.0  \n",
              "2       19          26  16500.0  \n",
              "3       24          30  13950.0  \n",
              "4       18          22  17450.0  "
            ],
            "text/html": [
              "\n",
              "  <div id=\"df-87ab4e3e-8dce-4ba3-9222-7dd1aba01b6c\">\n",
              "    <div class=\"colab-df-container\">\n",
              "      <div>\n",
              "<style scoped>\n",
              "    .dataframe tbody tr th:only-of-type {\n",
              "        vertical-align: middle;\n",
              "    }\n",
              "\n",
              "    .dataframe tbody tr th {\n",
              "        vertical-align: top;\n",
              "    }\n",
              "\n",
              "    .dataframe thead th {\n",
              "        text-align: right;\n",
              "    }\n",
              "</style>\n",
              "<table border=\"1\" class=\"dataframe\">\n",
              "  <thead>\n",
              "    <tr style=\"text-align: right;\">\n",
              "      <th></th>\n",
              "      <th>car_ID</th>\n",
              "      <th>symboling</th>\n",
              "      <th>wheelbase</th>\n",
              "      <th>carlength</th>\n",
              "      <th>carwidth</th>\n",
              "      <th>carheight</th>\n",
              "      <th>curbweight</th>\n",
              "      <th>enginesize</th>\n",
              "      <th>boreratio</th>\n",
              "      <th>stroke</th>\n",
              "      <th>compressionratio</th>\n",
              "      <th>horsepower</th>\n",
              "      <th>peakrpm</th>\n",
              "      <th>citympg</th>\n",
              "      <th>highwaympg</th>\n",
              "      <th>price</th>\n",
              "    </tr>\n",
              "  </thead>\n",
              "  <tbody>\n",
              "    <tr>\n",
              "      <th>0</th>\n",
              "      <td>1</td>\n",
              "      <td>3</td>\n",
              "      <td>88.6</td>\n",
              "      <td>168.8</td>\n",
              "      <td>64.1</td>\n",
              "      <td>48.8</td>\n",
              "      <td>2548</td>\n",
              "      <td>130</td>\n",
              "      <td>3.47</td>\n",
              "      <td>2.68</td>\n",
              "      <td>9.0</td>\n",
              "      <td>111</td>\n",
              "      <td>5000</td>\n",
              "      <td>21</td>\n",
              "      <td>27</td>\n",
              "      <td>13495.0</td>\n",
              "    </tr>\n",
              "    <tr>\n",
              "      <th>1</th>\n",
              "      <td>2</td>\n",
              "      <td>3</td>\n",
              "      <td>88.6</td>\n",
              "      <td>168.8</td>\n",
              "      <td>64.1</td>\n",
              "      <td>48.8</td>\n",
              "      <td>2548</td>\n",
              "      <td>130</td>\n",
              "      <td>3.47</td>\n",
              "      <td>2.68</td>\n",
              "      <td>9.0</td>\n",
              "      <td>111</td>\n",
              "      <td>5000</td>\n",
              "      <td>21</td>\n",
              "      <td>27</td>\n",
              "      <td>16500.0</td>\n",
              "    </tr>\n",
              "    <tr>\n",
              "      <th>2</th>\n",
              "      <td>3</td>\n",
              "      <td>1</td>\n",
              "      <td>94.5</td>\n",
              "      <td>171.2</td>\n",
              "      <td>65.5</td>\n",
              "      <td>52.4</td>\n",
              "      <td>2823</td>\n",
              "      <td>152</td>\n",
              "      <td>2.68</td>\n",
              "      <td>3.47</td>\n",
              "      <td>9.0</td>\n",
              "      <td>154</td>\n",
              "      <td>5000</td>\n",
              "      <td>19</td>\n",
              "      <td>26</td>\n",
              "      <td>16500.0</td>\n",
              "    </tr>\n",
              "    <tr>\n",
              "      <th>3</th>\n",
              "      <td>4</td>\n",
              "      <td>2</td>\n",
              "      <td>99.8</td>\n",
              "      <td>176.6</td>\n",
              "      <td>66.2</td>\n",
              "      <td>54.3</td>\n",
              "      <td>2337</td>\n",
              "      <td>109</td>\n",
              "      <td>3.19</td>\n",
              "      <td>3.40</td>\n",
              "      <td>10.0</td>\n",
              "      <td>102</td>\n",
              "      <td>5500</td>\n",
              "      <td>24</td>\n",
              "      <td>30</td>\n",
              "      <td>13950.0</td>\n",
              "    </tr>\n",
              "    <tr>\n",
              "      <th>4</th>\n",
              "      <td>5</td>\n",
              "      <td>2</td>\n",
              "      <td>99.4</td>\n",
              "      <td>176.6</td>\n",
              "      <td>66.4</td>\n",
              "      <td>54.3</td>\n",
              "      <td>2824</td>\n",
              "      <td>136</td>\n",
              "      <td>3.19</td>\n",
              "      <td>3.40</td>\n",
              "      <td>8.0</td>\n",
              "      <td>115</td>\n",
              "      <td>5500</td>\n",
              "      <td>18</td>\n",
              "      <td>22</td>\n",
              "      <td>17450.0</td>\n",
              "    </tr>\n",
              "  </tbody>\n",
              "</table>\n",
              "</div>\n",
              "      <button class=\"colab-df-convert\" onclick=\"convertToInteractive('df-87ab4e3e-8dce-4ba3-9222-7dd1aba01b6c')\"\n",
              "              title=\"Convert this dataframe to an interactive table.\"\n",
              "              style=\"display:none;\">\n",
              "        \n",
              "  <svg xmlns=\"http://www.w3.org/2000/svg\" height=\"24px\"viewBox=\"0 0 24 24\"\n",
              "       width=\"24px\">\n",
              "    <path d=\"M0 0h24v24H0V0z\" fill=\"none\"/>\n",
              "    <path d=\"M18.56 5.44l.94 2.06.94-2.06 2.06-.94-2.06-.94-.94-2.06-.94 2.06-2.06.94zm-11 1L8.5 8.5l.94-2.06 2.06-.94-2.06-.94L8.5 2.5l-.94 2.06-2.06.94zm10 10l.94 2.06.94-2.06 2.06-.94-2.06-.94-.94-2.06-.94 2.06-2.06.94z\"/><path d=\"M17.41 7.96l-1.37-1.37c-.4-.4-.92-.59-1.43-.59-.52 0-1.04.2-1.43.59L10.3 9.45l-7.72 7.72c-.78.78-.78 2.05 0 2.83L4 21.41c.39.39.9.59 1.41.59.51 0 1.02-.2 1.41-.59l7.78-7.78 2.81-2.81c.8-.78.8-2.07 0-2.86zM5.41 20L4 18.59l7.72-7.72 1.47 1.35L5.41 20z\"/>\n",
              "  </svg>\n",
              "      </button>\n",
              "      \n",
              "  <style>\n",
              "    .colab-df-container {\n",
              "      display:flex;\n",
              "      flex-wrap:wrap;\n",
              "      gap: 12px;\n",
              "    }\n",
              "\n",
              "    .colab-df-convert {\n",
              "      background-color: #E8F0FE;\n",
              "      border: none;\n",
              "      border-radius: 50%;\n",
              "      cursor: pointer;\n",
              "      display: none;\n",
              "      fill: #1967D2;\n",
              "      height: 32px;\n",
              "      padding: 0 0 0 0;\n",
              "      width: 32px;\n",
              "    }\n",
              "\n",
              "    .colab-df-convert:hover {\n",
              "      background-color: #E2EBFA;\n",
              "      box-shadow: 0px 1px 2px rgba(60, 64, 67, 0.3), 0px 1px 3px 1px rgba(60, 64, 67, 0.15);\n",
              "      fill: #174EA6;\n",
              "    }\n",
              "\n",
              "    [theme=dark] .colab-df-convert {\n",
              "      background-color: #3B4455;\n",
              "      fill: #D2E3FC;\n",
              "    }\n",
              "\n",
              "    [theme=dark] .colab-df-convert:hover {\n",
              "      background-color: #434B5C;\n",
              "      box-shadow: 0px 1px 3px 1px rgba(0, 0, 0, 0.15);\n",
              "      filter: drop-shadow(0px 1px 2px rgba(0, 0, 0, 0.3));\n",
              "      fill: #FFFFFF;\n",
              "    }\n",
              "  </style>\n",
              "\n",
              "      <script>\n",
              "        const buttonEl =\n",
              "          document.querySelector('#df-87ab4e3e-8dce-4ba3-9222-7dd1aba01b6c button.colab-df-convert');\n",
              "        buttonEl.style.display =\n",
              "          google.colab.kernel.accessAllowed ? 'block' : 'none';\n",
              "\n",
              "        async function convertToInteractive(key) {\n",
              "          const element = document.querySelector('#df-87ab4e3e-8dce-4ba3-9222-7dd1aba01b6c');\n",
              "          const dataTable =\n",
              "            await google.colab.kernel.invokeFunction('convertToInteractive',\n",
              "                                                     [key], {});\n",
              "          if (!dataTable) return;\n",
              "\n",
              "          const docLinkHtml = 'Like what you see? Visit the ' +\n",
              "            '<a target=\"_blank\" href=https://colab.research.google.com/notebooks/data_table.ipynb>data table notebook</a>'\n",
              "            + ' to learn more about interactive tables.';\n",
              "          element.innerHTML = '';\n",
              "          dataTable['output_type'] = 'display_data';\n",
              "          await google.colab.output.renderOutput(dataTable, element);\n",
              "          const docLink = document.createElement('div');\n",
              "          docLink.innerHTML = docLinkHtml;\n",
              "          element.appendChild(docLink);\n",
              "        }\n",
              "      </script>\n",
              "    </div>\n",
              "  </div>\n",
              "  "
            ]
          },
          "metadata": {},
          "execution_count": 250
        }
      ],
      "source": [
        "# all numeric (float and int) variables in the dataset\n",
        "cars_numeric = cars[cars.columns[cars.dtypes != 'object']]\n",
        "#head\n",
        "cars_numeric.head()"
      ]
    },
    {
      "cell_type": "markdown",
      "metadata": {
        "id": "TSbBGAgaFXG4"
      },
      "source": [
        "Here, although the variable ```symboling``` is numeric (int), we'd rather treat it as categorical since it has only 6 discrete values. Also, we do not want 'car_ID'."
      ]
    },
    {
      "cell_type": "code",
      "execution_count": null,
      "metadata": {
        "id": "96L9jRU8FXG4"
      },
      "outputs": [],
      "source": [
        "# dropping symboling and car_ID \n",
        "cars_numeric.drop(['car_ID','symboling'],axis=1,inplace=True)\n",
        "\n"
      ]
    },
    {
      "cell_type": "code",
      "source": [
        "cars_numeric.head()"
      ],
      "metadata": {
        "colab": {
          "base_uri": "https://localhost:8080/",
          "height": 206
        },
        "id": "UZYhGd6_WthJ",
        "outputId": "e7af2c19-7853-4f80-f78d-3b29de07803d"
      },
      "execution_count": null,
      "outputs": [
        {
          "output_type": "execute_result",
          "data": {
            "text/plain": [
              "   wheelbase  carlength  carwidth  carheight  curbweight  enginesize  \\\n",
              "0       88.6      168.8      64.1       48.8        2548         130   \n",
              "1       88.6      168.8      64.1       48.8        2548         130   \n",
              "2       94.5      171.2      65.5       52.4        2823         152   \n",
              "3       99.8      176.6      66.2       54.3        2337         109   \n",
              "4       99.4      176.6      66.4       54.3        2824         136   \n",
              "\n",
              "   boreratio  stroke  compressionratio  horsepower  peakrpm  citympg  \\\n",
              "0       3.47    2.68               9.0         111     5000       21   \n",
              "1       3.47    2.68               9.0         111     5000       21   \n",
              "2       2.68    3.47               9.0         154     5000       19   \n",
              "3       3.19    3.40              10.0         102     5500       24   \n",
              "4       3.19    3.40               8.0         115     5500       18   \n",
              "\n",
              "   highwaympg    price  \n",
              "0          27  13495.0  \n",
              "1          27  16500.0  \n",
              "2          26  16500.0  \n",
              "3          30  13950.0  \n",
              "4          22  17450.0  "
            ],
            "text/html": [
              "\n",
              "  <div id=\"df-c67d01a4-66a8-4f76-86cc-45647e997f2a\">\n",
              "    <div class=\"colab-df-container\">\n",
              "      <div>\n",
              "<style scoped>\n",
              "    .dataframe tbody tr th:only-of-type {\n",
              "        vertical-align: middle;\n",
              "    }\n",
              "\n",
              "    .dataframe tbody tr th {\n",
              "        vertical-align: top;\n",
              "    }\n",
              "\n",
              "    .dataframe thead th {\n",
              "        text-align: right;\n",
              "    }\n",
              "</style>\n",
              "<table border=\"1\" class=\"dataframe\">\n",
              "  <thead>\n",
              "    <tr style=\"text-align: right;\">\n",
              "      <th></th>\n",
              "      <th>wheelbase</th>\n",
              "      <th>carlength</th>\n",
              "      <th>carwidth</th>\n",
              "      <th>carheight</th>\n",
              "      <th>curbweight</th>\n",
              "      <th>enginesize</th>\n",
              "      <th>boreratio</th>\n",
              "      <th>stroke</th>\n",
              "      <th>compressionratio</th>\n",
              "      <th>horsepower</th>\n",
              "      <th>peakrpm</th>\n",
              "      <th>citympg</th>\n",
              "      <th>highwaympg</th>\n",
              "      <th>price</th>\n",
              "    </tr>\n",
              "  </thead>\n",
              "  <tbody>\n",
              "    <tr>\n",
              "      <th>0</th>\n",
              "      <td>88.6</td>\n",
              "      <td>168.8</td>\n",
              "      <td>64.1</td>\n",
              "      <td>48.8</td>\n",
              "      <td>2548</td>\n",
              "      <td>130</td>\n",
              "      <td>3.47</td>\n",
              "      <td>2.68</td>\n",
              "      <td>9.0</td>\n",
              "      <td>111</td>\n",
              "      <td>5000</td>\n",
              "      <td>21</td>\n",
              "      <td>27</td>\n",
              "      <td>13495.0</td>\n",
              "    </tr>\n",
              "    <tr>\n",
              "      <th>1</th>\n",
              "      <td>88.6</td>\n",
              "      <td>168.8</td>\n",
              "      <td>64.1</td>\n",
              "      <td>48.8</td>\n",
              "      <td>2548</td>\n",
              "      <td>130</td>\n",
              "      <td>3.47</td>\n",
              "      <td>2.68</td>\n",
              "      <td>9.0</td>\n",
              "      <td>111</td>\n",
              "      <td>5000</td>\n",
              "      <td>21</td>\n",
              "      <td>27</td>\n",
              "      <td>16500.0</td>\n",
              "    </tr>\n",
              "    <tr>\n",
              "      <th>2</th>\n",
              "      <td>94.5</td>\n",
              "      <td>171.2</td>\n",
              "      <td>65.5</td>\n",
              "      <td>52.4</td>\n",
              "      <td>2823</td>\n",
              "      <td>152</td>\n",
              "      <td>2.68</td>\n",
              "      <td>3.47</td>\n",
              "      <td>9.0</td>\n",
              "      <td>154</td>\n",
              "      <td>5000</td>\n",
              "      <td>19</td>\n",
              "      <td>26</td>\n",
              "      <td>16500.0</td>\n",
              "    </tr>\n",
              "    <tr>\n",
              "      <th>3</th>\n",
              "      <td>99.8</td>\n",
              "      <td>176.6</td>\n",
              "      <td>66.2</td>\n",
              "      <td>54.3</td>\n",
              "      <td>2337</td>\n",
              "      <td>109</td>\n",
              "      <td>3.19</td>\n",
              "      <td>3.40</td>\n",
              "      <td>10.0</td>\n",
              "      <td>102</td>\n",
              "      <td>5500</td>\n",
              "      <td>24</td>\n",
              "      <td>30</td>\n",
              "      <td>13950.0</td>\n",
              "    </tr>\n",
              "    <tr>\n",
              "      <th>4</th>\n",
              "      <td>99.4</td>\n",
              "      <td>176.6</td>\n",
              "      <td>66.4</td>\n",
              "      <td>54.3</td>\n",
              "      <td>2824</td>\n",
              "      <td>136</td>\n",
              "      <td>3.19</td>\n",
              "      <td>3.40</td>\n",
              "      <td>8.0</td>\n",
              "      <td>115</td>\n",
              "      <td>5500</td>\n",
              "      <td>18</td>\n",
              "      <td>22</td>\n",
              "      <td>17450.0</td>\n",
              "    </tr>\n",
              "  </tbody>\n",
              "</table>\n",
              "</div>\n",
              "      <button class=\"colab-df-convert\" onclick=\"convertToInteractive('df-c67d01a4-66a8-4f76-86cc-45647e997f2a')\"\n",
              "              title=\"Convert this dataframe to an interactive table.\"\n",
              "              style=\"display:none;\">\n",
              "        \n",
              "  <svg xmlns=\"http://www.w3.org/2000/svg\" height=\"24px\"viewBox=\"0 0 24 24\"\n",
              "       width=\"24px\">\n",
              "    <path d=\"M0 0h24v24H0V0z\" fill=\"none\"/>\n",
              "    <path d=\"M18.56 5.44l.94 2.06.94-2.06 2.06-.94-2.06-.94-.94-2.06-.94 2.06-2.06.94zm-11 1L8.5 8.5l.94-2.06 2.06-.94-2.06-.94L8.5 2.5l-.94 2.06-2.06.94zm10 10l.94 2.06.94-2.06 2.06-.94-2.06-.94-.94-2.06-.94 2.06-2.06.94z\"/><path d=\"M17.41 7.96l-1.37-1.37c-.4-.4-.92-.59-1.43-.59-.52 0-1.04.2-1.43.59L10.3 9.45l-7.72 7.72c-.78.78-.78 2.05 0 2.83L4 21.41c.39.39.9.59 1.41.59.51 0 1.02-.2 1.41-.59l7.78-7.78 2.81-2.81c.8-.78.8-2.07 0-2.86zM5.41 20L4 18.59l7.72-7.72 1.47 1.35L5.41 20z\"/>\n",
              "  </svg>\n",
              "      </button>\n",
              "      \n",
              "  <style>\n",
              "    .colab-df-container {\n",
              "      display:flex;\n",
              "      flex-wrap:wrap;\n",
              "      gap: 12px;\n",
              "    }\n",
              "\n",
              "    .colab-df-convert {\n",
              "      background-color: #E8F0FE;\n",
              "      border: none;\n",
              "      border-radius: 50%;\n",
              "      cursor: pointer;\n",
              "      display: none;\n",
              "      fill: #1967D2;\n",
              "      height: 32px;\n",
              "      padding: 0 0 0 0;\n",
              "      width: 32px;\n",
              "    }\n",
              "\n",
              "    .colab-df-convert:hover {\n",
              "      background-color: #E2EBFA;\n",
              "      box-shadow: 0px 1px 2px rgba(60, 64, 67, 0.3), 0px 1px 3px 1px rgba(60, 64, 67, 0.15);\n",
              "      fill: #174EA6;\n",
              "    }\n",
              "\n",
              "    [theme=dark] .colab-df-convert {\n",
              "      background-color: #3B4455;\n",
              "      fill: #D2E3FC;\n",
              "    }\n",
              "\n",
              "    [theme=dark] .colab-df-convert:hover {\n",
              "      background-color: #434B5C;\n",
              "      box-shadow: 0px 1px 3px 1px rgba(0, 0, 0, 0.15);\n",
              "      filter: drop-shadow(0px 1px 2px rgba(0, 0, 0, 0.3));\n",
              "      fill: #FFFFFF;\n",
              "    }\n",
              "  </style>\n",
              "\n",
              "      <script>\n",
              "        const buttonEl =\n",
              "          document.querySelector('#df-c67d01a4-66a8-4f76-86cc-45647e997f2a button.colab-df-convert');\n",
              "        buttonEl.style.display =\n",
              "          google.colab.kernel.accessAllowed ? 'block' : 'none';\n",
              "\n",
              "        async function convertToInteractive(key) {\n",
              "          const element = document.querySelector('#df-c67d01a4-66a8-4f76-86cc-45647e997f2a');\n",
              "          const dataTable =\n",
              "            await google.colab.kernel.invokeFunction('convertToInteractive',\n",
              "                                                     [key], {});\n",
              "          if (!dataTable) return;\n",
              "\n",
              "          const docLinkHtml = 'Like what you see? Visit the ' +\n",
              "            '<a target=\"_blank\" href=https://colab.research.google.com/notebooks/data_table.ipynb>data table notebook</a>'\n",
              "            + ' to learn more about interactive tables.';\n",
              "          element.innerHTML = '';\n",
              "          dataTable['output_type'] = 'display_data';\n",
              "          await google.colab.output.renderOutput(dataTable, element);\n",
              "          const docLink = document.createElement('div');\n",
              "          docLink.innerHTML = docLinkHtml;\n",
              "          element.appendChild(docLink);\n",
              "        }\n",
              "      </script>\n",
              "    </div>\n",
              "  </div>\n",
              "  "
            ]
          },
          "metadata": {},
          "execution_count": 252
        }
      ]
    },
    {
      "cell_type": "markdown",
      "metadata": {
        "id": "7nIzs7oKFXG5"
      },
      "source": [
        "Let's now make a pairwise scatter plot and observe linear relationships."
      ]
    },
    {
      "cell_type": "code",
      "execution_count": null,
      "metadata": {
        "id": "2t_SH1WzFXG5"
      },
      "outputs": [],
      "source": [
        "# paiwise scatter plot\n",
        "#sns.pairplot(cars_numeric)\n",
        "#plt.show()"
      ]
    },
    {
      "cell_type": "markdown",
      "metadata": {
        "id": "ofRmR2_FFXG6"
      },
      "source": [
        "This is quite hard to read, and we can rather plot correlations between variables. Also, a heatmap is pretty useful to visualise multiple correlations in one plot."
      ]
    },
    {
      "cell_type": "code",
      "execution_count": null,
      "metadata": {
        "id": "Q-AVWXHgFXG6",
        "outputId": "95430c9f-6c6d-49d1-f41a-837585bd8e26",
        "colab": {
          "base_uri": "https://localhost:8080/",
          "height": 563
        }
      },
      "outputs": [
        {
          "output_type": "display_data",
          "data": {
            "text/plain": [
              "<Figure size 1152x576 with 2 Axes>"
            ],
            "image/png": "[encoded data removed]"
          },
          "metadata": {
            "needs_background": "light"
          }
        }
      ],
      "source": [
        "# plotting correlations on a heatmap\n",
        "\n",
        "# figure size\n",
        "plt.figure(figsize=(16,8))\n",
        "\n",
        "# heatmap\n",
        "sns.heatmap(cars_numeric.corr(),annot=True)\n",
        "plt.show()"
      ]
    },
    {
      "cell_type": "markdown",
      "metadata": {
        "id": "x8pacSGPFXG7"
      },
      "source": [
        "The heatmap shows some useful insights:\n",
        "\n",
        "Correlation of price with independent variables:\n",
        "- Price is highly (positively) correlated with wheelbase, carlength, carwidth, curbweight, enginesize, horsepower (notice how all of these variables represent the size/weight/engine power of the car)\n",
        "\n",
        "- Price is negatively correlated to ```citympg``` and ```highwaympg``` (-0.70 approximately). This suggest that cars having high mileage may fall in the 'economy' cars category, and are priced lower (think Maruti Alto/Swift type of cars, which are designed to be affordable by the middle class, who value mileage more than horsepower/size of car etc.)\n",
        "\n",
        "Correlation among independent variables:\n",
        "- Many independent variables are highly correlated (look at the top-left part of matrix): wheelbase, carlength, curbweight, enginesize etc. are all measures of 'size/weight', and are positively correlated \n",
        "\n",
        "\n",
        "Thus, while building the model, we'll have to pay attention to multicollinearity (especially linear models, such as linear and logistic regression, suffer more from multicollinearity)."
      ]
    },
    {
      "cell_type": "markdown",
      "metadata": {
        "id": "15_J37MCFXG7"
      },
      "source": [
        "## 2. Data Cleaning\n",
        "\n",
        "<p style='text-align: right;'> points= 15</p>\n",
        "\n",
        "\n",
        "Let's now conduct some data cleaning steps. \n",
        "\n",
        "We've seen that there are no missing values in the dataset. We've also seen that variables are in the correct format, except ```symboling```, which should rather be a categorical variable (so that dummy variable are created for the categories).\n",
        "\n",
        "Note that it *can* be used in the model as a numeric variable also. \n",
        "\n"
      ]
    },
    {
      "cell_type": "code",
      "execution_count": null,
      "metadata": {
        "id": "BJDKtOcxFXG8"
      },
      "outputs": [],
      "source": [
        "# variable formats"
      ]
    },
    {
      "cell_type": "code",
      "execution_count": null,
      "metadata": {
        "id": "jdHq3xodFXG8",
        "colab": {
          "base_uri": "https://localhost:8080/"
        },
        "outputId": "e6996edb-c341-4fea-9cdc-8d7e9e29b99a"
      },
      "outputs": [
        {
          "output_type": "stream",
          "name": "stdout",
          "text": [
            "<class 'pandas.core.frame.DataFrame'>\n",
            "RangeIndex: 205 entries, 0 to 204\n",
            "Data columns (total 26 columns):\n",
            " #   Column            Non-Null Count  Dtype  \n",
            "---  ------            --------------  -----  \n",
            " 0   car_ID            205 non-null    int64  \n",
            " 1   symboling         205 non-null    object \n",
            " 2   CarName           205 non-null    object \n",
            " 3   fueltype          205 non-null    object \n",
            " 4   aspiration        205 non-null    object \n",
            " 5   doornumber        205 non-null    object \n",
            " 6   carbody           205 non-null    object \n",
            " 7   drivewheel        205 non-null    object \n",
            " 8   enginelocation    205 non-null    object \n",
            " 9   wheelbase         205 non-null    float64\n",
            " 10  carlength         205 non-null    float64\n",
            " 11  carwidth          205 non-null    float64\n",
            " 12  carheight         205 non-null    float64\n",
            " 13  curbweight        205 non-null    int64  \n",
            " 14  enginetype        205 non-null    object \n",
            " 15  cylindernumber    205 non-null    object \n",
            " 16  enginesize        205 non-null    int64  \n",
            " 17  fuelsystem        205 non-null    object \n",
            " 18  boreratio         205 non-null    float64\n",
            " 19  stroke            205 non-null    float64\n",
            " 20  compressionratio  205 non-null    float64\n",
            " 21  horsepower        205 non-null    int64  \n",
            " 22  peakrpm           205 non-null    int64  \n",
            " 23  citympg           205 non-null    int64  \n",
            " 24  highwaympg        205 non-null    int64  \n",
            " 25  price             205 non-null    float64\n",
            "dtypes: float64(8), int64(7), object(11)\n",
            "memory usage: 41.8+ KB\n"
          ]
        }
      ],
      "source": [
        "# converting symboling to categorical by changing its datatype to  \n",
        "cars['symboling'] = cars['symboling'].astype(str) \n",
        "cars.info()"
      ]
    },
    {
      "cell_type": "markdown",
      "metadata": {
        "id": "oPLJ1wZpFXG-"
      },
      "source": [
        "Next, we need to extract the company name from the column ```CarName```. "
      ]
    },
    {
      "cell_type": "code",
      "execution_count": null,
      "metadata": {
        "id": "2gLJwioEFXG_",
        "colab": {
          "base_uri": "https://localhost:8080/"
        },
        "outputId": "02d3ab43-77f7-4ad3-9a4c-2264ba7cb0cd"
      },
      "outputs": [
        {
          "output_type": "execute_result",
          "data": {
            "text/plain": [
              "0            alfa-romero giulia\n",
              "1           alfa-romero stelvio\n",
              "2      alfa-romero Quadrifoglio\n",
              "3                   audi 100 ls\n",
              "4                    audi 100ls\n",
              "5                      audi fox\n",
              "6                    audi 100ls\n",
              "7                     audi 5000\n",
              "8                     audi 4000\n",
              "9           audi 5000s (diesel)\n",
              "10                     bmw 320i\n",
              "11                     bmw 320i\n",
              "12                       bmw x1\n",
              "13                       bmw x3\n",
              "14                       bmw z4\n",
              "15                       bmw x4\n",
              "16                       bmw x5\n",
              "17                       bmw x3\n",
              "18             chevrolet impala\n",
              "19        chevrolet monte carlo\n",
              "20          chevrolet vega 2300\n",
              "21                dodge rampage\n",
              "22          dodge challenger se\n",
              "23                   dodge d200\n",
              "24            dodge monaco (sw)\n",
              "25           dodge colt hardtop\n",
              "26              dodge colt (sw)\n",
              "27         dodge coronet custom\n",
              "28            dodge dart custom\n",
              "29    dodge coronet custom (sw)\n",
              "Name: CarName, dtype: object"
            ]
          },
          "metadata": {},
          "execution_count": 257
        }
      ],
      "source": [
        "# CarName: first few entries (upto 30)\n",
        "cars['CarName'].head(30)"
      ]
    },
    {
      "cell_type": "markdown",
      "metadata": {
        "id": "fj4wYm7NFXG_"
      },
      "source": [
        "Notice that the carname is what occurs before a space, e.g. alfa-romero, audi, chevrolet, dodge, bmx etc.\n",
        "\n",
        "Thus, we need to simply extract the string before a space. There are multiple ways to do that.\n",
        "\n",
        "\n"
      ]
    },
    {
      "cell_type": "code",
      "execution_count": null,
      "metadata": {
        "id": "aRgh4A3OFXHA",
        "colab": {
          "base_uri": "https://localhost:8080/"
        },
        "outputId": "2e944148-fc61-4ce2-a2e0-d67b0eaa999d"
      },
      "outputs": [
        {
          "output_type": "execute_result",
          "data": {
            "text/plain": [
              "0      alfa-romero\n",
              "1      alfa-romero\n",
              "2      alfa-romero\n",
              "3             audi\n",
              "4             audi\n",
              "          ...     \n",
              "200          volvo\n",
              "201          volvo\n",
              "202          volvo\n",
              "203          volvo\n",
              "204          volvo\n",
              "Name: CarName, Length: 205, dtype: object"
            ]
          },
          "metadata": {},
          "execution_count": 258
        }
      ],
      "source": [
        "# Extracting carname\n",
        "\n",
        "# Method 1: str.split() by space\n",
        "carnames = cars['CarName'].apply(lambda x : x.split(\" \")[0])\n",
        "\n",
        "# Print CarName: first few entries (upto 30)\n",
        "\n",
        "carnames"
      ]
    },
    {
      "cell_type": "code",
      "execution_count": null,
      "metadata": {
        "id": "OCOD01wAFXHA"
      },
      "outputs": [],
      "source": [
        "# Method 2: Use regular expressions\n",
        "import re\n",
        "# regex: any alphanumeric sequence before a space, may contain a hyphen\n",
        "p = re.compile(\"^\\w+-?\\w+\")\n",
        "\n",
        "#apply above regex pattern to CarName\n",
        "carnames = cars['CarName'].apply(lambda x : re.findall(p,x)[0])\n"
      ]
    },
    {
      "cell_type": "code",
      "source": [
        "carnames"
      ],
      "metadata": {
        "colab": {
          "base_uri": "https://localhost:8080/"
        },
        "id": "a-v1Wej3vGUa",
        "outputId": "800408ec-a8b7-43e1-a7c5-28b53bb495db"
      },
      "execution_count": null,
      "outputs": [
        {
          "output_type": "execute_result",
          "data": {
            "text/plain": [
              "0      alfa-romero\n",
              "1      alfa-romero\n",
              "2      alfa-romero\n",
              "3             audi\n",
              "4             audi\n",
              "          ...     \n",
              "200          volvo\n",
              "201          volvo\n",
              "202          volvo\n",
              "203          volvo\n",
              "204          volvo\n",
              "Name: CarName, Length: 205, dtype: object"
            ]
          },
          "metadata": {},
          "execution_count": 260
        }
      ]
    },
    {
      "cell_type": "markdown",
      "metadata": {
        "id": "y5Eb0YE-FXHA"
      },
      "source": [
        "Let's create a new column to store the compnay name and check whether it looks okay."
      ]
    },
    {
      "cell_type": "code",
      "execution_count": null,
      "metadata": {
        "id": "aZBDgdgYFXHB"
      },
      "outputs": [],
      "source": [
        "# New column car_company\n",
        "cars['car_company'] = carnames\n"
      ]
    },
    {
      "cell_type": "code",
      "execution_count": null,
      "metadata": {
        "id": "yz8O5s4hFXHB",
        "colab": {
          "base_uri": "https://localhost:8080/"
        },
        "outputId": "3eb2bac2-68fd-4cbf-d282-1e6614c2164b"
      },
      "outputs": [
        {
          "output_type": "execute_result",
          "data": {
            "text/plain": [
              "toyota         31\n",
              "nissan         17\n",
              "mazda          15\n",
              "honda          13\n",
              "mitsubishi     13\n",
              "subaru         12\n",
              "peugeot        11\n",
              "volvo          11\n",
              "volkswagen      9\n",
              "dodge           9\n",
              "buick           8\n",
              "bmw             8\n",
              "audi            7\n",
              "plymouth        7\n",
              "saab            6\n",
              "isuzu           4\n",
              "porsche         4\n",
              "alfa-romero     3\n",
              "chevrolet       3\n",
              "jaguar          3\n",
              "vw              2\n",
              "maxda           2\n",
              "renault         2\n",
              "toyouta         1\n",
              "vokswagen       1\n",
              "Nissan          1\n",
              "mercury         1\n",
              "porcshce        1\n",
              "Name: car_company, dtype: int64"
            ]
          },
          "metadata": {},
          "execution_count": 262
        }
      ],
      "source": [
        "# look at all values \n",
        "cars['car_company'].value_counts()"
      ]
    },
    {
      "cell_type": "markdown",
      "metadata": {
        "id": "AlAnJD2zFXHB"
      },
      "source": [
        "Notice that **some car-company names are misspelled** - vw and vokswagen should be volkswagen, porcshce should be porsche, toyouta should be toyota, Nissan should be nissan, maxda should be mazda etc.\n",
        "\n",
        "This is a data quality issue, let's solve it."
      ]
    },
    {
      "cell_type": "code",
      "execution_count": null,
      "metadata": {
        "id": "RQFxICoUFXHC"
      },
      "outputs": [],
      "source": [
        "# replacing misspelled car_company names using loc\n",
        "\n",
        "# volkswagen\n",
        "cars.loc[cars.car_company=='vw', 'car_company'] = 'volkswagen'\n",
        "cars.loc[cars.car_company=='vokswagen', 'car_company'] = 'volkswagen'\n",
        "# porsche\n",
        "cars.loc[cars.car_company=='porcshce','car_company']='porsche'\n",
        "# toyota\n",
        "cars.loc[cars.car_company=='toyouta','car_company']='toyota'\n",
        "# nissan\n",
        "cars.loc[cars.car_company=='Nissan','car_company']='nissan'\n",
        "# mazda\n",
        "cars.loc[cars.car_company=='maxda','car_company']='mazda'"
      ]
    },
    {
      "cell_type": "code",
      "execution_count": null,
      "metadata": {
        "id": "IYqxdPS3FXHC",
        "colab": {
          "base_uri": "https://localhost:8080/"
        },
        "outputId": "0d0d02c8-574d-4bf8-ea5a-6872c38cdd07"
      },
      "outputs": [
        {
          "output_type": "execute_result",
          "data": {
            "text/plain": [
              "toyota         32\n",
              "nissan         18\n",
              "mazda          17\n",
              "mitsubishi     13\n",
              "honda          13\n",
              "volkswagen     12\n",
              "subaru         12\n",
              "peugeot        11\n",
              "volvo          11\n",
              "dodge           9\n",
              "buick           8\n",
              "bmw             8\n",
              "audi            7\n",
              "plymouth        7\n",
              "saab            6\n",
              "porsche         5\n",
              "isuzu           4\n",
              "jaguar          3\n",
              "chevrolet       3\n",
              "alfa-romero     3\n",
              "renault         2\n",
              "mercury         1\n",
              "Name: car_company, dtype: int64"
            ]
          },
          "metadata": {},
          "execution_count": 264
        }
      ],
      "source": [
        "# print catgeorywise car company value counts\n",
        "cars.car_company.value_counts()"
      ]
    },
    {
      "cell_type": "markdown",
      "metadata": {
        "id": "x_hWqiEBFXHD"
      },
      "source": [
        "The ```car_company``` variable looks okay now. Let's now drop the car name variable."
      ]
    },
    {
      "cell_type": "code",
      "execution_count": null,
      "metadata": {
        "id": "axPOMg8EFXHE"
      },
      "outputs": [],
      "source": [
        "# drop carname variable\n",
        "cars.drop('CarName',axis=1,inplace=True)\n"
      ]
    },
    {
      "cell_type": "code",
      "execution_count": null,
      "metadata": {
        "id": "Eq_4qxhbFXHE",
        "colab": {
          "base_uri": "https://localhost:8080/"
        },
        "outputId": "189c3b74-e49a-4263-a6a1-45c63e40208b"
      },
      "outputs": [
        {
          "output_type": "stream",
          "name": "stdout",
          "text": [
            "<class 'pandas.core.frame.DataFrame'>\n",
            "RangeIndex: 205 entries, 0 to 204\n",
            "Data columns (total 26 columns):\n",
            " #   Column            Non-Null Count  Dtype  \n",
            "---  ------            --------------  -----  \n",
            " 0   car_ID            205 non-null    int64  \n",
            " 1   symboling         205 non-null    object \n",
            " 2   fueltype          205 non-null    object \n",
            " 3   aspiration        205 non-null    object \n",
            " 4   doornumber        205 non-null    object \n",
            " 5   carbody           205 non-null    object \n",
            " 6   drivewheel        205 non-null    object \n",
            " 7   enginelocation    205 non-null    object \n",
            " 8   wheelbase         205 non-null    float64\n",
            " 9   carlength         205 non-null    float64\n",
            " 10  carwidth          205 non-null    float64\n",
            " 11  carheight         205 non-null    float64\n",
            " 12  curbweight        205 non-null    int64  \n",
            " 13  enginetype        205 non-null    object \n",
            " 14  cylindernumber    205 non-null    object \n",
            " 15  enginesize        205 non-null    int64  \n",
            " 16  fuelsystem        205 non-null    object \n",
            " 17  boreratio         205 non-null    float64\n",
            " 18  stroke            205 non-null    float64\n",
            " 19  compressionratio  205 non-null    float64\n",
            " 20  horsepower        205 non-null    int64  \n",
            " 21  peakrpm           205 non-null    int64  \n",
            " 22  citympg           205 non-null    int64  \n",
            " 23  highwaympg        205 non-null    int64  \n",
            " 24  price             205 non-null    float64\n",
            " 25  car_company       205 non-null    object \n",
            "dtypes: float64(8), int64(7), object(11)\n",
            "memory usage: 41.8+ KB\n"
          ]
        }
      ],
      "source": [
        "# car basic information\n",
        "cars.info()"
      ]
    },
    {
      "cell_type": "code",
      "execution_count": null,
      "metadata": {
        "id": "5afgrG5MFXHF",
        "colab": {
          "base_uri": "https://localhost:8080/",
          "height": 364
        },
        "outputId": "3d5827c7-f0bd-48e6-a469-cf22d5da236c"
      },
      "outputs": [
        {
          "output_type": "execute_result",
          "data": {
            "text/plain": [
              "           car_ID   wheelbase   carlength    carwidth   carheight  \\\n",
              "count  205.000000  205.000000  205.000000  205.000000  205.000000   \n",
              "mean   103.000000   98.756585  174.049268   65.907805   53.724878   \n",
              "std     59.322565    6.021776   12.337289    2.145204    2.443522   \n",
              "min      1.000000   86.600000  141.100000   60.300000   47.800000   \n",
              "25%     52.000000   94.500000  166.300000   64.100000   52.000000   \n",
              "50%    103.000000   97.000000  173.200000   65.500000   54.100000   \n",
              "75%    154.000000  102.400000  183.100000   66.900000   55.500000   \n",
              "max    205.000000  120.900000  208.100000   72.300000   59.800000   \n",
              "\n",
              "        curbweight  enginesize   boreratio      stroke  compressionratio  \\\n",
              "count   205.000000  205.000000  205.000000  205.000000        205.000000   \n",
              "mean   2555.565854  126.907317    3.329756    3.255415         10.142537   \n",
              "std     520.680204   41.642693    0.270844    0.313597          3.972040   \n",
              "min    1488.000000   61.000000    2.540000    2.070000          7.000000   \n",
              "25%    2145.000000   97.000000    3.150000    3.110000          8.600000   \n",
              "50%    2414.000000  120.000000    3.310000    3.290000          9.000000   \n",
              "75%    2935.000000  141.000000    3.580000    3.410000          9.400000   \n",
              "max    4066.000000  326.000000    3.940000    4.170000         23.000000   \n",
              "\n",
              "       horsepower      peakrpm     citympg  highwaympg         price  \n",
              "count  205.000000   205.000000  205.000000  205.000000    205.000000  \n",
              "mean   104.117073  5125.121951   25.219512   30.751220  13276.710571  \n",
              "std     39.544167   476.985643    6.542142    6.886443   7988.852332  \n",
              "min     48.000000  4150.000000   13.000000   16.000000   5118.000000  \n",
              "25%     70.000000  4800.000000   19.000000   25.000000   7788.000000  \n",
              "50%     95.000000  5200.000000   24.000000   30.000000  10295.000000  \n",
              "75%    116.000000  5500.000000   30.000000   34.000000  16503.000000  \n",
              "max    288.000000  6600.000000   49.000000   54.000000  45400.000000  "
            ],
            "text/html": [
              "\n",
              "  <div id=\"df-fdfb0082-47d7-4350-a0b8-d1a1a0d4c3b3\">\n",
              "    <div class=\"colab-df-container\">\n",
              "      <div>\n",
              "<style scoped>\n",
              "    .dataframe tbody tr th:only-of-type {\n",
              "        vertical-align: middle;\n",
              "    }\n",
              "\n",
              "    .dataframe tbody tr th {\n",
              "        vertical-align: top;\n",
              "    }\n",
              "\n",
              "    .dataframe thead th {\n",
              "        text-align: right;\n",
              "    }\n",
              "</style>\n",
              "<table border=\"1\" class=\"dataframe\">\n",
              "  <thead>\n",
              "    <tr style=\"text-align: right;\">\n",
              "      <th></th>\n",
              "      <th>car_ID</th>\n",
              "      <th>wheelbase</th>\n",
              "      <th>carlength</th>\n",
              "      <th>carwidth</th>\n",
              "      <th>carheight</th>\n",
              "      <th>curbweight</th>\n",
              "      <th>enginesize</th>\n",
              "      <th>boreratio</th>\n",
              "      <th>stroke</th>\n",
              "      <th>compressionratio</th>\n",
              "      <th>horsepower</th>\n",
              "      <th>peakrpm</th>\n",
              "      <th>citympg</th>\n",
              "      <th>highwaympg</th>\n",
              "      <th>price</th>\n",
              "    </tr>\n",
              "  </thead>\n",
              "  <tbody>\n",
              "    <tr>\n",
              "      <th>count</th>\n",
              "      <td>205.000000</td>\n",
              "      <td>205.000000</td>\n",
              "      <td>205.000000</td>\n",
              "      <td>205.000000</td>\n",
              "      <td>205.000000</td>\n",
              "      <td>205.000000</td>\n",
              "      <td>205.000000</td>\n",
              "      <td>205.000000</td>\n",
              "      <td>205.000000</td>\n",
              "      <td>205.000000</td>\n",
              "      <td>205.000000</td>\n",
              "      <td>205.000000</td>\n",
              "      <td>205.000000</td>\n",
              "      <td>205.000000</td>\n",
              "      <td>205.000000</td>\n",
              "    </tr>\n",
              "    <tr>\n",
              "      <th>mean</th>\n",
              "      <td>103.000000</td>\n",
              "      <td>98.756585</td>\n",
              "      <td>174.049268</td>\n",
              "      <td>65.907805</td>\n",
              "      <td>53.724878</td>\n",
              "      <td>2555.565854</td>\n",
              "      <td>126.907317</td>\n",
              "      <td>3.329756</td>\n",
              "      <td>3.255415</td>\n",
              "      <td>10.142537</td>\n",
              "      <td>104.117073</td>\n",
              "      <td>5125.121951</td>\n",
              "      <td>25.219512</td>\n",
              "      <td>30.751220</td>\n",
              "      <td>13276.710571</td>\n",
              "    </tr>\n",
              "    <tr>\n",
              "      <th>std</th>\n",
              "      <td>59.322565</td>\n",
              "      <td>6.021776</td>\n",
              "      <td>12.337289</td>\n",
              "      <td>2.145204</td>\n",
              "      <td>2.443522</td>\n",
              "      <td>520.680204</td>\n",
              "      <td>41.642693</td>\n",
              "      <td>0.270844</td>\n",
              "      <td>0.313597</td>\n",
              "      <td>3.972040</td>\n",
              "      <td>39.544167</td>\n",
              "      <td>476.985643</td>\n",
              "      <td>6.542142</td>\n",
              "      <td>6.886443</td>\n",
              "      <td>7988.852332</td>\n",
              "    </tr>\n",
              "    <tr>\n",
              "      <th>min</th>\n",
              "      <td>1.000000</td>\n",
              "      <td>86.600000</td>\n",
              "      <td>141.100000</td>\n",
              "      <td>60.300000</td>\n",
              "      <td>47.800000</td>\n",
              "      <td>1488.000000</td>\n",
              "      <td>61.000000</td>\n",
              "      <td>2.540000</td>\n",
              "      <td>2.070000</td>\n",
              "      <td>7.000000</td>\n",
              "      <td>48.000000</td>\n",
              "      <td>4150.000000</td>\n",
              "      <td>13.000000</td>\n",
              "      <td>16.000000</td>\n",
              "      <td>5118.000000</td>\n",
              "    </tr>\n",
              "    <tr>\n",
              "      <th>25%</th>\n",
              "      <td>52.000000</td>\n",
              "      <td>94.500000</td>\n",
              "      <td>166.300000</td>\n",
              "      <td>64.100000</td>\n",
              "      <td>52.000000</td>\n",
              "      <td>2145.000000</td>\n",
              "      <td>97.000000</td>\n",
              "      <td>3.150000</td>\n",
              "      <td>3.110000</td>\n",
              "      <td>8.600000</td>\n",
              "      <td>70.000000</td>\n",
              "      <td>4800.000000</td>\n",
              "      <td>19.000000</td>\n",
              "      <td>25.000000</td>\n",
              "      <td>7788.000000</td>\n",
              "    </tr>\n",
              "    <tr>\n",
              "      <th>50%</th>\n",
              "      <td>103.000000</td>\n",
              "      <td>97.000000</td>\n",
              "      <td>173.200000</td>\n",
              "      <td>65.500000</td>\n",
              "      <td>54.100000</td>\n",
              "      <td>2414.000000</td>\n",
              "      <td>120.000000</td>\n",
              "      <td>3.310000</td>\n",
              "      <td>3.290000</td>\n",
              "      <td>9.000000</td>\n",
              "      <td>95.000000</td>\n",
              "      <td>5200.000000</td>\n",
              "      <td>24.000000</td>\n",
              "      <td>30.000000</td>\n",
              "      <td>10295.000000</td>\n",
              "    </tr>\n",
              "    <tr>\n",
              "      <th>75%</th>\n",
              "      <td>154.000000</td>\n",
              "      <td>102.400000</td>\n",
              "      <td>183.100000</td>\n",
              "      <td>66.900000</td>\n",
              "      <td>55.500000</td>\n",
              "      <td>2935.000000</td>\n",
              "      <td>141.000000</td>\n",
              "      <td>3.580000</td>\n",
              "      <td>3.410000</td>\n",
              "      <td>9.400000</td>\n",
              "      <td>116.000000</td>\n",
              "      <td>5500.000000</td>\n",
              "      <td>30.000000</td>\n",
              "      <td>34.000000</td>\n",
              "      <td>16503.000000</td>\n",
              "    </tr>\n",
              "    <tr>\n",
              "      <th>max</th>\n",
              "      <td>205.000000</td>\n",
              "      <td>120.900000</td>\n",
              "      <td>208.100000</td>\n",
              "      <td>72.300000</td>\n",
              "      <td>59.800000</td>\n",
              "      <td>4066.000000</td>\n",
              "      <td>326.000000</td>\n",
              "      <td>3.940000</td>\n",
              "      <td>4.170000</td>\n",
              "      <td>23.000000</td>\n",
              "      <td>288.000000</td>\n",
              "      <td>6600.000000</td>\n",
              "      <td>49.000000</td>\n",
              "      <td>54.000000</td>\n",
              "      <td>45400.000000</td>\n",
              "    </tr>\n",
              "  </tbody>\n",
              "</table>\n",
              "</div>\n",
              "      <button class=\"colab-df-convert\" onclick=\"convertToInteractive('df-fdfb0082-47d7-4350-a0b8-d1a1a0d4c3b3')\"\n",
              "              title=\"Convert this dataframe to an interactive table.\"\n",
              "              style=\"display:none;\">\n",
              "        \n",
              "  <svg xmlns=\"http://www.w3.org/2000/svg\" height=\"24px\"viewBox=\"0 0 24 24\"\n",
              "       width=\"24px\">\n",
              "    <path d=\"M0 0h24v24H0V0z\" fill=\"none\"/>\n",
              "    <path d=\"M18.56 5.44l.94 2.06.94-2.06 2.06-.94-2.06-.94-.94-2.06-.94 2.06-2.06.94zm-11 1L8.5 8.5l.94-2.06 2.06-.94-2.06-.94L8.5 2.5l-.94 2.06-2.06.94zm10 10l.94 2.06.94-2.06 2.06-.94-2.06-.94-.94-2.06-.94 2.06-2.06.94z\"/><path d=\"M17.41 7.96l-1.37-1.37c-.4-.4-.92-.59-1.43-.59-.52 0-1.04.2-1.43.59L10.3 9.45l-7.72 7.72c-.78.78-.78 2.05 0 2.83L4 21.41c.39.39.9.59 1.41.59.51 0 1.02-.2 1.41-.59l7.78-7.78 2.81-2.81c.8-.78.8-2.07 0-2.86zM5.41 20L4 18.59l7.72-7.72 1.47 1.35L5.41 20z\"/>\n",
              "  </svg>\n",
              "      </button>\n",
              "      \n",
              "  <style>\n",
              "    .colab-df-container {\n",
              "      display:flex;\n",
              "      flex-wrap:wrap;\n",
              "      gap: 12px;\n",
              "    }\n",
              "\n",
              "    .colab-df-convert {\n",
              "      background-color: #E8F0FE;\n",
              "      border: none;\n",
              "      border-radius: 50%;\n",
              "      cursor: pointer;\n",
              "      display: none;\n",
              "      fill: #1967D2;\n",
              "      height: 32px;\n",
              "      padding: 0 0 0 0;\n",
              "      width: 32px;\n",
              "    }\n",
              "\n",
              "    .colab-df-convert:hover {\n",
              "      background-color: #E2EBFA;\n",
              "      box-shadow: 0px 1px 2px rgba(60, 64, 67, 0.3), 0px 1px 3px 1px rgba(60, 64, 67, 0.15);\n",
              "      fill: #174EA6;\n",
              "    }\n",
              "\n",
              "    [theme=dark] .colab-df-convert {\n",
              "      background-color: #3B4455;\n",
              "      fill: #D2E3FC;\n",
              "    }\n",
              "\n",
              "    [theme=dark] .colab-df-convert:hover {\n",
              "      background-color: #434B5C;\n",
              "      box-shadow: 0px 1px 3px 1px rgba(0, 0, 0, 0.15);\n",
              "      filter: drop-shadow(0px 1px 2px rgba(0, 0, 0, 0.3));\n",
              "      fill: #FFFFFF;\n",
              "    }\n",
              "  </style>\n",
              "\n",
              "      <script>\n",
              "        const buttonEl =\n",
              "          document.querySelector('#df-fdfb0082-47d7-4350-a0b8-d1a1a0d4c3b3 button.colab-df-convert');\n",
              "        buttonEl.style.display =\n",
              "          google.colab.kernel.accessAllowed ? 'block' : 'none';\n",
              "\n",
              "        async function convertToInteractive(key) {\n",
              "          const element = document.querySelector('#df-fdfb0082-47d7-4350-a0b8-d1a1a0d4c3b3');\n",
              "          const dataTable =\n",
              "            await google.colab.kernel.invokeFunction('convertToInteractive',\n",
              "                                                     [key], {});\n",
              "          if (!dataTable) return;\n",
              "\n",
              "          const docLinkHtml = 'Like what you see? Visit the ' +\n",
              "            '<a target=\"_blank\" href=https://colab.research.google.com/notebooks/data_table.ipynb>data table notebook</a>'\n",
              "            + ' to learn more about interactive tables.';\n",
              "          element.innerHTML = '';\n",
              "          dataTable['output_type'] = 'display_data';\n",
              "          await google.colab.output.renderOutput(dataTable, element);\n",
              "          const docLink = document.createElement('div');\n",
              "          docLink.innerHTML = docLinkHtml;\n",
              "          element.appendChild(docLink);\n",
              "        }\n",
              "      </script>\n",
              "    </div>\n",
              "  </div>\n",
              "  "
            ]
          },
          "metadata": {},
          "execution_count": 267
        }
      ],
      "source": [
        "# cars statistical discription\n",
        "cars.describe()"
      ]
    },
    {
      "cell_type": "markdown",
      "metadata": {
        "id": "w_zfLXqRFXHF"
      },
      "source": [
        "## 3. Data Preparation \n",
        "\n",
        "<p style='text-align: right;'> points= 8</p>\n",
        "\n",
        "\n",
        "#### Data Preparation\n",
        "\n",
        "Let's now prepare the data and build the model.\n",
        "\n",
        "split into X and y\n"
      ]
    },
    {
      "cell_type": "code",
      "execution_count": null,
      "metadata": {
        "id": "fVBPuo4EFXHG"
      },
      "outputs": [],
      "source": [
        "#Define X\n",
        "X = cars.drop('price',axis=1)\n",
        "\n",
        "\n",
        "# Define y\n",
        "Y = cars['price']"
      ]
    },
    {
      "cell_type": "markdown",
      "metadata": {
        "id": "iPT8-nneFXHH"
      },
      "source": [
        "### Creating dummy variables for categorical variables\n"
      ]
    },
    {
      "cell_type": "code",
      "execution_count": null,
      "metadata": {
        "id": "C0VXZHLEFXHI",
        "colab": {
          "base_uri": "https://localhost:8080/",
          "height": 206
        },
        "outputId": "0f5913e1-170d-4ae3-c3aa-e0e03c7ededa"
      },
      "outputs": [
        {
          "output_type": "execute_result",
          "data": {
            "text/plain": [
              "  symboling fueltype aspiration doornumber      carbody drivewheel  \\\n",
              "0         3      gas        std        two  convertible        rwd   \n",
              "1         3      gas        std        two  convertible        rwd   \n",
              "2         1      gas        std        two    hatchback        rwd   \n",
              "3         2      gas        std       four        sedan        fwd   \n",
              "4         2      gas        std       four        sedan        4wd   \n",
              "\n",
              "  enginelocation enginetype cylindernumber fuelsystem  car_company  \n",
              "0          front       dohc           four       mpfi  alfa-romero  \n",
              "1          front       dohc           four       mpfi  alfa-romero  \n",
              "2          front       ohcv            six       mpfi  alfa-romero  \n",
              "3          front        ohc           four       mpfi         audi  \n",
              "4          front        ohc           five       mpfi         audi  "
            ],
            "text/html": [
              "\n",
              "  <div id=\"df-15e6370f-0174-4bcf-8190-d23dee6cbdde\">\n",
              "    <div class=\"colab-df-container\">\n",
              "      <div>\n",
              "<style scoped>\n",
              "    .dataframe tbody tr th:only-of-type {\n",
              "        vertical-align: middle;\n",
              "    }\n",
              "\n",
              "    .dataframe tbody tr th {\n",
              "        vertical-align: top;\n",
              "    }\n",
              "\n",
              "    .dataframe thead th {\n",
              "        text-align: right;\n",
              "    }\n",
              "</style>\n",
              "<table border=\"1\" class=\"dataframe\">\n",
              "  <thead>\n",
              "    <tr style=\"text-align: right;\">\n",
              "      <th></th>\n",
              "      <th>symboling</th>\n",
              "      <th>fueltype</th>\n",
              "      <th>aspiration</th>\n",
              "      <th>doornumber</th>\n",
              "      <th>carbody</th>\n",
              "      <th>drivewheel</th>\n",
              "      <th>enginelocation</th>\n",
              "      <th>enginetype</th>\n",
              "      <th>cylindernumber</th>\n",
              "      <th>fuelsystem</th>\n",
              "      <th>car_company</th>\n",
              "    </tr>\n",
              "  </thead>\n",
              "  <tbody>\n",
              "    <tr>\n",
              "      <th>0</th>\n",
              "      <td>3</td>\n",
              "      <td>gas</td>\n",
              "      <td>std</td>\n",
              "      <td>two</td>\n",
              "      <td>convertible</td>\n",
              "      <td>rwd</td>\n",
              "      <td>front</td>\n",
              "      <td>dohc</td>\n",
              "      <td>four</td>\n",
              "      <td>mpfi</td>\n",
              "      <td>alfa-romero</td>\n",
              "    </tr>\n",
              "    <tr>\n",
              "      <th>1</th>\n",
              "      <td>3</td>\n",
              "      <td>gas</td>\n",
              "      <td>std</td>\n",
              "      <td>two</td>\n",
              "      <td>convertible</td>\n",
              "      <td>rwd</td>\n",
              "      <td>front</td>\n",
              "      <td>dohc</td>\n",
              "      <td>four</td>\n",
              "      <td>mpfi</td>\n",
              "      <td>alfa-romero</td>\n",
              "    </tr>\n",
              "    <tr>\n",
              "      <th>2</th>\n",
              "      <td>1</td>\n",
              "      <td>gas</td>\n",
              "      <td>std</td>\n",
              "      <td>two</td>\n",
              "      <td>hatchback</td>\n",
              "      <td>rwd</td>\n",
              "      <td>front</td>\n",
              "      <td>ohcv</td>\n",
              "      <td>six</td>\n",
              "      <td>mpfi</td>\n",
              "      <td>alfa-romero</td>\n",
              "    </tr>\n",
              "    <tr>\n",
              "      <th>3</th>\n",
              "      <td>2</td>\n",
              "      <td>gas</td>\n",
              "      <td>std</td>\n",
              "      <td>four</td>\n",
              "      <td>sedan</td>\n",
              "      <td>fwd</td>\n",
              "      <td>front</td>\n",
              "      <td>ohc</td>\n",
              "      <td>four</td>\n",
              "      <td>mpfi</td>\n",
              "      <td>audi</td>\n",
              "    </tr>\n",
              "    <tr>\n",
              "      <th>4</th>\n",
              "      <td>2</td>\n",
              "      <td>gas</td>\n",
              "      <td>std</td>\n",
              "      <td>four</td>\n",
              "      <td>sedan</td>\n",
              "      <td>4wd</td>\n",
              "      <td>front</td>\n",
              "      <td>ohc</td>\n",
              "      <td>five</td>\n",
              "      <td>mpfi</td>\n",
              "      <td>audi</td>\n",
              "    </tr>\n",
              "  </tbody>\n",
              "</table>\n",
              "</div>\n",
              "      <button class=\"colab-df-convert\" onclick=\"convertToInteractive('df-15e6370f-0174-4bcf-8190-d23dee6cbdde')\"\n",
              "              title=\"Convert this dataframe to an interactive table.\"\n",
              "              style=\"display:none;\">\n",
              "        \n",
              "  <svg xmlns=\"http://www.w3.org/2000/svg\" height=\"24px\"viewBox=\"0 0 24 24\"\n",
              "       width=\"24px\">\n",
              "    <path d=\"M0 0h24v24H0V0z\" fill=\"none\"/>\n",
              "    <path d=\"M18.56 5.44l.94 2.06.94-2.06 2.06-.94-2.06-.94-.94-2.06-.94 2.06-2.06.94zm-11 1L8.5 8.5l.94-2.06 2.06-.94-2.06-.94L8.5 2.5l-.94 2.06-2.06.94zm10 10l.94 2.06.94-2.06 2.06-.94-2.06-.94-.94-2.06-.94 2.06-2.06.94z\"/><path d=\"M17.41 7.96l-1.37-1.37c-.4-.4-.92-.59-1.43-.59-.52 0-1.04.2-1.43.59L10.3 9.45l-7.72 7.72c-.78.78-.78 2.05 0 2.83L4 21.41c.39.39.9.59 1.41.59.51 0 1.02-.2 1.41-.59l7.78-7.78 2.81-2.81c.8-.78.8-2.07 0-2.86zM5.41 20L4 18.59l7.72-7.72 1.47 1.35L5.41 20z\"/>\n",
              "  </svg>\n",
              "      </button>\n",
              "      \n",
              "  <style>\n",
              "    .colab-df-container {\n",
              "      display:flex;\n",
              "      flex-wrap:wrap;\n",
              "      gap: 12px;\n",
              "    }\n",
              "\n",
              "    .colab-df-convert {\n",
              "      background-color: #E8F0FE;\n",
              "      border: none;\n",
              "      border-radius: 50%;\n",
              "      cursor: pointer;\n",
              "      display: none;\n",
              "      fill: #1967D2;\n",
              "      height: 32px;\n",
              "      padding: 0 0 0 0;\n",
              "      width: 32px;\n",
              "    }\n",
              "\n",
              "    .colab-df-convert:hover {\n",
              "      background-color: #E2EBFA;\n",
              "      box-shadow: 0px 1px 2px rgba(60, 64, 67, 0.3), 0px 1px 3px 1px rgba(60, 64, 67, 0.15);\n",
              "      fill: #174EA6;\n",
              "    }\n",
              "\n",
              "    [theme=dark] .colab-df-convert {\n",
              "      background-color: #3B4455;\n",
              "      fill: #D2E3FC;\n",
              "    }\n",
              "\n",
              "    [theme=dark] .colab-df-convert:hover {\n",
              "      background-color: #434B5C;\n",
              "      box-shadow: 0px 1px 3px 1px rgba(0, 0, 0, 0.15);\n",
              "      filter: drop-shadow(0px 1px 2px rgba(0, 0, 0, 0.3));\n",
              "      fill: #FFFFFF;\n",
              "    }\n",
              "  </style>\n",
              "\n",
              "      <script>\n",
              "        const buttonEl =\n",
              "          document.querySelector('#df-15e6370f-0174-4bcf-8190-d23dee6cbdde button.colab-df-convert');\n",
              "        buttonEl.style.display =\n",
              "          google.colab.kernel.accessAllowed ? 'block' : 'none';\n",
              "\n",
              "        async function convertToInteractive(key) {\n",
              "          const element = document.querySelector('#df-15e6370f-0174-4bcf-8190-d23dee6cbdde');\n",
              "          const dataTable =\n",
              "            await google.colab.kernel.invokeFunction('convertToInteractive',\n",
              "                                                     [key], {});\n",
              "          if (!dataTable) return;\n",
              "\n",
              "          const docLinkHtml = 'Like what you see? Visit the ' +\n",
              "            '<a target=\"_blank\" href=https://colab.research.google.com/notebooks/data_table.ipynb>data table notebook</a>'\n",
              "            + ' to learn more about interactive tables.';\n",
              "          element.innerHTML = '';\n",
              "          dataTable['output_type'] = 'display_data';\n",
              "          await google.colab.output.renderOutput(dataTable, element);\n",
              "          const docLink = document.createElement('div');\n",
              "          docLink.innerHTML = docLinkHtml;\n",
              "          element.appendChild(docLink);\n",
              "        }\n",
              "      </script>\n",
              "    </div>\n",
              "  </div>\n",
              "  "
            ]
          },
          "metadata": {},
          "execution_count": 269
        }
      ],
      "source": [
        "# subset all categorical variables\n",
        "cars_categorical = cars[cars.columns[cars.dtypes=='object']]\n",
        "\n",
        "\n",
        "# cars_categorical head\n",
        "cars_categorical.head()\n"
      ]
    },
    {
      "cell_type": "code",
      "execution_count": null,
      "metadata": {
        "id": "uhozhlMpFXHI",
        "colab": {
          "base_uri": "https://localhost:8080/",
          "height": 299
        },
        "outputId": "24d31565-1e38-4bf8-8d7a-0b457b2f30be"
      },
      "outputs": [
        {
          "output_type": "execute_result",
          "data": {
            "text/plain": [
              "   symboling_-1  symboling_-2  symboling_0  symboling_1  symboling_2  \\\n",
              "0             0             0            0            0            0   \n",
              "1             0             0            0            0            0   \n",
              "2             0             0            0            1            0   \n",
              "3             0             0            0            0            1   \n",
              "4             0             0            0            0            1   \n",
              "\n",
              "   symboling_3  fueltype_diesel  fueltype_gas  aspiration_std  \\\n",
              "0            1                0             1               1   \n",
              "1            1                0             1               1   \n",
              "2            0                0             1               1   \n",
              "3            0                0             1               1   \n",
              "4            0                0             1               1   \n",
              "\n",
              "   aspiration_turbo  ...  car_company_nissan  car_company_peugeot  \\\n",
              "0                 0  ...                   0                    0   \n",
              "1                 0  ...                   0                    0   \n",
              "2                 0  ...                   0                    0   \n",
              "3                 0  ...                   0                    0   \n",
              "4                 0  ...                   0                    0   \n",
              "\n",
              "   car_company_plymouth  car_company_porsche  car_company_renault  \\\n",
              "0                     0                    0                    0   \n",
              "1                     0                    0                    0   \n",
              "2                     0                    0                    0   \n",
              "3                     0                    0                    0   \n",
              "4                     0                    0                    0   \n",
              "\n",
              "   car_company_saab  car_company_subaru  car_company_toyota  \\\n",
              "0                 0                   0                   0   \n",
              "1                 0                   0                   0   \n",
              "2                 0                   0                   0   \n",
              "3                 0                   0                   0   \n",
              "4                 0                   0                   0   \n",
              "\n",
              "   car_company_volkswagen  car_company_volvo  \n",
              "0                       0                  0  \n",
              "1                       0                  0  \n",
              "2                       0                  0  \n",
              "3                       0                  0  \n",
              "4                       0                  0  \n",
              "\n",
              "[5 rows x 66 columns]"
            ],
            "text/html": [
              "\n",
              "  <div id=\"df-97c6c5cb-bc34-4baa-a786-e09a5f496592\">\n",
              "    <div class=\"colab-df-container\">\n",
              "      <div>\n",
              "<style scoped>\n",
              "    .dataframe tbody tr th:only-of-type {\n",
              "        vertical-align: middle;\n",
              "    }\n",
              "\n",
              "    .dataframe tbody tr th {\n",
              "        vertical-align: top;\n",
              "    }\n",
              "\n",
              "    .dataframe thead th {\n",
              "        text-align: right;\n",
              "    }\n",
              "</style>\n",
              "<table border=\"1\" class=\"dataframe\">\n",
              "  <thead>\n",
              "    <tr style=\"text-align: right;\">\n",
              "      <th></th>\n",
              "      <th>symboling_-1</th>\n",
              "      <th>symboling_-2</th>\n",
              "      <th>symboling_0</th>\n",
              "      <th>symboling_1</th>\n",
              "      <th>symboling_2</th>\n",
              "      <th>symboling_3</th>\n",
              "      <th>fueltype_diesel</th>\n",
              "      <th>fueltype_gas</th>\n",
              "      <th>aspiration_std</th>\n",
              "      <th>aspiration_turbo</th>\n",
              "      <th>...</th>\n",
              "      <th>car_company_nissan</th>\n",
              "      <th>car_company_peugeot</th>\n",
              "      <th>car_company_plymouth</th>\n",
              "      <th>car_company_porsche</th>\n",
              "      <th>car_company_renault</th>\n",
              "      <th>car_company_saab</th>\n",
              "      <th>car_company_subaru</th>\n",
              "      <th>car_company_toyota</th>\n",
              "      <th>car_company_volkswagen</th>\n",
              "      <th>car_company_volvo</th>\n",
              "    </tr>\n",
              "  </thead>\n",
              "  <tbody>\n",
              "    <tr>\n",
              "      <th>0</th>\n",
              "      <td>0</td>\n",
              "      <td>0</td>\n",
              "      <td>0</td>\n",
              "      <td>0</td>\n",
              "      <td>0</td>\n",
              "      <td>1</td>\n",
              "      <td>0</td>\n",
              "      <td>1</td>\n",
              "      <td>1</td>\n",
              "      <td>0</td>\n",
              "      <td>...</td>\n",
              "      <td>0</td>\n",
              "      <td>0</td>\n",
              "      <td>0</td>\n",
              "      <td>0</td>\n",
              "      <td>0</td>\n",
              "      <td>0</td>\n",
              "      <td>0</td>\n",
              "      <td>0</td>\n",
              "      <td>0</td>\n",
              "      <td>0</td>\n",
              "    </tr>\n",
              "    <tr>\n",
              "      <th>1</th>\n",
              "      <td>0</td>\n",
              "      <td>0</td>\n",
              "      <td>0</td>\n",
              "      <td>0</td>\n",
              "      <td>0</td>\n",
              "      <td>1</td>\n",
              "      <td>0</td>\n",
              "      <td>1</td>\n",
              "      <td>1</td>\n",
              "      <td>0</td>\n",
              "      <td>...</td>\n",
              "      <td>0</td>\n",
              "      <td>0</td>\n",
              "      <td>0</td>\n",
              "      <td>0</td>\n",
              "      <td>0</td>\n",
              "      <td>0</td>\n",
              "      <td>0</td>\n",
              "      <td>0</td>\n",
              "      <td>0</td>\n",
              "      <td>0</td>\n",
              "    </tr>\n",
              "    <tr>\n",
              "      <th>2</th>\n",
              "      <td>0</td>\n",
              "      <td>0</td>\n",
              "      <td>0</td>\n",
              "      <td>1</td>\n",
              "      <td>0</td>\n",
              "      <td>0</td>\n",
              "      <td>0</td>\n",
              "      <td>1</td>\n",
              "      <td>1</td>\n",
              "      <td>0</td>\n",
              "      <td>...</td>\n",
              "      <td>0</td>\n",
              "      <td>0</td>\n",
              "      <td>0</td>\n",
              "      <td>0</td>\n",
              "      <td>0</td>\n",
              "      <td>0</td>\n",
              "      <td>0</td>\n",
              "      <td>0</td>\n",
              "      <td>0</td>\n",
              "      <td>0</td>\n",
              "    </tr>\n",
              "    <tr>\n",
              "      <th>3</th>\n",
              "      <td>0</td>\n",
              "      <td>0</td>\n",
              "      <td>0</td>\n",
              "      <td>0</td>\n",
              "      <td>1</td>\n",
              "      <td>0</td>\n",
              "      <td>0</td>\n",
              "      <td>1</td>\n",
              "      <td>1</td>\n",
              "      <td>0</td>\n",
              "      <td>...</td>\n",
              "      <td>0</td>\n",
              "      <td>0</td>\n",
              "      <td>0</td>\n",
              "      <td>0</td>\n",
              "      <td>0</td>\n",
              "      <td>0</td>\n",
              "      <td>0</td>\n",
              "      <td>0</td>\n",
              "      <td>0</td>\n",
              "      <td>0</td>\n",
              "    </tr>\n",
              "    <tr>\n",
              "      <th>4</th>\n",
              "      <td>0</td>\n",
              "      <td>0</td>\n",
              "      <td>0</td>\n",
              "      <td>0</td>\n",
              "      <td>1</td>\n",
              "      <td>0</td>\n",
              "      <td>0</td>\n",
              "      <td>1</td>\n",
              "      <td>1</td>\n",
              "      <td>0</td>\n",
              "      <td>...</td>\n",
              "      <td>0</td>\n",
              "      <td>0</td>\n",
              "      <td>0</td>\n",
              "      <td>0</td>\n",
              "      <td>0</td>\n",
              "      <td>0</td>\n",
              "      <td>0</td>\n",
              "      <td>0</td>\n",
              "      <td>0</td>\n",
              "      <td>0</td>\n",
              "    </tr>\n",
              "  </tbody>\n",
              "</table>\n",
              "<p>5 rows × 66 columns</p>\n",
              "</div>\n",
              "      <button class=\"colab-df-convert\" onclick=\"convertToInteractive('df-97c6c5cb-bc34-4baa-a786-e09a5f496592')\"\n",
              "              title=\"Convert this dataframe to an interactive table.\"\n",
              "              style=\"display:none;\">\n",
              "        \n",
              "  <svg xmlns=\"http://www.w3.org/2000/svg\" height=\"24px\"viewBox=\"0 0 24 24\"\n",
              "       width=\"24px\">\n",
              "    <path d=\"M0 0h24v24H0V0z\" fill=\"none\"/>\n",
              "    <path d=\"M18.56 5.44l.94 2.06.94-2.06 2.06-.94-2.06-.94-.94-2.06-.94 2.06-2.06.94zm-11 1L8.5 8.5l.94-2.06 2.06-.94-2.06-.94L8.5 2.5l-.94 2.06-2.06.94zm10 10l.94 2.06.94-2.06 2.06-.94-2.06-.94-.94-2.06-.94 2.06-2.06.94z\"/><path d=\"M17.41 7.96l-1.37-1.37c-.4-.4-.92-.59-1.43-.59-.52 0-1.04.2-1.43.59L10.3 9.45l-7.72 7.72c-.78.78-.78 2.05 0 2.83L4 21.41c.39.39.9.59 1.41.59.51 0 1.02-.2 1.41-.59l7.78-7.78 2.81-2.81c.8-.78.8-2.07 0-2.86zM5.41 20L4 18.59l7.72-7.72 1.47 1.35L5.41 20z\"/>\n",
              "  </svg>\n",
              "      </button>\n",
              "      \n",
              "  <style>\n",
              "    .colab-df-container {\n",
              "      display:flex;\n",
              "      flex-wrap:wrap;\n",
              "      gap: 12px;\n",
              "    }\n",
              "\n",
              "    .colab-df-convert {\n",
              "      background-color: #E8F0FE;\n",
              "      border: none;\n",
              "      border-radius: 50%;\n",
              "      cursor: pointer;\n",
              "      display: none;\n",
              "      fill: #1967D2;\n",
              "      height: 32px;\n",
              "      padding: 0 0 0 0;\n",
              "      width: 32px;\n",
              "    }\n",
              "\n",
              "    .colab-df-convert:hover {\n",
              "      background-color: #E2EBFA;\n",
              "      box-shadow: 0px 1px 2px rgba(60, 64, 67, 0.3), 0px 1px 3px 1px rgba(60, 64, 67, 0.15);\n",
              "      fill: #174EA6;\n",
              "    }\n",
              "\n",
              "    [theme=dark] .colab-df-convert {\n",
              "      background-color: #3B4455;\n",
              "      fill: #D2E3FC;\n",
              "    }\n",
              "\n",
              "    [theme=dark] .colab-df-convert:hover {\n",
              "      background-color: #434B5C;\n",
              "      box-shadow: 0px 1px 3px 1px rgba(0, 0, 0, 0.15);\n",
              "      filter: drop-shadow(0px 1px 2px rgba(0, 0, 0, 0.3));\n",
              "      fill: #FFFFFF;\n",
              "    }\n",
              "  </style>\n",
              "\n",
              "      <script>\n",
              "        const buttonEl =\n",
              "          document.querySelector('#df-97c6c5cb-bc34-4baa-a786-e09a5f496592 button.colab-df-convert');\n",
              "        buttonEl.style.display =\n",
              "          google.colab.kernel.accessAllowed ? 'block' : 'none';\n",
              "\n",
              "        async function convertToInteractive(key) {\n",
              "          const element = document.querySelector('#df-97c6c5cb-bc34-4baa-a786-e09a5f496592');\n",
              "          const dataTable =\n",
              "            await google.colab.kernel.invokeFunction('convertToInteractive',\n",
              "                                                     [key], {});\n",
              "          if (!dataTable) return;\n",
              "\n",
              "          const docLinkHtml = 'Like what you see? Visit the ' +\n",
              "            '<a target=\"_blank\" href=https://colab.research.google.com/notebooks/data_table.ipynb>data table notebook</a>'\n",
              "            + ' to learn more about interactive tables.';\n",
              "          element.innerHTML = '';\n",
              "          dataTable['output_type'] = 'display_data';\n",
              "          await google.colab.output.renderOutput(dataTable, element);\n",
              "          const docLink = document.createElement('div');\n",
              "          docLink.innerHTML = docLinkHtml;\n",
              "          element.appendChild(docLink);\n",
              "        }\n",
              "      </script>\n",
              "    </div>\n",
              "  </div>\n",
              "  "
            ]
          },
          "metadata": {},
          "execution_count": 270
        }
      ],
      "source": [
        "# convert into dummies\n",
        "cars_dummies = pd.get_dummies(cars_categorical)\n",
        "\n",
        "# cars_dummies head\n",
        "\n",
        "cars_dummies.head()"
      ]
    },
    {
      "cell_type": "code",
      "execution_count": null,
      "metadata": {
        "id": "C8bA1aNQFXHJ"
      },
      "outputs": [],
      "source": [
        "# drop categorical variables from X\n",
        "cat_list = X.columns[X.dtypes=='object']\n",
        "X = X.drop(cat_list,axis=1)\n"
      ]
    },
    {
      "cell_type": "code",
      "execution_count": null,
      "metadata": {
        "id": "7rgfC5HPFXHJ",
        "colab": {
          "base_uri": "https://localhost:8080/",
          "height": 487
        },
        "outputId": "2feb5162-87fc-4523-a8f1-6942fab9eefc"
      },
      "outputs": [
        {
          "output_type": "execute_result",
          "data": {
            "text/plain": [
              "     car_ID  wheelbase  carlength  carwidth  carheight  curbweight  \\\n",
              "0         1       88.6      168.8      64.1       48.8        2548   \n",
              "1         2       88.6      168.8      64.1       48.8        2548   \n",
              "2         3       94.5      171.2      65.5       52.4        2823   \n",
              "3         4       99.8      176.6      66.2       54.3        2337   \n",
              "4         5       99.4      176.6      66.4       54.3        2824   \n",
              "..      ...        ...        ...       ...        ...         ...   \n",
              "200     201      109.1      188.8      68.9       55.5        2952   \n",
              "201     202      109.1      188.8      68.8       55.5        3049   \n",
              "202     203      109.1      188.8      68.9       55.5        3012   \n",
              "203     204      109.1      188.8      68.9       55.5        3217   \n",
              "204     205      109.1      188.8      68.9       55.5        3062   \n",
              "\n",
              "     enginesize  boreratio  stroke  compressionratio  ...  car_company_nissan  \\\n",
              "0           130       3.47    2.68               9.0  ...                   0   \n",
              "1           130       3.47    2.68               9.0  ...                   0   \n",
              "2           152       2.68    3.47               9.0  ...                   0   \n",
              "3           109       3.19    3.40              10.0  ...                   0   \n",
              "4           136       3.19    3.40               8.0  ...                   0   \n",
              "..          ...        ...     ...               ...  ...                 ...   \n",
              "200         141       3.78    3.15               9.5  ...                   0   \n",
              "201         141       3.78    3.15               8.7  ...                   0   \n",
              "202         173       3.58    2.87               8.8  ...                   0   \n",
              "203         145       3.01    3.40              23.0  ...                   0   \n",
              "204         141       3.78    3.15               9.5  ...                   0   \n",
              "\n",
              "     car_company_peugeot  car_company_plymouth  car_company_porsche  \\\n",
              "0                      0                     0                    0   \n",
              "1                      0                     0                    0   \n",
              "2                      0                     0                    0   \n",
              "3                      0                     0                    0   \n",
              "4                      0                     0                    0   \n",
              "..                   ...                   ...                  ...   \n",
              "200                    0                     0                    0   \n",
              "201                    0                     0                    0   \n",
              "202                    0                     0                    0   \n",
              "203                    0                     0                    0   \n",
              "204                    0                     0                    0   \n",
              "\n",
              "     car_company_renault  car_company_saab  car_company_subaru  \\\n",
              "0                      0                 0                   0   \n",
              "1                      0                 0                   0   \n",
              "2                      0                 0                   0   \n",
              "3                      0                 0                   0   \n",
              "4                      0                 0                   0   \n",
              "..                   ...               ...                 ...   \n",
              "200                    0                 0                   0   \n",
              "201                    0                 0                   0   \n",
              "202                    0                 0                   0   \n",
              "203                    0                 0                   0   \n",
              "204                    0                 0                   0   \n",
              "\n",
              "     car_company_toyota  car_company_volkswagen  car_company_volvo  \n",
              "0                     0                       0                  0  \n",
              "1                     0                       0                  0  \n",
              "2                     0                       0                  0  \n",
              "3                     0                       0                  0  \n",
              "4                     0                       0                  0  \n",
              "..                  ...                     ...                ...  \n",
              "200                   0                       0                  1  \n",
              "201                   0                       0                  1  \n",
              "202                   0                       0                  1  \n",
              "203                   0                       0                  1  \n",
              "204                   0                       0                  1  \n",
              "\n",
              "[205 rows x 80 columns]"
            ],
            "text/html": [
              "\n",
              "  <div id=\"df-c8e4a89c-ca0d-49a4-95fa-b842615b8245\">\n",
              "    <div class=\"colab-df-container\">\n",
              "      <div>\n",
              "<style scoped>\n",
              "    .dataframe tbody tr th:only-of-type {\n",
              "        vertical-align: middle;\n",
              "    }\n",
              "\n",
              "    .dataframe tbody tr th {\n",
              "        vertical-align: top;\n",
              "    }\n",
              "\n",
              "    .dataframe thead th {\n",
              "        text-align: right;\n",
              "    }\n",
              "</style>\n",
              "<table border=\"1\" class=\"dataframe\">\n",
              "  <thead>\n",
              "    <tr style=\"text-align: right;\">\n",
              "      <th></th>\n",
              "      <th>car_ID</th>\n",
              "      <th>wheelbase</th>\n",
              "      <th>carlength</th>\n",
              "      <th>carwidth</th>\n",
              "      <th>carheight</th>\n",
              "      <th>curbweight</th>\n",
              "      <th>enginesize</th>\n",
              "      <th>boreratio</th>\n",
              "      <th>stroke</th>\n",
              "      <th>compressionratio</th>\n",
              "      <th>...</th>\n",
              "      <th>car_company_nissan</th>\n",
              "      <th>car_company_peugeot</th>\n",
              "      <th>car_company_plymouth</th>\n",
              "      <th>car_company_porsche</th>\n",
              "      <th>car_company_renault</th>\n",
              "      <th>car_company_saab</th>\n",
              "      <th>car_company_subaru</th>\n",
              "      <th>car_company_toyota</th>\n",
              "      <th>car_company_volkswagen</th>\n",
              "      <th>car_company_volvo</th>\n",
              "    </tr>\n",
              "  </thead>\n",
              "  <tbody>\n",
              "    <tr>\n",
              "      <th>0</th>\n",
              "      <td>1</td>\n",
              "      <td>88.6</td>\n",
              "      <td>168.8</td>\n",
              "      <td>64.1</td>\n",
              "      <td>48.8</td>\n",
              "      <td>2548</td>\n",
              "      <td>130</td>\n",
              "      <td>3.47</td>\n",
              "      <td>2.68</td>\n",
              "      <td>9.0</td>\n",
              "      <td>...</td>\n",
              "      <td>0</td>\n",
              "      <td>0</td>\n",
              "      <td>0</td>\n",
              "      <td>0</td>\n",
              "      <td>0</td>\n",
              "      <td>0</td>\n",
              "      <td>0</td>\n",
              "      <td>0</td>\n",
              "      <td>0</td>\n",
              "      <td>0</td>\n",
              "    </tr>\n",
              "    <tr>\n",
              "      <th>1</th>\n",
              "      <td>2</td>\n",
              "      <td>88.6</td>\n",
              "      <td>168.8</td>\n",
              "      <td>64.1</td>\n",
              "      <td>48.8</td>\n",
              "      <td>2548</td>\n",
              "      <td>130</td>\n",
              "      <td>3.47</td>\n",
              "      <td>2.68</td>\n",
              "      <td>9.0</td>\n",
              "      <td>...</td>\n",
              "      <td>0</td>\n",
              "      <td>0</td>\n",
              "      <td>0</td>\n",
              "      <td>0</td>\n",
              "      <td>0</td>\n",
              "      <td>0</td>\n",
              "      <td>0</td>\n",
              "      <td>0</td>\n",
              "      <td>0</td>\n",
              "      <td>0</td>\n",
              "    </tr>\n",
              "    <tr>\n",
              "      <th>2</th>\n",
              "      <td>3</td>\n",
              "      <td>94.5</td>\n",
              "      <td>171.2</td>\n",
              "      <td>65.5</td>\n",
              "      <td>52.4</td>\n",
              "      <td>2823</td>\n",
              "      <td>152</td>\n",
              "      <td>2.68</td>\n",
              "      <td>3.47</td>\n",
              "      <td>9.0</td>\n",
              "      <td>...</td>\n",
              "      <td>0</td>\n",
              "      <td>0</td>\n",
              "      <td>0</td>\n",
              "      <td>0</td>\n",
              "      <td>0</td>\n",
              "      <td>0</td>\n",
              "      <td>0</td>\n",
              "      <td>0</td>\n",
              "      <td>0</td>\n",
              "      <td>0</td>\n",
              "    </tr>\n",
              "    <tr>\n",
              "      <th>3</th>\n",
              "      <td>4</td>\n",
              "      <td>99.8</td>\n",
              "      <td>176.6</td>\n",
              "      <td>66.2</td>\n",
              "      <td>54.3</td>\n",
              "      <td>2337</td>\n",
              "      <td>109</td>\n",
              "      <td>3.19</td>\n",
              "      <td>3.40</td>\n",
              "      <td>10.0</td>\n",
              "      <td>...</td>\n",
              "      <td>0</td>\n",
              "      <td>0</td>\n",
              "      <td>0</td>\n",
              "      <td>0</td>\n",
              "      <td>0</td>\n",
              "      <td>0</td>\n",
              "      <td>0</td>\n",
              "      <td>0</td>\n",
              "      <td>0</td>\n",
              "      <td>0</td>\n",
              "    </tr>\n",
              "    <tr>\n",
              "      <th>4</th>\n",
              "      <td>5</td>\n",
              "      <td>99.4</td>\n",
              "      <td>176.6</td>\n",
              "      <td>66.4</td>\n",
              "      <td>54.3</td>\n",
              "      <td>2824</td>\n",
              "      <td>136</td>\n",
              "      <td>3.19</td>\n",
              "      <td>3.40</td>\n",
              "      <td>8.0</td>\n",
              "      <td>...</td>\n",
              "      <td>0</td>\n",
              "      <td>0</td>\n",
              "      <td>0</td>\n",
              "      <td>0</td>\n",
              "      <td>0</td>\n",
              "      <td>0</td>\n",
              "      <td>0</td>\n",
              "      <td>0</td>\n",
              "      <td>0</td>\n",
              "      <td>0</td>\n",
              "    </tr>\n",
              "    <tr>\n",
              "      <th>...</th>\n",
              "      <td>...</td>\n",
              "      <td>...</td>\n",
              "      <td>...</td>\n",
              "      <td>...</td>\n",
              "      <td>...</td>\n",
              "      <td>...</td>\n",
              "      <td>...</td>\n",
              "      <td>...</td>\n",
              "      <td>...</td>\n",
              "      <td>...</td>\n",
              "      <td>...</td>\n",
              "      <td>...</td>\n",
              "      <td>...</td>\n",
              "      <td>...</td>\n",
              "      <td>...</td>\n",
              "      <td>...</td>\n",
              "      <td>...</td>\n",
              "      <td>...</td>\n",
              "      <td>...</td>\n",
              "      <td>...</td>\n",
              "      <td>...</td>\n",
              "    </tr>\n",
              "    <tr>\n",
              "      <th>200</th>\n",
              "      <td>201</td>\n",
              "      <td>109.1</td>\n",
              "      <td>188.8</td>\n",
              "      <td>68.9</td>\n",
              "      <td>55.5</td>\n",
              "      <td>2952</td>\n",
              "      <td>141</td>\n",
              "      <td>3.78</td>\n",
              "      <td>3.15</td>\n",
              "      <td>9.5</td>\n",
              "      <td>...</td>\n",
              "      <td>0</td>\n",
              "      <td>0</td>\n",
              "      <td>0</td>\n",
              "      <td>0</td>\n",
              "      <td>0</td>\n",
              "      <td>0</td>\n",
              "      <td>0</td>\n",
              "      <td>0</td>\n",
              "      <td>0</td>\n",
              "      <td>1</td>\n",
              "    </tr>\n",
              "    <tr>\n",
              "      <th>201</th>\n",
              "      <td>202</td>\n",
              "      <td>109.1</td>\n",
              "      <td>188.8</td>\n",
              "      <td>68.8</td>\n",
              "      <td>55.5</td>\n",
              "      <td>3049</td>\n",
              "      <td>141</td>\n",
              "      <td>3.78</td>\n",
              "      <td>3.15</td>\n",
              "      <td>8.7</td>\n",
              "      <td>...</td>\n",
              "      <td>0</td>\n",
              "      <td>0</td>\n",
              "      <td>0</td>\n",
              "      <td>0</td>\n",
              "      <td>0</td>\n",
              "      <td>0</td>\n",
              "      <td>0</td>\n",
              "      <td>0</td>\n",
              "      <td>0</td>\n",
              "      <td>1</td>\n",
              "    </tr>\n",
              "    <tr>\n",
              "      <th>202</th>\n",
              "      <td>203</td>\n",
              "      <td>109.1</td>\n",
              "      <td>188.8</td>\n",
              "      <td>68.9</td>\n",
              "      <td>55.5</td>\n",
              "      <td>3012</td>\n",
              "      <td>173</td>\n",
              "      <td>3.58</td>\n",
              "      <td>2.87</td>\n",
              "      <td>8.8</td>\n",
              "      <td>...</td>\n",
              "      <td>0</td>\n",
              "      <td>0</td>\n",
              "      <td>0</td>\n",
              "      <td>0</td>\n",
              "      <td>0</td>\n",
              "      <td>0</td>\n",
              "      <td>0</td>\n",
              "      <td>0</td>\n",
              "      <td>0</td>\n",
              "      <td>1</td>\n",
              "    </tr>\n",
              "    <tr>\n",
              "      <th>203</th>\n",
              "      <td>204</td>\n",
              "      <td>109.1</td>\n",
              "      <td>188.8</td>\n",
              "      <td>68.9</td>\n",
              "      <td>55.5</td>\n",
              "      <td>3217</td>\n",
              "      <td>145</td>\n",
              "      <td>3.01</td>\n",
              "      <td>3.40</td>\n",
              "      <td>23.0</td>\n",
              "      <td>...</td>\n",
              "      <td>0</td>\n",
              "      <td>0</td>\n",
              "      <td>0</td>\n",
              "      <td>0</td>\n",
              "      <td>0</td>\n",
              "      <td>0</td>\n",
              "      <td>0</td>\n",
              "      <td>0</td>\n",
              "      <td>0</td>\n",
              "      <td>1</td>\n",
              "    </tr>\n",
              "    <tr>\n",
              "      <th>204</th>\n",
              "      <td>205</td>\n",
              "      <td>109.1</td>\n",
              "      <td>188.8</td>\n",
              "      <td>68.9</td>\n",
              "      <td>55.5</td>\n",
              "      <td>3062</td>\n",
              "      <td>141</td>\n",
              "      <td>3.78</td>\n",
              "      <td>3.15</td>\n",
              "      <td>9.5</td>\n",
              "      <td>...</td>\n",
              "      <td>0</td>\n",
              "      <td>0</td>\n",
              "      <td>0</td>\n",
              "      <td>0</td>\n",
              "      <td>0</td>\n",
              "      <td>0</td>\n",
              "      <td>0</td>\n",
              "      <td>0</td>\n",
              "      <td>0</td>\n",
              "      <td>1</td>\n",
              "    </tr>\n",
              "  </tbody>\n",
              "</table>\n",
              "<p>205 rows × 80 columns</p>\n",
              "</div>\n",
              "      <button class=\"colab-df-convert\" onclick=\"convertToInteractive('df-c8e4a89c-ca0d-49a4-95fa-b842615b8245')\"\n",
              "              title=\"Convert this dataframe to an interactive table.\"\n",
              "              style=\"display:none;\">\n",
              "        \n",
              "  <svg xmlns=\"http://www.w3.org/2000/svg\" height=\"24px\"viewBox=\"0 0 24 24\"\n",
              "       width=\"24px\">\n",
              "    <path d=\"M0 0h24v24H0V0z\" fill=\"none\"/>\n",
              "    <path d=\"M18.56 5.44l.94 2.06.94-2.06 2.06-.94-2.06-.94-.94-2.06-.94 2.06-2.06.94zm-11 1L8.5 8.5l.94-2.06 2.06-.94-2.06-.94L8.5 2.5l-.94 2.06-2.06.94zm10 10l.94 2.06.94-2.06 2.06-.94-2.06-.94-.94-2.06-.94 2.06-2.06.94z\"/><path d=\"M17.41 7.96l-1.37-1.37c-.4-.4-.92-.59-1.43-.59-.52 0-1.04.2-1.43.59L10.3 9.45l-7.72 7.72c-.78.78-.78 2.05 0 2.83L4 21.41c.39.39.9.59 1.41.59.51 0 1.02-.2 1.41-.59l7.78-7.78 2.81-2.81c.8-.78.8-2.07 0-2.86zM5.41 20L4 18.59l7.72-7.72 1.47 1.35L5.41 20z\"/>\n",
              "  </svg>\n",
              "      </button>\n",
              "      \n",
              "  <style>\n",
              "    .colab-df-container {\n",
              "      display:flex;\n",
              "      flex-wrap:wrap;\n",
              "      gap: 12px;\n",
              "    }\n",
              "\n",
              "    .colab-df-convert {\n",
              "      background-color: #E8F0FE;\n",
              "      border: none;\n",
              "      border-radius: 50%;\n",
              "      cursor: pointer;\n",
              "      display: none;\n",
              "      fill: #1967D2;\n",
              "      height: 32px;\n",
              "      padding: 0 0 0 0;\n",
              "      width: 32px;\n",
              "    }\n",
              "\n",
              "    .colab-df-convert:hover {\n",
              "      background-color: #E2EBFA;\n",
              "      box-shadow: 0px 1px 2px rgba(60, 64, 67, 0.3), 0px 1px 3px 1px rgba(60, 64, 67, 0.15);\n",
              "      fill: #174EA6;\n",
              "    }\n",
              "\n",
              "    [theme=dark] .colab-df-convert {\n",
              "      background-color: #3B4455;\n",
              "      fill: #D2E3FC;\n",
              "    }\n",
              "\n",
              "    [theme=dark] .colab-df-convert:hover {\n",
              "      background-color: #434B5C;\n",
              "      box-shadow: 0px 1px 3px 1px rgba(0, 0, 0, 0.15);\n",
              "      filter: drop-shadow(0px 1px 2px rgba(0, 0, 0, 0.3));\n",
              "      fill: #FFFFFF;\n",
              "    }\n",
              "  </style>\n",
              "\n",
              "      <script>\n",
              "        const buttonEl =\n",
              "          document.querySelector('#df-c8e4a89c-ca0d-49a4-95fa-b842615b8245 button.colab-df-convert');\n",
              "        buttonEl.style.display =\n",
              "          google.colab.kernel.accessAllowed ? 'block' : 'none';\n",
              "\n",
              "        async function convertToInteractive(key) {\n",
              "          const element = document.querySelector('#df-c8e4a89c-ca0d-49a4-95fa-b842615b8245');\n",
              "          const dataTable =\n",
              "            await google.colab.kernel.invokeFunction('convertToInteractive',\n",
              "                                                     [key], {});\n",
              "          if (!dataTable) return;\n",
              "\n",
              "          const docLinkHtml = 'Like what you see? Visit the ' +\n",
              "            '<a target=\"_blank\" href=https://colab.research.google.com/notebooks/data_table.ipynb>data table notebook</a>'\n",
              "            + ' to learn more about interactive tables.';\n",
              "          element.innerHTML = '';\n",
              "          dataTable['output_type'] = 'display_data';\n",
              "          await google.colab.output.renderOutput(dataTable, element);\n",
              "          const docLink = document.createElement('div');\n",
              "          docLink.innerHTML = docLinkHtml;\n",
              "          element.appendChild(docLink);\n",
              "        }\n",
              "      </script>\n",
              "    </div>\n",
              "  </div>\n",
              "  "
            ]
          },
          "metadata": {},
          "execution_count": 272
        }
      ],
      "source": [
        "# concat dummy variables with X\n",
        "X = pd.concat([X,cars_dummies],axis=1)\n",
        "X"
      ]
    },
    {
      "cell_type": "markdown",
      "metadata": {
        "id": "jAgRg5OeFXHJ"
      },
      "source": [
        "## Scaling the features\n",
        "\n",
        "<p style='text-align: right;'> points= 4</p>\n"
      ]
    },
    {
      "cell_type": "code",
      "execution_count": null,
      "metadata": {
        "id": "Tz5WBHrRFXHK",
        "colab": {
          "base_uri": "https://localhost:8080/"
        },
        "outputId": "ce2f0ea9-81e8-4a67-8bb4-7322ce771fb0"
      },
      "outputs": [
        {
          "output_type": "execute_result",
          "data": {
            "text/plain": [
              "Index(['wheelbase', 'carlength', 'carwidth', 'carheight', 'curbweight',\n",
              "       'enginesize', 'boreratio', 'stroke', 'compressionratio', 'horsepower',\n",
              "       'peakrpm', 'citympg', 'highwaympg', 'symboling_-1', 'symboling_-2',\n",
              "       'symboling_0', 'symboling_1', 'symboling_2', 'symboling_3',\n",
              "       'fueltype_diesel', 'fueltype_gas', 'aspiration_std', 'aspiration_turbo',\n",
              "       'doornumber_four', 'doornumber_two', 'carbody_convertible',\n",
              "       'carbody_hardtop', 'carbody_hatchback', 'carbody_sedan',\n",
              "       'carbody_wagon', 'drivewheel_4wd', 'drivewheel_fwd', 'drivewheel_rwd',\n",
              "       'enginelocation_front', 'enginelocation_rear', 'enginetype_dohc',\n",
              "       'enginetype_dohcv', 'enginetype_l', 'enginetype_ohc', 'enginetype_ohcf',\n",
              "       'enginetype_ohcv', 'enginetype_rotor', 'cylindernumber_eight',\n",
              "       'cylindernumber_five', 'cylindernumber_four', 'cylindernumber_six',\n",
              "       'cylindernumber_three', 'cylindernumber_twelve', 'cylindernumber_two',\n",
              "       'fuelsystem_1bbl', 'fuelsystem_2bbl', 'fuelsystem_4bbl',\n",
              "       'fuelsystem_idi', 'fuelsystem_mfi', 'fuelsystem_mpfi',\n",
              "       'fuelsystem_spdi', 'fuelsystem_spfi', 'car_company_alfa-romero',\n",
              "       'car_company_audi', 'car_company_bmw', 'car_company_buick',\n",
              "       'car_company_chevrolet', 'car_company_dodge', 'car_company_honda',\n",
              "       'car_company_isuzu', 'car_company_jaguar', 'car_company_mazda',\n",
              "       'car_company_mercury', 'car_company_mitsubishi', 'car_company_nissan',\n",
              "       'car_company_peugeot', 'car_company_plymouth', 'car_company_porsche',\n",
              "       'car_company_renault', 'car_company_saab', 'car_company_subaru',\n",
              "       'car_company_toyota', 'car_company_volkswagen', 'car_company_volvo'],\n",
              "      dtype='object')"
            ]
          },
          "metadata": {},
          "execution_count": 273
        }
      ],
      "source": [
        "from sklearn.preprocessing import scale\n",
        "\n",
        "# storing column names in cols, since column names are (annoyingly) lost after \n",
        "# scaling (the df is converted to a numpy array)\n",
        "cols = X.columns\n",
        "\n",
        "\n",
        "# scaling X and converting to Dtaframe\n",
        "X = pd.DataFrame(np.array(scale(X)))\n",
        "X\n",
        "\n",
        "\n",
        "#renaming X columns as cols\n",
        "X.columns = cols\n",
        "X.drop('car_ID',axis=1,inplace=True)\n",
        "#print columns in X\n",
        "X.columns\n"
      ]
    },
    {
      "cell_type": "markdown",
      "metadata": {
        "id": "i0VtkXpDFXHK"
      },
      "source": [
        "### Splitting into test train\n",
        "\n",
        "<p style='text-align: right;'> points= 1</p>\n"
      ]
    },
    {
      "cell_type": "code",
      "execution_count": null,
      "metadata": {
        "id": "WX2W2-4UFXHK"
      },
      "outputs": [],
      "source": [
        "# split into train and test with train_size=70% and random_state=100\n",
        "Xtrain, Xtest, Ytrain, Ytest = TTS(X,Y,test_size=0.3,random_state=100)\n"
      ]
    },
    {
      "cell_type": "markdown",
      "metadata": {
        "id": "gZNQ4Xy_FXHL"
      },
      "source": [
        "# 3. Model Building and Evaluation\n",
        "\n",
        "<p style='text-align: right;'> points= 30</p>\n",
        "\n",
        "Reference site: https://towardsdatascience.com/linear-regression-models-4a3d14b8d368\n",
        "\n"
      ]
    },
    {
      "cell_type": "markdown",
      "metadata": {
        "id": "CwXWoo7ZBw_o"
      },
      "source": [
        "### **`Reference video below for advance linear regression tutorial`**"
      ]
    },
    {
      "cell_type": "code",
      "source": [
        "from IPython.display import YouTubeVideo\n",
        "YouTubeVideo('kGRE_5kf22Y',width=700, height=400)"
      ],
      "metadata": {
        "id": "vvkHNzLEzsJB",
        "colab": {
          "base_uri": "https://localhost:8080/",
          "height": 422
        },
        "outputId": "caf707e9-f72a-4d9a-8a5a-0854652513e3"
      },
      "execution_count": null,
      "outputs": [
        {
          "output_type": "execute_result",
          "data": {
            "text/plain": [
              "<IPython.lib.display.YouTubeVideo at 0x7fa89d9fbb90>"
            ],
            "text/html": [
              "\n",
              "        <iframe\n",
              "            width=\"700\"\n",
              "            height=\"400\"\n",
              "            src=\"https://www.youtube.com/embed/kGRE_5kf22Y\"\n",
              "            frameborder=\"0\"\n",
              "            allowfullscreen\n",
              "        ></iframe>\n",
              "        "
            ],
            "image/jpeg": "[encoded data removed]"
          },
          "metadata": {},
          "execution_count": 275
        }
      ]
    },
    {
      "cell_type": "markdown",
      "metadata": {
        "id": "6I6U0_pcFXHL"
      },
      "source": [
        "## Ridge, Lasso and ElasticNet Regression\n",
        "\n",
        "Let's now try predicting car prices, a dataset used in simple linear regression, to perform ridge, lasso and elasticNet regression.\n",
        "\n",
        "\n",
        "To understand there differences please check: https://medium.com/analytics-vidhya/understanding-difference-between-regularization-methods-ridge-lasso-and-elasticnet-in-python-996185296ed2"
      ]
    },
    {
      "cell_type": "markdown",
      "metadata": {
        "id": "LxrDb07tFXHL"
      },
      "source": [
        "## Ridge Regression\n",
        "\n"
      ]
    },
    {
      "cell_type": "code",
      "execution_count": null,
      "metadata": {
        "id": "cfDyWp0NFXHM"
      },
      "outputs": [],
      "source": [
        "# list of alphas to tune\n",
        "params = {'alpha': [0.0001, 0.001, 0.01, 0.05, 0.1, \n",
        " 0.2, 0.3, 0.4, 0.5, 0.6, 0.7, 0.8, 0.9, 1.0, 2.0, 3.0, \n",
        " 4.0, 5.0, 6.0, 7.0, 8.0, 9.0, 10.0, 20, 50, 100, 500, 1000 ]}\n",
        "\n",
        "#initialising Ridge() function\n",
        "ridge = Ridge()\n",
        "\n",
        "\n",
        "\n",
        "# defining cross validation folds as 5\n",
        "folds = 5"
      ]
    },
    {
      "cell_type": "markdown",
      "metadata": {
        "id": "AkfND4LcFXHM"
      },
      "source": [
        "\n",
        "#### Cross validation and Hyperparameter tuning: GridSearchCV\n",
        "\n",
        "initialising GridSearchCV function with folowing attributes:\n",
        "\n",
        "    estimator = ridge\n",
        "    param_grid = params\n",
        "    scoring= 'neg_mean_absolute_error'\n",
        "    cv = folds\n",
        "    return_train_score=True\n",
        "    verbose = 1"
      ]
    },
    {
      "cell_type": "code",
      "execution_count": null,
      "metadata": {
        "id": "16wJ1RtoFXHM",
        "colab": {
          "base_uri": "https://localhost:8080/"
        },
        "outputId": "03a9f531-1900-47fe-e0b4-03e5d5b45fb9"
      },
      "outputs": [
        {
          "output_type": "stream",
          "name": "stdout",
          "text": [
            "Fitting 5 folds for each of 28 candidates, totalling 140 fits\n"
          ]
        },
        {
          "output_type": "execute_result",
          "data": {
            "text/plain": [
              "GridSearchCV(cv=5, estimator=Ridge(),\n",
              "             param_grid={'alpha': [0.0001, 0.001, 0.01, 0.05, 0.1, 0.2, 0.3,\n",
              "                                   0.4, 0.5, 0.6, 0.7, 0.8, 0.9, 1.0, 2.0, 3.0,\n",
              "                                   4.0, 5.0, 6.0, 7.0, 8.0, 9.0, 10.0, 20, 50,\n",
              "                                   100, 500, 1000]},\n",
              "             return_train_score=True, scoring='neg_mean_absolute_error',\n",
              "             verbose=1)"
            ]
          },
          "metadata": {},
          "execution_count": 277
        }
      ],
      "source": [
        "# Define GridSearchCV\n",
        "model_cv = GSC(estimator=ridge,param_grid=params,scoring='neg_mean_absolute_error',cv=folds,verbose=1,return_train_score=True).fit(Xtrain,Ytrain)\n",
        "          \n",
        "\n",
        "# fit GridSearchCV() with X_train and y_train\n",
        "model_cv"
      ]
    },
    {
      "cell_type": "code",
      "execution_count": null,
      "metadata": {
        "scrolled": false,
        "id": "ryEStZ8xFXHN",
        "colab": {
          "base_uri": "https://localhost:8080/",
          "height": 1000
        },
        "outputId": "bbb9e230-a752-4951-a098-f659e02bb84e"
      },
      "outputs": [
        {
          "output_type": "execute_result",
          "data": {
            "text/plain": [
              "    mean_fit_time  std_fit_time  mean_score_time  std_score_time param_alpha  \\\n",
              "0        0.005560      0.001376         0.003524        0.000179      0.0001   \n",
              "1        0.004781      0.000336         0.003700        0.000227       0.001   \n",
              "2        0.004509      0.000149         0.003356        0.000296        0.01   \n",
              "3        0.005883      0.002561         0.003528        0.000412        0.05   \n",
              "4        0.004399      0.000050         0.003226        0.000102         0.1   \n",
              "5        0.004513      0.000156         0.003255        0.000152         0.2   \n",
              "6        0.004415      0.000038         0.003261        0.000083         0.3   \n",
              "7        0.004678      0.000454         0.003419        0.000236         0.4   \n",
              "8        0.004853      0.000249         0.003350        0.000069         0.5   \n",
              "9        0.004988      0.000519         0.004970        0.002438         0.6   \n",
              "10       0.004871      0.000308         0.003532        0.000241         0.7   \n",
              "11       0.004540      0.000046         0.003447        0.000245         0.8   \n",
              "12       0.004517      0.000063         0.003539        0.000343         0.9   \n",
              "13       0.004534      0.000054         0.003408        0.000199         1.0   \n",
              "14       0.006394      0.002853         0.003542        0.000292         2.0   \n",
              "15       0.004488      0.000129         0.003281        0.000162         3.0   \n",
              "16       0.004569      0.000357         0.003261        0.000066         4.0   \n",
              "17       0.004529      0.000232         0.003487        0.000238         5.0   \n",
              "18       0.005263      0.000590         0.004070        0.000795         6.0   \n",
              "19       0.004900      0.000277         0.005993        0.004685         7.0   \n",
              "20       0.004837      0.000492         0.003397        0.000119         8.0   \n",
              "21       0.004699      0.000261         0.003460        0.000346         9.0   \n",
              "22       0.004682      0.000188         0.003490        0.000195        10.0   \n",
              "23       0.004557      0.000112         0.004750        0.002722          20   \n",
              "24       0.004497      0.000085         0.003676        0.000370          50   \n",
              "25       0.005292      0.000922         0.004837        0.002608         100   \n",
              "\n",
              "               params  split0_test_score  split1_test_score  \\\n",
              "0   {'alpha': 0.0001}       -2733.850448       -1464.535610   \n",
              "1    {'alpha': 0.001}       -2731.307776       -1463.518500   \n",
              "2     {'alpha': 0.01}       -2707.753027       -1453.825034   \n",
              "3     {'alpha': 0.05}       -2632.700739       -1419.161600   \n",
              "4      {'alpha': 0.1}       -2586.560362       -1407.967774   \n",
              "5      {'alpha': 0.2}       -2536.602059       -1397.036278   \n",
              "6      {'alpha': 0.3}       -2517.842512       -1391.823797   \n",
              "7      {'alpha': 0.4}       -2506.900157       -1388.190470   \n",
              "8      {'alpha': 0.5}       -2500.948185       -1383.561415   \n",
              "9      {'alpha': 0.6}       -2497.521402       -1379.993959   \n",
              "10     {'alpha': 0.7}       -2495.346959       -1378.186187   \n",
              "11     {'alpha': 0.8}       -2494.012567       -1376.067249   \n",
              "12     {'alpha': 0.9}       -2493.256116       -1373.736906   \n",
              "13     {'alpha': 1.0}       -2492.903996       -1371.262760   \n",
              "14     {'alpha': 2.0}       -2502.471211       -1367.167292   \n",
              "15     {'alpha': 3.0}       -2519.369142       -1374.750817   \n",
              "16     {'alpha': 4.0}       -2530.810459       -1379.383680   \n",
              "17     {'alpha': 5.0}       -2544.988797       -1382.576370   \n",
              "18     {'alpha': 6.0}       -2556.405654       -1383.743644   \n",
              "19     {'alpha': 7.0}       -2565.217185       -1384.859389   \n",
              "20     {'alpha': 8.0}       -2572.000217       -1386.326023   \n",
              "21     {'alpha': 9.0}       -2577.171620       -1387.271776   \n",
              "22    {'alpha': 10.0}       -2581.041683       -1387.867131   \n",
              "23      {'alpha': 20}       -2604.787966       -1387.796537   \n",
              "24      {'alpha': 50}       -2608.239363       -1387.190461   \n",
              "25     {'alpha': 100}       -2618.700427       -1424.580258   \n",
              "\n",
              "    split2_test_score  split3_test_score  ...  mean_test_score  \\\n",
              "0        -1531.664643       -3504.279639  ...     -2328.591661   \n",
              "1        -1532.579011       -3482.142712  ...     -2323.912902   \n",
              "2        -1541.103544       -3318.482069  ...     -2288.673369   \n",
              "3        -1568.924281       -3040.431922  ...     -2222.319638   \n",
              "4        -1590.059368       -2874.704691  ...     -2182.707375   \n",
              "5        -1612.001657       -2707.543361  ...     -2135.694440   \n",
              "6        -1621.905680       -2601.278523  ...     -2103.113635   \n",
              "7        -1626.214050       -2539.287186  ...     -2079.895691   \n",
              "8        -1627.423364       -2488.567974  ...     -2059.530277   \n",
              "9        -1626.733493       -2443.311596  ...     -2041.521206   \n",
              "10       -1625.910529       -2403.131622  ...     -2025.695840   \n",
              "11       -1624.905637       -2366.364367  ...     -2011.142542   \n",
              "12       -1623.113434       -2331.852811  ...     -1997.440496   \n",
              "13       -1622.801629       -2299.225420  ...     -1984.903919   \n",
              "14       -1619.720931       -2059.398377  ...     -1900.016960   \n",
              "15       -1608.017502       -1977.026171  ...     -1867.045604   \n",
              "16       -1626.072458       -1907.989832  ...     -1850.003326   \n",
              "17       -1642.617871       -1846.474091  ...     -1838.600040   \n",
              "18       -1653.303900       -1797.192578  ...     -1829.168889   \n",
              "19       -1660.299736       -1756.225544  ...     -1821.345078   \n",
              "20       -1664.861567       -1721.022384  ...     -1814.736664   \n",
              "21       -1667.762850       -1692.891970  ...     -1809.234412   \n",
              "22       -1669.502316       -1666.215805  ...     -1803.779991   \n",
              "23       -1678.663330       -1549.074431  ...     -1784.205839   \n",
              "24       -1721.955214       -1595.731522  ...     -1805.874023   \n",
              "25       -1747.083156       -1954.569963  ...     -1913.087700   \n",
              "\n",
              "    std_test_score  rank_test_score  split0_train_score  split1_train_score  \\\n",
              "0       766.102898               26         -694.731353         -814.195642   \n",
              "1       759.126941               25         -694.966998         -813.973109   \n",
              "2       708.490834               24         -697.106995         -812.410301   \n",
              "3       626.373699               23         -707.633557         -812.949973   \n",
              "4       577.432791               22         -717.267752         -816.434582   \n",
              "5       527.536357               21         -727.090877         -824.897331   \n",
              "6       497.160143               20         -733.003474         -830.301847   \n",
              "7       478.483603               19         -736.786230         -835.610340   \n",
              "8       464.550696               18         -739.372528         -840.845729   \n",
              "9       453.164814               17         -741.251539         -846.402144   \n",
              "10      443.217837               16         -742.675278         -850.704489   \n",
              "11      434.836814               15         -743.792652         -854.032601   \n",
              "12      427.773163               14         -744.812463         -857.092710   \n",
              "13      421.443684               13         -745.816432         -859.629505   \n",
              "14      388.196062               11         -760.650103         -883.352676   \n",
              "15      386.572639               10         -777.682086         -908.040594   \n",
              "16      384.823629                9         -791.574301         -931.869314   \n",
              "17      387.114868                8         -803.116704         -952.959538   \n",
              "18      391.075321                7         -813.886169         -971.299545   \n",
              "19      395.129994                6         -823.396940         -987.536244   \n",
              "20      398.873049                5         -832.859067        -1002.147880   \n",
              "21      402.269082                4         -842.168976        -1016.000471   \n",
              "22      405.483697                2         -850.549100        -1029.924744   \n",
              "23      425.180768                1         -912.559618        -1140.160118   \n",
              "24      419.122925                3        -1059.364018        -1309.890288   \n",
              "25      393.542562               12        -1231.676445        -1495.514590   \n",
              "\n",
              "    split2_train_score  split3_train_score  split4_train_score  \\\n",
              "0          -832.366039         -903.777846         -720.177067   \n",
              "1          -831.902796         -903.315622         -719.895629   \n",
              "2          -827.575617         -899.018748         -717.796890   \n",
              "3          -817.325545         -887.885513         -711.387917   \n",
              "4          -809.092571         -883.342625         -709.007391   \n",
              "5          -808.734492         -884.208360         -711.270825   \n",
              "6          -809.735560         -886.273104         -717.766944   \n",
              "7          -810.106480         -890.114789         -723.726026   \n",
              "8          -812.103564         -892.772547         -728.294196   \n",
              "9          -814.308775         -894.468053         -731.739945   \n",
              "10         -816.813330         -895.785123         -734.641289   \n",
              "11         -819.844559         -897.433815         -737.765292   \n",
              "12         -823.150748         -899.667876         -741.277214   \n",
              "13         -826.206569         -901.973729         -744.330449   \n",
              "14         -861.591633         -926.400761         -770.828580   \n",
              "15         -891.655092         -947.030602         -795.093579   \n",
              "16         -915.385234         -968.233718         -818.838987   \n",
              "17         -935.792906         -986.952290         -841.494738   \n",
              "18         -955.179016        -1003.312294         -862.526119   \n",
              "19         -972.068119        -1018.349385         -882.022215   \n",
              "20         -986.692797        -1032.818381         -900.056749   \n",
              "21         -999.505633        -1046.487122         -917.301691   \n",
              "22        -1011.534444        -1059.086879         -932.954269   \n",
              "23        -1092.388544        -1151.181177        -1040.146705   \n",
              "24        -1220.037354        -1300.423930        -1213.192950   \n",
              "25        -1408.304085        -1442.082987        -1379.988091   \n",
              "\n",
              "    mean_train_score  std_train_score  \n",
              "0        -793.049589        76.459880  \n",
              "1        -792.810831        76.259262  \n",
              "2        -790.781710        74.348612  \n",
              "3        -787.436501        68.972738  \n",
              "4        -787.028984        65.699021  \n",
              "5        -791.240377        64.175023  \n",
              "6        -795.416186        62.612754  \n",
              "7        -799.268773        62.132019  \n",
              "8        -802.677713        61.972861  \n",
              "9        -805.634091        62.022923  \n",
              "10       -808.123902        62.058551  \n",
              "11       -810.573784        62.096823  \n",
              "12       -813.200202        62.212576  \n",
              "13       -815.591337        62.386878  \n",
              "14       -840.564750        64.637824  \n",
              "15       -863.900391        66.026187  \n",
              "16       -885.180311        68.048990  \n",
              "17       -904.063235        69.818672  \n",
              "18       -921.240628        71.226177  \n",
              "19       -936.674581        72.565956  \n",
              "20       -950.914975        73.670602  \n",
              "21       -964.292779        74.554579  \n",
              "22       -976.809887        75.712070  \n",
              "23      -1067.287233        86.782452  \n",
              "24      -1220.581708        89.885301  \n",
              "25      -1391.513240        88.697399  \n",
              "\n",
              "[26 rows x 21 columns]"
            ],
            "text/html": [
              "\n",
              "  <div id=\"df-2a5c0c49-212d-40da-a7b7-be9bcf6d3553\">\n",
              "    <div class=\"colab-df-container\">\n",
              "      <div>\n",
              "<style scoped>\n",
              "    .dataframe tbody tr th:only-of-type {\n",
              "        vertical-align: middle;\n",
              "    }\n",
              "\n",
              "    .dataframe tbody tr th {\n",
              "        vertical-align: top;\n",
              "    }\n",
              "\n",
              "    .dataframe thead th {\n",
              "        text-align: right;\n",
              "    }\n",
              "</style>\n",
              "<table border=\"1\" class=\"dataframe\">\n",
              "  <thead>\n",
              "    <tr style=\"text-align: right;\">\n",
              "      <th></th>\n",
              "      <th>mean_fit_time</th>\n",
              "      <th>std_fit_time</th>\n",
              "      <th>mean_score_time</th>\n",
              "      <th>std_score_time</th>\n",
              "      <th>param_alpha</th>\n",
              "      <th>params</th>\n",
              "      <th>split0_test_score</th>\n",
              "      <th>split1_test_score</th>\n",
              "      <th>split2_test_score</th>\n",
              "      <th>split3_test_score</th>\n",
              "      <th>...</th>\n",
              "      <th>mean_test_score</th>\n",
              "      <th>std_test_score</th>\n",
              "      <th>rank_test_score</th>\n",
              "      <th>split0_train_score</th>\n",
              "      <th>split1_train_score</th>\n",
              "      <th>split2_train_score</th>\n",
              "      <th>split3_train_score</th>\n",
              "      <th>split4_train_score</th>\n",
              "      <th>mean_train_score</th>\n",
              "      <th>std_train_score</th>\n",
              "    </tr>\n",
              "  </thead>\n",
              "  <tbody>\n",
              "    <tr>\n",
              "      <th>0</th>\n",
              "      <td>0.005560</td>\n",
              "      <td>0.001376</td>\n",
              "      <td>0.003524</td>\n",
              "      <td>0.000179</td>\n",
              "      <td>0.0001</td>\n",
              "      <td>{'alpha': 0.0001}</td>\n",
              "      <td>-2733.850448</td>\n",
              "      <td>-1464.535610</td>\n",
              "      <td>-1531.664643</td>\n",
              "      <td>-3504.279639</td>\n",
              "      <td>...</td>\n",
              "      <td>-2328.591661</td>\n",
              "      <td>766.102898</td>\n",
              "      <td>26</td>\n",
              "      <td>-694.731353</td>\n",
              "      <td>-814.195642</td>\n",
              "      <td>-832.366039</td>\n",
              "      <td>-903.777846</td>\n",
              "      <td>-720.177067</td>\n",
              "      <td>-793.049589</td>\n",
              "      <td>76.459880</td>\n",
              "    </tr>\n",
              "    <tr>\n",
              "      <th>1</th>\n",
              "      <td>0.004781</td>\n",
              "      <td>0.000336</td>\n",
              "      <td>0.003700</td>\n",
              "      <td>0.000227</td>\n",
              "      <td>0.001</td>\n",
              "      <td>{'alpha': 0.001}</td>\n",
              "      <td>-2731.307776</td>\n",
              "      <td>-1463.518500</td>\n",
              "      <td>-1532.579011</td>\n",
              "      <td>-3482.142712</td>\n",
              "      <td>...</td>\n",
              "      <td>-2323.912902</td>\n",
              "      <td>759.126941</td>\n",
              "      <td>25</td>\n",
              "      <td>-694.966998</td>\n",
              "      <td>-813.973109</td>\n",
              "      <td>-831.902796</td>\n",
              "      <td>-903.315622</td>\n",
              "      <td>-719.895629</td>\n",
              "      <td>-792.810831</td>\n",
              "      <td>76.259262</td>\n",
              "    </tr>\n",
              "    <tr>\n",
              "      <th>2</th>\n",
              "      <td>0.004509</td>\n",
              "      <td>0.000149</td>\n",
              "      <td>0.003356</td>\n",
              "      <td>0.000296</td>\n",
              "      <td>0.01</td>\n",
              "      <td>{'alpha': 0.01}</td>\n",
              "      <td>-2707.753027</td>\n",
              "      <td>-1453.825034</td>\n",
              "      <td>-1541.103544</td>\n",
              "      <td>-3318.482069</td>\n",
              "      <td>...</td>\n",
              "      <td>-2288.673369</td>\n",
              "      <td>708.490834</td>\n",
              "      <td>24</td>\n",
              "      <td>-697.106995</td>\n",
              "      <td>-812.410301</td>\n",
              "      <td>-827.575617</td>\n",
              "      <td>-899.018748</td>\n",
              "      <td>-717.796890</td>\n",
              "      <td>-790.781710</td>\n",
              "      <td>74.348612</td>\n",
              "    </tr>\n",
              "    <tr>\n",
              "      <th>3</th>\n",
              "      <td>0.005883</td>\n",
              "      <td>0.002561</td>\n",
              "      <td>0.003528</td>\n",
              "      <td>0.000412</td>\n",
              "      <td>0.05</td>\n",
              "      <td>{'alpha': 0.05}</td>\n",
              "      <td>-2632.700739</td>\n",
              "      <td>-1419.161600</td>\n",
              "      <td>-1568.924281</td>\n",
              "      <td>-3040.431922</td>\n",
              "      <td>...</td>\n",
              "      <td>-2222.319638</td>\n",
              "      <td>626.373699</td>\n",
              "      <td>23</td>\n",
              "      <td>-707.633557</td>\n",
              "      <td>-812.949973</td>\n",
              "      <td>-817.325545</td>\n",
              "      <td>-887.885513</td>\n",
              "      <td>-711.387917</td>\n",
              "      <td>-787.436501</td>\n",
              "      <td>68.972738</td>\n",
              "    </tr>\n",
              "    <tr>\n",
              "      <th>4</th>\n",
              "      <td>0.004399</td>\n",
              "      <td>0.000050</td>\n",
              "      <td>0.003226</td>\n",
              "      <td>0.000102</td>\n",
              "      <td>0.1</td>\n",
              "      <td>{'alpha': 0.1}</td>\n",
              "      <td>-2586.560362</td>\n",
              "      <td>-1407.967774</td>\n",
              "      <td>-1590.059368</td>\n",
              "      <td>-2874.704691</td>\n",
              "      <td>...</td>\n",
              "      <td>-2182.707375</td>\n",
              "      <td>577.432791</td>\n",
              "      <td>22</td>\n",
              "      <td>-717.267752</td>\n",
              "      <td>-816.434582</td>\n",
              "      <td>-809.092571</td>\n",
              "      <td>-883.342625</td>\n",
              "      <td>-709.007391</td>\n",
              "      <td>-787.028984</td>\n",
              "      <td>65.699021</td>\n",
              "    </tr>\n",
              "    <tr>\n",
              "      <th>5</th>\n",
              "      <td>0.004513</td>\n",
              "      <td>0.000156</td>\n",
              "      <td>0.003255</td>\n",
              "      <td>0.000152</td>\n",
              "      <td>0.2</td>\n",
              "      <td>{'alpha': 0.2}</td>\n",
              "      <td>-2536.602059</td>\n",
              "      <td>-1397.036278</td>\n",
              "      <td>-1612.001657</td>\n",
              "      <td>-2707.543361</td>\n",
              "      <td>...</td>\n",
              "      <td>-2135.694440</td>\n",
              "      <td>527.536357</td>\n",
              "      <td>21</td>\n",
              "      <td>-727.090877</td>\n",
              "      <td>-824.897331</td>\n",
              "      <td>-808.734492</td>\n",
              "      <td>-884.208360</td>\n",
              "      <td>-711.270825</td>\n",
              "      <td>-791.240377</td>\n",
              "      <td>64.175023</td>\n",
              "    </tr>\n",
              "    <tr>\n",
              "      <th>6</th>\n",
              "      <td>0.004415</td>\n",
              "      <td>0.000038</td>\n",
              "      <td>0.003261</td>\n",
              "      <td>0.000083</td>\n",
              "      <td>0.3</td>\n",
              "      <td>{'alpha': 0.3}</td>\n",
              "      <td>-2517.842512</td>\n",
              "      <td>-1391.823797</td>\n",
              "      <td>-1621.905680</td>\n",
              "      <td>-2601.278523</td>\n",
              "      <td>...</td>\n",
              "      <td>-2103.113635</td>\n",
              "      <td>497.160143</td>\n",
              "      <td>20</td>\n",
              "      <td>-733.003474</td>\n",
              "      <td>-830.301847</td>\n",
              "      <td>-809.735560</td>\n",
              "      <td>-886.273104</td>\n",
              "      <td>-717.766944</td>\n",
              "      <td>-795.416186</td>\n",
              "      <td>62.612754</td>\n",
              "    </tr>\n",
              "    <tr>\n",
              "      <th>7</th>\n",
              "      <td>0.004678</td>\n",
              "      <td>0.000454</td>\n",
              "      <td>0.003419</td>\n",
              "      <td>0.000236</td>\n",
              "      <td>0.4</td>\n",
              "      <td>{'alpha': 0.4}</td>\n",
              "      <td>-2506.900157</td>\n",
              "      <td>-1388.190470</td>\n",
              "      <td>-1626.214050</td>\n",
              "      <td>-2539.287186</td>\n",
              "      <td>...</td>\n",
              "      <td>-2079.895691</td>\n",
              "      <td>478.483603</td>\n",
              "      <td>19</td>\n",
              "      <td>-736.786230</td>\n",
              "      <td>-835.610340</td>\n",
              "      <td>-810.106480</td>\n",
              "      <td>-890.114789</td>\n",
              "      <td>-723.726026</td>\n",
              "      <td>-799.268773</td>\n",
              "      <td>62.132019</td>\n",
              "    </tr>\n",
              "    <tr>\n",
              "      <th>8</th>\n",
              "      <td>0.004853</td>\n",
              "      <td>0.000249</td>\n",
              "      <td>0.003350</td>\n",
              "      <td>0.000069</td>\n",
              "      <td>0.5</td>\n",
              "      <td>{'alpha': 0.5}</td>\n",
              "      <td>-2500.948185</td>\n",
              "      <td>-1383.561415</td>\n",
              "      <td>-1627.423364</td>\n",
              "      <td>-2488.567974</td>\n",
              "      <td>...</td>\n",
              "      <td>-2059.530277</td>\n",
              "      <td>464.550696</td>\n",
              "      <td>18</td>\n",
              "      <td>-739.372528</td>\n",
              "      <td>-840.845729</td>\n",
              "      <td>-812.103564</td>\n",
              "      <td>-892.772547</td>\n",
              "      <td>-728.294196</td>\n",
              "      <td>-802.677713</td>\n",
              "      <td>61.972861</td>\n",
              "    </tr>\n",
              "    <tr>\n",
              "      <th>9</th>\n",
              "      <td>0.004988</td>\n",
              "      <td>0.000519</td>\n",
              "      <td>0.004970</td>\n",
              "      <td>0.002438</td>\n",
              "      <td>0.6</td>\n",
              "      <td>{'alpha': 0.6}</td>\n",
              "      <td>-2497.521402</td>\n",
              "      <td>-1379.993959</td>\n",
              "      <td>-1626.733493</td>\n",
              "      <td>-2443.311596</td>\n",
              "      <td>...</td>\n",
              "      <td>-2041.521206</td>\n",
              "      <td>453.164814</td>\n",
              "      <td>17</td>\n",
              "      <td>-741.251539</td>\n",
              "      <td>-846.402144</td>\n",
              "      <td>-814.308775</td>\n",
              "      <td>-894.468053</td>\n",
              "      <td>-731.739945</td>\n",
              "      <td>-805.634091</td>\n",
              "      <td>62.022923</td>\n",
              "    </tr>\n",
              "    <tr>\n",
              "      <th>10</th>\n",
              "      <td>0.004871</td>\n",
              "      <td>0.000308</td>\n",
              "      <td>0.003532</td>\n",
              "      <td>0.000241</td>\n",
              "      <td>0.7</td>\n",
              "      <td>{'alpha': 0.7}</td>\n",
              "      <td>-2495.346959</td>\n",
              "      <td>-1378.186187</td>\n",
              "      <td>-1625.910529</td>\n",
              "      <td>-2403.131622</td>\n",
              "      <td>...</td>\n",
              "      <td>-2025.695840</td>\n",
              "      <td>443.217837</td>\n",
              "      <td>16</td>\n",
              "      <td>-742.675278</td>\n",
              "      <td>-850.704489</td>\n",
              "      <td>-816.813330</td>\n",
              "      <td>-895.785123</td>\n",
              "      <td>-734.641289</td>\n",
              "      <td>-808.123902</td>\n",
              "      <td>62.058551</td>\n",
              "    </tr>\n",
              "    <tr>\n",
              "      <th>11</th>\n",
              "      <td>0.004540</td>\n",
              "      <td>0.000046</td>\n",
              "      <td>0.003447</td>\n",
              "      <td>0.000245</td>\n",
              "      <td>0.8</td>\n",
              "      <td>{'alpha': 0.8}</td>\n",
              "      <td>-2494.012567</td>\n",
              "      <td>-1376.067249</td>\n",
              "      <td>-1624.905637</td>\n",
              "      <td>-2366.364367</td>\n",
              "      <td>...</td>\n",
              "      <td>-2011.142542</td>\n",
              "      <td>434.836814</td>\n",
              "      <td>15</td>\n",
              "      <td>-743.792652</td>\n",
              "      <td>-854.032601</td>\n",
              "      <td>-819.844559</td>\n",
              "      <td>-897.433815</td>\n",
              "      <td>-737.765292</td>\n",
              "      <td>-810.573784</td>\n",
              "      <td>62.096823</td>\n",
              "    </tr>\n",
              "    <tr>\n",
              "      <th>12</th>\n",
              "      <td>0.004517</td>\n",
              "      <td>0.000063</td>\n",
              "      <td>0.003539</td>\n",
              "      <td>0.000343</td>\n",
              "      <td>0.9</td>\n",
              "      <td>{'alpha': 0.9}</td>\n",
              "      <td>-2493.256116</td>\n",
              "      <td>-1373.736906</td>\n",
              "      <td>-1623.113434</td>\n",
              "      <td>-2331.852811</td>\n",
              "      <td>...</td>\n",
              "      <td>-1997.440496</td>\n",
              "      <td>427.773163</td>\n",
              "      <td>14</td>\n",
              "      <td>-744.812463</td>\n",
              "      <td>-857.092710</td>\n",
              "      <td>-823.150748</td>\n",
              "      <td>-899.667876</td>\n",
              "      <td>-741.277214</td>\n",
              "      <td>-813.200202</td>\n",
              "      <td>62.212576</td>\n",
              "    </tr>\n",
              "    <tr>\n",
              "      <th>13</th>\n",
              "      <td>0.004534</td>\n",
              "      <td>0.000054</td>\n",
              "      <td>0.003408</td>\n",
              "      <td>0.000199</td>\n",
              "      <td>1.0</td>\n",
              "      <td>{'alpha': 1.0}</td>\n",
              "      <td>-2492.903996</td>\n",
              "      <td>-1371.262760</td>\n",
              "      <td>-1622.801629</td>\n",
              "      <td>-2299.225420</td>\n",
              "      <td>...</td>\n",
              "      <td>-1984.903919</td>\n",
              "      <td>421.443684</td>\n",
              "      <td>13</td>\n",
              "      <td>-745.816432</td>\n",
              "      <td>-859.629505</td>\n",
              "      <td>-826.206569</td>\n",
              "      <td>-901.973729</td>\n",
              "      <td>-744.330449</td>\n",
              "      <td>-815.591337</td>\n",
              "      <td>62.386878</td>\n",
              "    </tr>\n",
              "    <tr>\n",
              "      <th>14</th>\n",
              "      <td>0.006394</td>\n",
              "      <td>0.002853</td>\n",
              "      <td>0.003542</td>\n",
              "      <td>0.000292</td>\n",
              "      <td>2.0</td>\n",
              "      <td>{'alpha': 2.0}</td>\n",
              "      <td>-2502.471211</td>\n",
              "      <td>-1367.167292</td>\n",
              "      <td>-1619.720931</td>\n",
              "      <td>-2059.398377</td>\n",
              "      <td>...</td>\n",
              "      <td>-1900.016960</td>\n",
              "      <td>388.196062</td>\n",
              "      <td>11</td>\n",
              "      <td>-760.650103</td>\n",
              "      <td>-883.352676</td>\n",
              "      <td>-861.591633</td>\n",
              "      <td>-926.400761</td>\n",
              "      <td>-770.828580</td>\n",
              "      <td>-840.564750</td>\n",
              "      <td>64.637824</td>\n",
              "    </tr>\n",
              "    <tr>\n",
              "      <th>15</th>\n",
              "      <td>0.004488</td>\n",
              "      <td>0.000129</td>\n",
              "      <td>0.003281</td>\n",
              "      <td>0.000162</td>\n",
              "      <td>3.0</td>\n",
              "      <td>{'alpha': 3.0}</td>\n",
              "      <td>-2519.369142</td>\n",
              "      <td>-1374.750817</td>\n",
              "      <td>-1608.017502</td>\n",
              "      <td>-1977.026171</td>\n",
              "      <td>...</td>\n",
              "      <td>-1867.045604</td>\n",
              "      <td>386.572639</td>\n",
              "      <td>10</td>\n",
              "      <td>-777.682086</td>\n",
              "      <td>-908.040594</td>\n",
              "      <td>-891.655092</td>\n",
              "      <td>-947.030602</td>\n",
              "      <td>-795.093579</td>\n",
              "      <td>-863.900391</td>\n",
              "      <td>66.026187</td>\n",
              "    </tr>\n",
              "    <tr>\n",
              "      <th>16</th>\n",
              "      <td>0.004569</td>\n",
              "      <td>0.000357</td>\n",
              "      <td>0.003261</td>\n",
              "      <td>0.000066</td>\n",
              "      <td>4.0</td>\n",
              "      <td>{'alpha': 4.0}</td>\n",
              "      <td>-2530.810459</td>\n",
              "      <td>-1379.383680</td>\n",
              "      <td>-1626.072458</td>\n",
              "      <td>-1907.989832</td>\n",
              "      <td>...</td>\n",
              "      <td>-1850.003326</td>\n",
              "      <td>384.823629</td>\n",
              "      <td>9</td>\n",
              "      <td>-791.574301</td>\n",
              "      <td>-931.869314</td>\n",
              "      <td>-915.385234</td>\n",
              "      <td>-968.233718</td>\n",
              "      <td>-818.838987</td>\n",
              "      <td>-885.180311</td>\n",
              "      <td>68.048990</td>\n",
              "    </tr>\n",
              "    <tr>\n",
              "      <th>17</th>\n",
              "      <td>0.004529</td>\n",
              "      <td>0.000232</td>\n",
              "      <td>0.003487</td>\n",
              "      <td>0.000238</td>\n",
              "      <td>5.0</td>\n",
              "      <td>{'alpha': 5.0}</td>\n",
              "      <td>-2544.988797</td>\n",
              "      <td>-1382.576370</td>\n",
              "      <td>-1642.617871</td>\n",
              "      <td>-1846.474091</td>\n",
              "      <td>...</td>\n",
              "      <td>-1838.600040</td>\n",
              "      <td>387.114868</td>\n",
              "      <td>8</td>\n",
              "      <td>-803.116704</td>\n",
              "      <td>-952.959538</td>\n",
              "      <td>-935.792906</td>\n",
              "      <td>-986.952290</td>\n",
              "      <td>-841.494738</td>\n",
              "      <td>-904.063235</td>\n",
              "      <td>69.818672</td>\n",
              "    </tr>\n",
              "    <tr>\n",
              "      <th>18</th>\n",
              "      <td>0.005263</td>\n",
              "      <td>0.000590</td>\n",
              "      <td>0.004070</td>\n",
              "      <td>0.000795</td>\n",
              "      <td>6.0</td>\n",
              "      <td>{'alpha': 6.0}</td>\n",
              "      <td>-2556.405654</td>\n",
              "      <td>-1383.743644</td>\n",
              "      <td>-1653.303900</td>\n",
              "      <td>-1797.192578</td>\n",
              "      <td>...</td>\n",
              "      <td>-1829.168889</td>\n",
              "      <td>391.075321</td>\n",
              "      <td>7</td>\n",
              "      <td>-813.886169</td>\n",
              "      <td>-971.299545</td>\n",
              "      <td>-955.179016</td>\n",
              "      <td>-1003.312294</td>\n",
              "      <td>-862.526119</td>\n",
              "      <td>-921.240628</td>\n",
              "      <td>71.226177</td>\n",
              "    </tr>\n",
              "    <tr>\n",
              "      <th>19</th>\n",
              "      <td>0.004900</td>\n",
              "      <td>0.000277</td>\n",
              "      <td>0.005993</td>\n",
              "      <td>0.004685</td>\n",
              "      <td>7.0</td>\n",
              "      <td>{'alpha': 7.0}</td>\n",
              "      <td>-2565.217185</td>\n",
              "      <td>-1384.859389</td>\n",
              "      <td>-1660.299736</td>\n",
              "      <td>-1756.225544</td>\n",
              "      <td>...</td>\n",
              "      <td>-1821.345078</td>\n",
              "      <td>395.129994</td>\n",
              "      <td>6</td>\n",
              "      <td>-823.396940</td>\n",
              "      <td>-987.536244</td>\n",
              "      <td>-972.068119</td>\n",
              "      <td>-1018.349385</td>\n",
              "      <td>-882.022215</td>\n",
              "      <td>-936.674581</td>\n",
              "      <td>72.565956</td>\n",
              "    </tr>\n",
              "    <tr>\n",
              "      <th>20</th>\n",
              "      <td>0.004837</td>\n",
              "      <td>0.000492</td>\n",
              "      <td>0.003397</td>\n",
              "      <td>0.000119</td>\n",
              "      <td>8.0</td>\n",
              "      <td>{'alpha': 8.0}</td>\n",
              "      <td>-2572.000217</td>\n",
              "      <td>-1386.326023</td>\n",
              "      <td>-1664.861567</td>\n",
              "      <td>-1721.022384</td>\n",
              "      <td>...</td>\n",
              "      <td>-1814.736664</td>\n",
              "      <td>398.873049</td>\n",
              "      <td>5</td>\n",
              "      <td>-832.859067</td>\n",
              "      <td>-1002.147880</td>\n",
              "      <td>-986.692797</td>\n",
              "      <td>-1032.818381</td>\n",
              "      <td>-900.056749</td>\n",
              "      <td>-950.914975</td>\n",
              "      <td>73.670602</td>\n",
              "    </tr>\n",
              "    <tr>\n",
              "      <th>21</th>\n",
              "      <td>0.004699</td>\n",
              "      <td>0.000261</td>\n",
              "      <td>0.003460</td>\n",
              "      <td>0.000346</td>\n",
              "      <td>9.0</td>\n",
              "      <td>{'alpha': 9.0}</td>\n",
              "      <td>-2577.171620</td>\n",
              "      <td>-1387.271776</td>\n",
              "      <td>-1667.762850</td>\n",
              "      <td>-1692.891970</td>\n",
              "      <td>...</td>\n",
              "      <td>-1809.234412</td>\n",
              "      <td>402.269082</td>\n",
              "      <td>4</td>\n",
              "      <td>-842.168976</td>\n",
              "      <td>-1016.000471</td>\n",
              "      <td>-999.505633</td>\n",
              "      <td>-1046.487122</td>\n",
              "      <td>-917.301691</td>\n",
              "      <td>-964.292779</td>\n",
              "      <td>74.554579</td>\n",
              "    </tr>\n",
              "    <tr>\n",
              "      <th>22</th>\n",
              "      <td>0.004682</td>\n",
              "      <td>0.000188</td>\n",
              "      <td>0.003490</td>\n",
              "      <td>0.000195</td>\n",
              "      <td>10.0</td>\n",
              "      <td>{'alpha': 10.0}</td>\n",
              "      <td>-2581.041683</td>\n",
              "      <td>-1387.867131</td>\n",
              "      <td>-1669.502316</td>\n",
              "      <td>-1666.215805</td>\n",
              "      <td>...</td>\n",
              "      <td>-1803.779991</td>\n",
              "      <td>405.483697</td>\n",
              "      <td>2</td>\n",
              "      <td>-850.549100</td>\n",
              "      <td>-1029.924744</td>\n",
              "      <td>-1011.534444</td>\n",
              "      <td>-1059.086879</td>\n",
              "      <td>-932.954269</td>\n",
              "      <td>-976.809887</td>\n",
              "      <td>75.712070</td>\n",
              "    </tr>\n",
              "    <tr>\n",
              "      <th>23</th>\n",
              "      <td>0.004557</td>\n",
              "      <td>0.000112</td>\n",
              "      <td>0.004750</td>\n",
              "      <td>0.002722</td>\n",
              "      <td>20</td>\n",
              "      <td>{'alpha': 20}</td>\n",
              "      <td>-2604.787966</td>\n",
              "      <td>-1387.796537</td>\n",
              "      <td>-1678.663330</td>\n",
              "      <td>-1549.074431</td>\n",
              "      <td>...</td>\n",
              "      <td>-1784.205839</td>\n",
              "      <td>425.180768</td>\n",
              "      <td>1</td>\n",
              "      <td>-912.559618</td>\n",
              "      <td>-1140.160118</td>\n",
              "      <td>-1092.388544</td>\n",
              "      <td>-1151.181177</td>\n",
              "      <td>-1040.146705</td>\n",
              "      <td>-1067.287233</td>\n",
              "      <td>86.782452</td>\n",
              "    </tr>\n",
              "    <tr>\n",
              "      <th>24</th>\n",
              "      <td>0.004497</td>\n",
              "      <td>0.000085</td>\n",
              "      <td>0.003676</td>\n",
              "      <td>0.000370</td>\n",
              "      <td>50</td>\n",
              "      <td>{'alpha': 50}</td>\n",
              "      <td>-2608.239363</td>\n",
              "      <td>-1387.190461</td>\n",
              "      <td>-1721.955214</td>\n",
              "      <td>-1595.731522</td>\n",
              "      <td>...</td>\n",
              "      <td>-1805.874023</td>\n",
              "      <td>419.122925</td>\n",
              "      <td>3</td>\n",
              "      <td>-1059.364018</td>\n",
              "      <td>-1309.890288</td>\n",
              "      <td>-1220.037354</td>\n",
              "      <td>-1300.423930</td>\n",
              "      <td>-1213.192950</td>\n",
              "      <td>-1220.581708</td>\n",
              "      <td>89.885301</td>\n",
              "    </tr>\n",
              "    <tr>\n",
              "      <th>25</th>\n",
              "      <td>0.005292</td>\n",
              "      <td>0.000922</td>\n",
              "      <td>0.004837</td>\n",
              "      <td>0.002608</td>\n",
              "      <td>100</td>\n",
              "      <td>{'alpha': 100}</td>\n",
              "      <td>-2618.700427</td>\n",
              "      <td>-1424.580258</td>\n",
              "      <td>-1747.083156</td>\n",
              "      <td>-1954.569963</td>\n",
              "      <td>...</td>\n",
              "      <td>-1913.087700</td>\n",
              "      <td>393.542562</td>\n",
              "      <td>12</td>\n",
              "      <td>-1231.676445</td>\n",
              "      <td>-1495.514590</td>\n",
              "      <td>-1408.304085</td>\n",
              "      <td>-1442.082987</td>\n",
              "      <td>-1379.988091</td>\n",
              "      <td>-1391.513240</td>\n",
              "      <td>88.697399</td>\n",
              "    </tr>\n",
              "  </tbody>\n",
              "</table>\n",
              "<p>26 rows × 21 columns</p>\n",
              "</div>\n",
              "      <button class=\"colab-df-convert\" onclick=\"convertToInteractive('df-2a5c0c49-212d-40da-a7b7-be9bcf6d3553')\"\n",
              "              title=\"Convert this dataframe to an interactive table.\"\n",
              "              style=\"display:none;\">\n",
              "        \n",
              "  <svg xmlns=\"http://www.w3.org/2000/svg\" height=\"24px\"viewBox=\"0 0 24 24\"\n",
              "       width=\"24px\">\n",
              "    <path d=\"M0 0h24v24H0V0z\" fill=\"none\"/>\n",
              "    <path d=\"M18.56 5.44l.94 2.06.94-2.06 2.06-.94-2.06-.94-.94-2.06-.94 2.06-2.06.94zm-11 1L8.5 8.5l.94-2.06 2.06-.94-2.06-.94L8.5 2.5l-.94 2.06-2.06.94zm10 10l.94 2.06.94-2.06 2.06-.94-2.06-.94-.94-2.06-.94 2.06-2.06.94z\"/><path d=\"M17.41 7.96l-1.37-1.37c-.4-.4-.92-.59-1.43-.59-.52 0-1.04.2-1.43.59L10.3 9.45l-7.72 7.72c-.78.78-.78 2.05 0 2.83L4 21.41c.39.39.9.59 1.41.59.51 0 1.02-.2 1.41-.59l7.78-7.78 2.81-2.81c.8-.78.8-2.07 0-2.86zM5.41 20L4 18.59l7.72-7.72 1.47 1.35L5.41 20z\"/>\n",
              "  </svg>\n",
              "      </button>\n",
              "      \n",
              "  <style>\n",
              "    .colab-df-container {\n",
              "      display:flex;\n",
              "      flex-wrap:wrap;\n",
              "      gap: 12px;\n",
              "    }\n",
              "\n",
              "    .colab-df-convert {\n",
              "      background-color: #E8F0FE;\n",
              "      border: none;\n",
              "      border-radius: 50%;\n",
              "      cursor: pointer;\n",
              "      display: none;\n",
              "      fill: #1967D2;\n",
              "      height: 32px;\n",
              "      padding: 0 0 0 0;\n",
              "      width: 32px;\n",
              "    }\n",
              "\n",
              "    .colab-df-convert:hover {\n",
              "      background-color: #E2EBFA;\n",
              "      box-shadow: 0px 1px 2px rgba(60, 64, 67, 0.3), 0px 1px 3px 1px rgba(60, 64, 67, 0.15);\n",
              "      fill: #174EA6;\n",
              "    }\n",
              "\n",
              "    [theme=dark] .colab-df-convert {\n",
              "      background-color: #3B4455;\n",
              "      fill: #D2E3FC;\n",
              "    }\n",
              "\n",
              "    [theme=dark] .colab-df-convert:hover {\n",
              "      background-color: #434B5C;\n",
              "      box-shadow: 0px 1px 3px 1px rgba(0, 0, 0, 0.15);\n",
              "      filter: drop-shadow(0px 1px 2px rgba(0, 0, 0, 0.3));\n",
              "      fill: #FFFFFF;\n",
              "    }\n",
              "  </style>\n",
              "\n",
              "      <script>\n",
              "        const buttonEl =\n",
              "          document.querySelector('#df-2a5c0c49-212d-40da-a7b7-be9bcf6d3553 button.colab-df-convert');\n",
              "        buttonEl.style.display =\n",
              "          google.colab.kernel.accessAllowed ? 'block' : 'none';\n",
              "\n",
              "        async function convertToInteractive(key) {\n",
              "          const element = document.querySelector('#df-2a5c0c49-212d-40da-a7b7-be9bcf6d3553');\n",
              "          const dataTable =\n",
              "            await google.colab.kernel.invokeFunction('convertToInteractive',\n",
              "                                                     [key], {});\n",
              "          if (!dataTable) return;\n",
              "\n",
              "          const docLinkHtml = 'Like what you see? Visit the ' +\n",
              "            '<a target=\"_blank\" href=https://colab.research.google.com/notebooks/data_table.ipynb>data table notebook</a>'\n",
              "            + ' to learn more about interactive tables.';\n",
              "          element.innerHTML = '';\n",
              "          dataTable['output_type'] = 'display_data';\n",
              "          await google.colab.output.renderOutput(dataTable, element);\n",
              "          const docLink = document.createElement('div');\n",
              "          docLink.innerHTML = docLinkHtml;\n",
              "          element.appendChild(docLink);\n",
              "        }\n",
              "      </script>\n",
              "    </div>\n",
              "  </div>\n",
              "  "
            ]
          },
          "metadata": {},
          "execution_count": 278
        }
      ],
      "source": [
        "# Save GridSearchCV results into a dataframe \n",
        "cv_results = pd.DataFrame(model_cv.cv_results_)\n",
        "\n",
        "# filter cv_results with all param_alpha less than or equal to 200\n",
        "cv_results = cv_results[cv_results['param_alpha']<=200]\n",
        "\n",
        "\n",
        "# cv_results head\n",
        "cv_results"
      ]
    },
    {
      "cell_type": "markdown",
      "metadata": {
        "id": "2NxrORRZFXHN"
      },
      "source": [
        "#### plotting mean test and train scores with alpha \n"
      ]
    },
    {
      "cell_type": "code",
      "execution_count": null,
      "metadata": {
        "scrolled": true,
        "id": "Ddi2-YxmFXHO",
        "colab": {
          "base_uri": "https://localhost:8080/",
          "height": 295
        },
        "outputId": "dd7b3c7c-9afc-49cc-c03b-dcfffa1a418f"
      },
      "outputs": [
        {
          "output_type": "display_data",
          "data": {
            "text/plain": [
              "<Figure size 432x288 with 1 Axes>"
            ],
            "image/png": "[encoded data removed]"
          },
          "metadata": {
            "needs_background": "light"
          }
        }
      ],
      "source": [
        "# change datatype of 'param_alpha' into int\n",
        "cv_results['param_alpha'] = cv_results['param_alpha'].astype(int)\n",
        "# plotting\n",
        "plt.plot(cv_results['param_alpha'],cv_results['mean_test_score'])\n",
        "plt.plot(cv_results['param_alpha'],cv_results['mean_train_score'])\n",
        "plt.xlabel('aplha')\n",
        "plt.ylabel('Negative mean absolute error')\n",
        "plt.title('aplha vs Negative mean absolute error')\n",
        "plt.show()"
      ]
    },
    {
      "cell_type": "code",
      "execution_count": null,
      "metadata": {
        "id": "tG9d2juZFXHO",
        "colab": {
          "base_uri": "https://localhost:8080/"
        },
        "outputId": "f9080af5-c0c9-43ef-f2ba-dd0f42ed43c9"
      },
      "outputs": [
        {
          "output_type": "execute_result",
          "data": {
            "text/plain": [
              "{'alpha': 20}"
            ]
          },
          "metadata": {},
          "execution_count": 280
        }
      ],
      "source": [
        "# checking best alpha from model_cv\n",
        "model_cv.best_params_"
      ]
    },
    {
      "cell_type": "markdown",
      "metadata": {
        "id": "b8fDkX6MFXHO"
      },
      "source": [
        "As you can see that trai and test scores start to become parallel to each other after apha crosses 10. \n",
        "So lets check our ridge model on alpha 10."
      ]
    },
    {
      "cell_type": "code",
      "execution_count": null,
      "metadata": {
        "id": "4OlTVZJvFXHP",
        "colab": {
          "base_uri": "https://localhost:8080/"
        },
        "outputId": "15759b5b-3851-41c2-b5c0-926c14337999"
      },
      "outputs": [
        {
          "output_type": "execute_result",
          "data": {
            "text/plain": [
              "array([ 5.39264928e+02,  2.89202385e+02,  1.16455013e+03, -1.93963553e+02,\n",
              "        1.00151985e+03,  1.03840833e+03,  2.64457748e+02, -9.64892830e+01,\n",
              "        3.19896396e+01,  8.77449765e+02,  4.35678230e+02,  1.29434897e+01,\n",
              "       -2.83499603e+01,  5.45050225e+01, -3.11080083e+02,  6.22793159e+01,\n",
              "       -2.85072824e+01, -1.11847882e+01,  2.33298013e+01,  1.28981674e+02,\n",
              "       -1.28981674e+02, -2.70801789e+02,  2.70801789e+02, -1.43166905e+01,\n",
              "        1.43166905e+01,  4.84978275e+02,  3.04847522e+01, -1.43622479e+02,\n",
              "        4.04538675e+00, -6.58956447e+01, -2.48391775e+01, -3.00097897e+02,\n",
              "        3.16634851e+02, -5.58869269e+02,  5.58869269e+02, -2.26556513e+02,\n",
              "       -2.39469936e+02, -2.39074025e+02,  3.66196625e+02, -6.54801205e+00,\n",
              "       -2.10932042e+02,  1.08698017e+02,  7.79639284e+02, -7.61676037e+01,\n",
              "       -5.53183446e+02,  2.88986460e+02,  2.75551422e+02,  7.62711661e+00,\n",
              "        1.08698017e+02, -7.63970085e+01,  3.09574182e+01, -1.66103632e+02,\n",
              "        1.28981674e+02, -1.92592977e-28,  2.57774868e+01, -1.38707402e+02,\n",
              "       -1.92592977e-28,  1.70906386e+02,  1.63011191e+02,  1.34183737e+03,\n",
              "        6.97646607e+02, -7.58522298e+01, -2.53930642e+02, -1.44929301e+02,\n",
              "        1.50611611e+01,  8.73789701e+02, -1.45426073e+02, -1.92592977e-28,\n",
              "       -4.82719757e+02, -2.65544461e+02, -3.34256536e+02, -1.75330656e+02,\n",
              "        5.93468856e+02, -2.21096340e+02,  2.23536622e+02, -2.93139494e+02,\n",
              "       -3.89954944e+02, -1.60781151e+02,  1.11054523e+02])"
            ]
          },
          "metadata": {},
          "execution_count": 281
        }
      ],
      "source": [
        "#sel alpha as 10\n",
        "alpha = 20\n",
        "\n",
        "# Initialise Ridge() with above alpha\n",
        "ridge = Ridge(alpha = alpha)\n",
        "\n",
        "#fit model\n",
        "model = ridge.fit(Xtrain,Ytrain)\n",
        "\n",
        "\n",
        "#print ridge coeficients\n",
        "model.coef_"
      ]
    },
    {
      "cell_type": "markdown",
      "metadata": {
        "id": "B1rM5CWZFXHP"
      },
      "source": [
        "## Lasso\n",
        "\n",
        "##### Cross validation and Hyperparameter tuning: GridSearchCV"
      ]
    },
    {
      "cell_type": "code",
      "execution_count": null,
      "metadata": {
        "scrolled": false,
        "id": "fxjUKtNOFXHP",
        "colab": {
          "base_uri": "https://localhost:8080/"
        },
        "outputId": "58cdb0ea-7aba-4e96-c776-00930078b4be"
      },
      "outputs": [
        {
          "output_type": "stream",
          "name": "stdout",
          "text": [
            "Fitting 5 folds for each of 28 candidates, totalling 140 fits\n"
          ]
        },
        {
          "output_type": "execute_result",
          "data": {
            "text/plain": [
              "GridSearchCV(estimator=Lasso(),\n",
              "             param_grid={'alpha': [0.0001, 0.001, 0.01, 0.05, 0.1, 0.2, 0.3,\n",
              "                                   0.4, 0.5, 0.6, 0.7, 0.8, 0.9, 1.0, 2.0, 3.0,\n",
              "                                   4.0, 5.0, 6.0, 7.0, 8.0, 9.0, 10.0, 20, 50,\n",
              "                                   100, 500, 1000]},\n",
              "             return_train_score=True, scoring='neg_mean_absolute_error',\n",
              "             verbose=1)"
            ]
          },
          "metadata": {},
          "execution_count": 282
        }
      ],
      "source": [
        "# Initialise Lasso()\n",
        "lasso = Lasso()\n",
        "\n",
        "# cross validation and Hyperparameter tuning using lasso\n",
        "#use same attributes used for Ridge tuning except estimator here would be lasso\n",
        "model_cv = GSC(estimator=lasso,param_grid=params,scoring='neg_mean_absolute_error',verbose=1,return_train_score=True)\n",
        "#fit model_cv\n",
        "model_cv.fit(Xtrain,Ytrain)"
      ]
    },
    {
      "cell_type": "code",
      "execution_count": null,
      "metadata": {
        "scrolled": true,
        "id": "hBwtv83HFXHQ",
        "colab": {
          "base_uri": "https://localhost:8080/",
          "height": 386
        },
        "outputId": "7f91ed97-09ba-49b1-8023-7a6348927803"
      },
      "outputs": [
        {
          "output_type": "execute_result",
          "data": {
            "text/plain": [
              "   mean_fit_time  std_fit_time  mean_score_time  std_score_time param_alpha  \\\n",
              "0       0.018061      0.002944         0.003271        0.000498      0.0001   \n",
              "1       0.013233      0.001397         0.002452        0.000183       0.001   \n",
              "2       0.014363      0.002086         0.002547        0.000154        0.01   \n",
              "3       0.012639      0.000399         0.002401        0.000048        0.05   \n",
              "4       0.012257      0.000367         0.002337        0.000042         0.1   \n",
              "\n",
              "              params  split0_test_score  split1_test_score  split2_test_score  \\\n",
              "0  {'alpha': 0.0001}       -2367.261791       -1546.022072       -1546.617992   \n",
              "1   {'alpha': 0.001}       -2367.381841       -1545.711826       -1546.632646   \n",
              "2    {'alpha': 0.01}       -2368.711480       -1542.606280       -1546.777573   \n",
              "3    {'alpha': 0.05}       -2377.273146       -1528.825665       -1547.088212   \n",
              "4     {'alpha': 0.1}       -2391.590708       -1508.846840       -1547.546663   \n",
              "\n",
              "   split3_test_score  ...  mean_test_score  std_test_score  rank_test_score  \\\n",
              "0       -3472.916673  ...     -2243.825048      707.210607               27   \n",
              "1       -3472.535319  ...     -2243.678711      707.138500               26   \n",
              "2       -3468.724766  ...     -2242.248983      706.426897               25   \n",
              "3       -3451.764566  ...     -2236.497576      703.485693               24   \n",
              "4       -3430.334198  ...     -2230.180075      700.647021               22   \n",
              "\n",
              "   split0_train_score  split1_train_score  split2_train_score  \\\n",
              "0         -701.703112         -813.107455         -827.282645   \n",
              "1         -701.707087         -813.103490         -827.273610   \n",
              "2         -701.748324         -813.066300         -827.183259   \n",
              "3         -701.961019         -812.956356         -826.833196   \n",
              "4         -702.284835         -812.762892         -826.441874   \n",
              "\n",
              "   split3_train_score  split4_train_score  mean_train_score  std_train_score  \n",
              "0         -900.383648         -716.429524       -791.781277        73.893965  \n",
              "1         -900.375758         -716.426648       -791.777319        73.890166  \n",
              "2         -900.296854         -716.399626       -791.738873        73.851608  \n",
              "3         -899.960980         -716.301233       -791.602557        73.681240  \n",
              "4         -899.563088         -716.198991       -791.450336        73.457813  \n",
              "\n",
              "[5 rows x 21 columns]"
            ],
            "text/html": [
              "\n",
              "  <div id=\"df-471045e6-88ef-4f9b-b252-6ed9c80d1de2\">\n",
              "    <div class=\"colab-df-container\">\n",
              "      <div>\n",
              "<style scoped>\n",
              "    .dataframe tbody tr th:only-of-type {\n",
              "        vertical-align: middle;\n",
              "    }\n",
              "\n",
              "    .dataframe tbody tr th {\n",
              "        vertical-align: top;\n",
              "    }\n",
              "\n",
              "    .dataframe thead th {\n",
              "        text-align: right;\n",
              "    }\n",
              "</style>\n",
              "<table border=\"1\" class=\"dataframe\">\n",
              "  <thead>\n",
              "    <tr style=\"text-align: right;\">\n",
              "      <th></th>\n",
              "      <th>mean_fit_time</th>\n",
              "      <th>std_fit_time</th>\n",
              "      <th>mean_score_time</th>\n",
              "      <th>std_score_time</th>\n",
              "      <th>param_alpha</th>\n",
              "      <th>params</th>\n",
              "      <th>split0_test_score</th>\n",
              "      <th>split1_test_score</th>\n",
              "      <th>split2_test_score</th>\n",
              "      <th>split3_test_score</th>\n",
              "      <th>...</th>\n",
              "      <th>mean_test_score</th>\n",
              "      <th>std_test_score</th>\n",
              "      <th>rank_test_score</th>\n",
              "      <th>split0_train_score</th>\n",
              "      <th>split1_train_score</th>\n",
              "      <th>split2_train_score</th>\n",
              "      <th>split3_train_score</th>\n",
              "      <th>split4_train_score</th>\n",
              "      <th>mean_train_score</th>\n",
              "      <th>std_train_score</th>\n",
              "    </tr>\n",
              "  </thead>\n",
              "  <tbody>\n",
              "    <tr>\n",
              "      <th>0</th>\n",
              "      <td>0.018061</td>\n",
              "      <td>0.002944</td>\n",
              "      <td>0.003271</td>\n",
              "      <td>0.000498</td>\n",
              "      <td>0.0001</td>\n",
              "      <td>{'alpha': 0.0001}</td>\n",
              "      <td>-2367.261791</td>\n",
              "      <td>-1546.022072</td>\n",
              "      <td>-1546.617992</td>\n",
              "      <td>-3472.916673</td>\n",
              "      <td>...</td>\n",
              "      <td>-2243.825048</td>\n",
              "      <td>707.210607</td>\n",
              "      <td>27</td>\n",
              "      <td>-701.703112</td>\n",
              "      <td>-813.107455</td>\n",
              "      <td>-827.282645</td>\n",
              "      <td>-900.383648</td>\n",
              "      <td>-716.429524</td>\n",
              "      <td>-791.781277</td>\n",
              "      <td>73.893965</td>\n",
              "    </tr>\n",
              "    <tr>\n",
              "      <th>1</th>\n",
              "      <td>0.013233</td>\n",
              "      <td>0.001397</td>\n",
              "      <td>0.002452</td>\n",
              "      <td>0.000183</td>\n",
              "      <td>0.001</td>\n",
              "      <td>{'alpha': 0.001}</td>\n",
              "      <td>-2367.381841</td>\n",
              "      <td>-1545.711826</td>\n",
              "      <td>-1546.632646</td>\n",
              "      <td>-3472.535319</td>\n",
              "      <td>...</td>\n",
              "      <td>-2243.678711</td>\n",
              "      <td>707.138500</td>\n",
              "      <td>26</td>\n",
              "      <td>-701.707087</td>\n",
              "      <td>-813.103490</td>\n",
              "      <td>-827.273610</td>\n",
              "      <td>-900.375758</td>\n",
              "      <td>-716.426648</td>\n",
              "      <td>-791.777319</td>\n",
              "      <td>73.890166</td>\n",
              "    </tr>\n",
              "    <tr>\n",
              "      <th>2</th>\n",
              "      <td>0.014363</td>\n",
              "      <td>0.002086</td>\n",
              "      <td>0.002547</td>\n",
              "      <td>0.000154</td>\n",
              "      <td>0.01</td>\n",
              "      <td>{'alpha': 0.01}</td>\n",
              "      <td>-2368.711480</td>\n",
              "      <td>-1542.606280</td>\n",
              "      <td>-1546.777573</td>\n",
              "      <td>-3468.724766</td>\n",
              "      <td>...</td>\n",
              "      <td>-2242.248983</td>\n",
              "      <td>706.426897</td>\n",
              "      <td>25</td>\n",
              "      <td>-701.748324</td>\n",
              "      <td>-813.066300</td>\n",
              "      <td>-827.183259</td>\n",
              "      <td>-900.296854</td>\n",
              "      <td>-716.399626</td>\n",
              "      <td>-791.738873</td>\n",
              "      <td>73.851608</td>\n",
              "    </tr>\n",
              "    <tr>\n",
              "      <th>3</th>\n",
              "      <td>0.012639</td>\n",
              "      <td>0.000399</td>\n",
              "      <td>0.002401</td>\n",
              "      <td>0.000048</td>\n",
              "      <td>0.05</td>\n",
              "      <td>{'alpha': 0.05}</td>\n",
              "      <td>-2377.273146</td>\n",
              "      <td>-1528.825665</td>\n",
              "      <td>-1547.088212</td>\n",
              "      <td>-3451.764566</td>\n",
              "      <td>...</td>\n",
              "      <td>-2236.497576</td>\n",
              "      <td>703.485693</td>\n",
              "      <td>24</td>\n",
              "      <td>-701.961019</td>\n",
              "      <td>-812.956356</td>\n",
              "      <td>-826.833196</td>\n",
              "      <td>-899.960980</td>\n",
              "      <td>-716.301233</td>\n",
              "      <td>-791.602557</td>\n",
              "      <td>73.681240</td>\n",
              "    </tr>\n",
              "    <tr>\n",
              "      <th>4</th>\n",
              "      <td>0.012257</td>\n",
              "      <td>0.000367</td>\n",
              "      <td>0.002337</td>\n",
              "      <td>0.000042</td>\n",
              "      <td>0.1</td>\n",
              "      <td>{'alpha': 0.1}</td>\n",
              "      <td>-2391.590708</td>\n",
              "      <td>-1508.846840</td>\n",
              "      <td>-1547.546663</td>\n",
              "      <td>-3430.334198</td>\n",
              "      <td>...</td>\n",
              "      <td>-2230.180075</td>\n",
              "      <td>700.647021</td>\n",
              "      <td>22</td>\n",
              "      <td>-702.284835</td>\n",
              "      <td>-812.762892</td>\n",
              "      <td>-826.441874</td>\n",
              "      <td>-899.563088</td>\n",
              "      <td>-716.198991</td>\n",
              "      <td>-791.450336</td>\n",
              "      <td>73.457813</td>\n",
              "    </tr>\n",
              "  </tbody>\n",
              "</table>\n",
              "<p>5 rows × 21 columns</p>\n",
              "</div>\n",
              "      <button class=\"colab-df-convert\" onclick=\"convertToInteractive('df-471045e6-88ef-4f9b-b252-6ed9c80d1de2')\"\n",
              "              title=\"Convert this dataframe to an interactive table.\"\n",
              "              style=\"display:none;\">\n",
              "        \n",
              "  <svg xmlns=\"http://www.w3.org/2000/svg\" height=\"24px\"viewBox=\"0 0 24 24\"\n",
              "       width=\"24px\">\n",
              "    <path d=\"M0 0h24v24H0V0z\" fill=\"none\"/>\n",
              "    <path d=\"M18.56 5.44l.94 2.06.94-2.06 2.06-.94-2.06-.94-.94-2.06-.94 2.06-2.06.94zm-11 1L8.5 8.5l.94-2.06 2.06-.94-2.06-.94L8.5 2.5l-.94 2.06-2.06.94zm10 10l.94 2.06.94-2.06 2.06-.94-2.06-.94-.94-2.06-.94 2.06-2.06.94z\"/><path d=\"M17.41 7.96l-1.37-1.37c-.4-.4-.92-.59-1.43-.59-.52 0-1.04.2-1.43.59L10.3 9.45l-7.72 7.72c-.78.78-.78 2.05 0 2.83L4 21.41c.39.39.9.59 1.41.59.51 0 1.02-.2 1.41-.59l7.78-7.78 2.81-2.81c.8-.78.8-2.07 0-2.86zM5.41 20L4 18.59l7.72-7.72 1.47 1.35L5.41 20z\"/>\n",
              "  </svg>\n",
              "      </button>\n",
              "      \n",
              "  <style>\n",
              "    .colab-df-container {\n",
              "      display:flex;\n",
              "      flex-wrap:wrap;\n",
              "      gap: 12px;\n",
              "    }\n",
              "\n",
              "    .colab-df-convert {\n",
              "      background-color: #E8F0FE;\n",
              "      border: none;\n",
              "      border-radius: 50%;\n",
              "      cursor: pointer;\n",
              "      display: none;\n",
              "      fill: #1967D2;\n",
              "      height: 32px;\n",
              "      padding: 0 0 0 0;\n",
              "      width: 32px;\n",
              "    }\n",
              "\n",
              "    .colab-df-convert:hover {\n",
              "      background-color: #E2EBFA;\n",
              "      box-shadow: 0px 1px 2px rgba(60, 64, 67, 0.3), 0px 1px 3px 1px rgba(60, 64, 67, 0.15);\n",
              "      fill: #174EA6;\n",
              "    }\n",
              "\n",
              "    [theme=dark] .colab-df-convert {\n",
              "      background-color: #3B4455;\n",
              "      fill: #D2E3FC;\n",
              "    }\n",
              "\n",
              "    [theme=dark] .colab-df-convert:hover {\n",
              "      background-color: #434B5C;\n",
              "      box-shadow: 0px 1px 3px 1px rgba(0, 0, 0, 0.15);\n",
              "      filter: drop-shadow(0px 1px 2px rgba(0, 0, 0, 0.3));\n",
              "      fill: #FFFFFF;\n",
              "    }\n",
              "  </style>\n",
              "\n",
              "      <script>\n",
              "        const buttonEl =\n",
              "          document.querySelector('#df-471045e6-88ef-4f9b-b252-6ed9c80d1de2 button.colab-df-convert');\n",
              "        buttonEl.style.display =\n",
              "          google.colab.kernel.accessAllowed ? 'block' : 'none';\n",
              "\n",
              "        async function convertToInteractive(key) {\n",
              "          const element = document.querySelector('#df-471045e6-88ef-4f9b-b252-6ed9c80d1de2');\n",
              "          const dataTable =\n",
              "            await google.colab.kernel.invokeFunction('convertToInteractive',\n",
              "                                                     [key], {});\n",
              "          if (!dataTable) return;\n",
              "\n",
              "          const docLinkHtml = 'Like what you see? Visit the ' +\n",
              "            '<a target=\"_blank\" href=https://colab.research.google.com/notebooks/data_table.ipynb>data table notebook</a>'\n",
              "            + ' to learn more about interactive tables.';\n",
              "          element.innerHTML = '';\n",
              "          dataTable['output_type'] = 'display_data';\n",
              "          await google.colab.output.renderOutput(dataTable, element);\n",
              "          const docLink = document.createElement('div');\n",
              "          docLink.innerHTML = docLinkHtml;\n",
              "          element.appendChild(docLink);\n",
              "        }\n",
              "      </script>\n",
              "    </div>\n",
              "  </div>\n",
              "  "
            ]
          },
          "metadata": {},
          "execution_count": 283
        }
      ],
      "source": [
        "# Save model_cv results into a dataframe\n",
        "cv_results = pd.DataFrame(model_cv.cv_results_)\n",
        "\n",
        "# cv_results head\n",
        "cv_results.head()\n",
        "\n"
      ]
    },
    {
      "cell_type": "markdown",
      "metadata": {
        "id": "56UCW4KvFXHQ"
      },
      "source": [
        "#### plotting mean test and train scores with alpha \n"
      ]
    },
    {
      "cell_type": "code",
      "execution_count": null,
      "metadata": {
        "id": "JwLmkwNkFXHQ",
        "colab": {
          "base_uri": "https://localhost:8080/",
          "height": 313
        },
        "outputId": "d754f589-0a5f-40db-9e25-e071308f6498"
      },
      "outputs": [
        {
          "output_type": "execute_result",
          "data": {
            "text/plain": [
              "Text(0.5, 1.0, 'aplha vs Negative absolute error')"
            ]
          },
          "metadata": {},
          "execution_count": 284
        },
        {
          "output_type": "display_data",
          "data": {
            "text/plain": [
              "<Figure size 432x288 with 1 Axes>"
            ],
            "image/png": "[encoded data removed]"
          },
          "metadata": {
            "needs_background": "light"
          }
        }
      ],
      "source": [
        "# change param_alpha datatype to float\n",
        "cv_results['param_alpha'] = cv_results['param_alpha'].astype(int)\n",
        "# plotting\n",
        "plt.plot(cv_results['param_alpha'],cv_results['mean_train_score'])\n",
        "plt.plot(cv_results['param_alpha'],cv_results['mean_test_score'])\n",
        "plt.xlabel('alpha')\n",
        "plt.ylabel('Negative absolute error')\n",
        "plt.title('aplha vs Negative absolute error')"
      ]
    },
    {
      "cell_type": "code",
      "execution_count": null,
      "metadata": {
        "id": "99K097agFXHR",
        "colab": {
          "base_uri": "https://localhost:8080/"
        },
        "outputId": "a8217747-b96e-4207-9a6e-2e34cbdca857"
      },
      "outputs": [
        {
          "output_type": "execute_result",
          "data": {
            "text/plain": [
              "{'alpha': 100}"
            ]
          },
          "metadata": {},
          "execution_count": 285
        }
      ],
      "source": [
        "# Checking best  alpha from model_cv\n",
        "model_cv.best_params_"
      ]
    },
    {
      "cell_type": "markdown",
      "metadata": {
        "id": "a6_kmHNnFXHR"
      },
      "source": [
        "As you can see that trai and test scores start to become parallel to each other after apha crosses 100. So lets check our Lasso model on alpha 100."
      ]
    },
    {
      "cell_type": "code",
      "execution_count": null,
      "metadata": {
        "id": "RJGZa79pFXHR",
        "colab": {
          "base_uri": "https://localhost:8080/"
        },
        "outputId": "73cf6ed5-7f48-4e9e-fca1-c263f89626e2"
      },
      "outputs": [
        {
          "output_type": "execute_result",
          "data": {
            "text/plain": [
              "Lasso(alpha=100)"
            ]
          },
          "metadata": {},
          "execution_count": 286
        }
      ],
      "source": [
        "# St alpha =100\n",
        "alpha = 100\n",
        "\n",
        "# Define lasso with above alpha\n",
        "lasso = Lasso(alpha = alpha)\n",
        "  \n",
        "# fit lasso\n",
        "\n",
        "lasso.fit(Xtrain,Ytrain)\n"
      ]
    },
    {
      "cell_type": "code",
      "execution_count": null,
      "metadata": {
        "id": "pGSPw80BFXHS",
        "colab": {
          "base_uri": "https://localhost:8080/"
        },
        "outputId": "0c4664d3-5db7-4522-c661-8a4c79d8411e"
      },
      "outputs": [
        {
          "output_type": "execute_result",
          "data": {
            "text/plain": [
              "array([ 0.00000000e+00,  0.00000000e+00,  1.97939938e+03, -0.00000000e+00,\n",
              "        1.76831443e+03,  7.55101010e+02,  0.00000000e+00, -0.00000000e+00,\n",
              "        0.00000000e+00,  6.98282188e+02,  2.18359881e+02,  0.00000000e+00,\n",
              "        0.00000000e+00,  0.00000000e+00, -1.98197351e+02, -0.00000000e+00,\n",
              "       -0.00000000e+00,  0.00000000e+00,  0.00000000e+00,  1.40280506e+02,\n",
              "       -2.30368145e-12, -2.77486073e+02,  1.01181303e-13, -0.00000000e+00,\n",
              "        0.00000000e+00,  4.86123878e+02,  0.00000000e+00, -0.00000000e+00,\n",
              "        3.51152575e+01, -3.91405942e+01,  0.00000000e+00, -9.61167523e+01,\n",
              "        2.90182014e+02, -1.44332667e+03,  0.00000000e+00, -0.00000000e+00,\n",
              "       -3.69113996e+01, -0.00000000e+00,  2.08413296e+01, -0.00000000e+00,\n",
              "       -0.00000000e+00,  5.77549327e+01,  3.51353750e+02,  0.00000000e+00,\n",
              "       -3.48033405e+02, -0.00000000e+00,  1.92577833e+02, -0.00000000e+00,\n",
              "        1.00588403e+01, -0.00000000e+00, -0.00000000e+00, -0.00000000e+00,\n",
              "        5.95954646e+01, -0.00000000e+00,  0.00000000e+00, -0.00000000e+00,\n",
              "       -0.00000000e+00,  9.54654049e+01,  1.28707733e+02,  1.90451193e+03,\n",
              "        8.97864060e+02,  0.00000000e+00, -0.00000000e+00, -0.00000000e+00,\n",
              "        1.51391879e+02,  9.09185688e+02,  0.00000000e+00, -0.00000000e+00,\n",
              "       -3.06943792e+02, -0.00000000e+00, -3.93664684e+02, -0.00000000e+00,\n",
              "        5.92569763e+02, -1.54524408e+02,  1.70608428e+02, -1.07397331e+02,\n",
              "       -1.01879709e+02, -0.00000000e+00,  3.31909282e+02])"
            ]
          },
          "metadata": {},
          "execution_count": 287
        }
      ],
      "source": [
        "# print lasso coeficients\n",
        "lasso.coef_\n"
      ]
    },
    {
      "cell_type": "markdown",
      "metadata": {
        "id": "iS69cCfaFXHS"
      },
      "source": [
        "# ElasticNet Regression\n",
        "\n",
        "##### Cross validation and Hyperparameter tuning: GridSearchCV"
      ]
    },
    {
      "cell_type": "code",
      "execution_count": null,
      "metadata": {
        "id": "4UGQs4j1FXHS",
        "colab": {
          "base_uri": "https://localhost:8080/"
        },
        "outputId": "27b03649-f6c7-4cb8-b576-75a1398fe503"
      },
      "outputs": [
        {
          "output_type": "stream",
          "name": "stdout",
          "text": [
            "Fitting 5 folds for each of 28 candidates, totalling 140 fits\n"
          ]
        },
        {
          "output_type": "execute_result",
          "data": {
            "text/plain": [
              "GridSearchCV(estimator=ElasticNet(),\n",
              "             param_grid={'alpha': [0.0001, 0.001, 0.01, 0.05, 0.1, 0.2, 0.3,\n",
              "                                   0.4, 0.5, 0.6, 0.7, 0.8, 0.9, 1.0, 2.0, 3.0,\n",
              "                                   4.0, 5.0, 6.0, 7.0, 8.0, 9.0, 10.0, 20, 50,\n",
              "                                   100, 500, 1000]},\n",
              "             return_train_score=True, scoring='neg_mean_absolute_error',\n",
              "             verbose=1)"
            ]
          },
          "metadata": {},
          "execution_count": 288
        }
      ],
      "source": [
        "from sklearn.linear_model import ElasticNet\n",
        "\n",
        "# Initialise ElasticNet()\n",
        "elasticnet = ElasticNet()\n",
        "\n",
        "# cross validation and Hyperparameter tuning using lasso\n",
        "#use same attributes used for Ridge tuning except estimator here would be ElasticNet\n",
        "model_cv = GSC(estimator=elasticnet,param_grid=params,scoring='neg_mean_absolute_error',verbose=1,return_train_score=True)\n",
        "\n",
        "\n",
        "#fit model_cv\n",
        "\n",
        "model_cv.fit(Xtrain,Ytrain)\n"
      ]
    },
    {
      "cell_type": "code",
      "execution_count": null,
      "metadata": {
        "id": "m6Huj-khFXHT",
        "colab": {
          "base_uri": "https://localhost:8080/",
          "height": 386
        },
        "outputId": "58e6b1e9-1ae0-477d-c2d2-3010b207da7e"
      },
      "outputs": [
        {
          "output_type": "execute_result",
          "data": {
            "text/plain": [
              "   mean_fit_time  std_fit_time  mean_score_time  std_score_time param_alpha  \\\n",
              "0       0.016990      0.003190         0.003314        0.000730      0.0001   \n",
              "1       0.015662      0.003922         0.002622        0.000278       0.001   \n",
              "2       0.013623      0.000550         0.002429        0.000070        0.01   \n",
              "3       0.007446      0.000926         0.002469        0.000088        0.05   \n",
              "4       0.005721      0.000104         0.002346        0.000084         0.1   \n",
              "\n",
              "              params  split0_test_score  split1_test_score  split2_test_score  \\\n",
              "0  {'alpha': 0.0001}       -2385.711208       -1532.587882       -1550.735066   \n",
              "1   {'alpha': 0.001}       -2492.288972       -1449.070967       -1579.458994   \n",
              "2    {'alpha': 0.01}       -2497.865332       -1380.426462       -1627.000709   \n",
              "3    {'alpha': 0.05}       -2517.186387       -1373.740991       -1608.876237   \n",
              "4     {'alpha': 0.1}       -2553.723352       -1383.512551       -1650.343979   \n",
              "\n",
              "   split3_test_score  ...  mean_test_score  std_test_score  rank_test_score  \\\n",
              "0       -3370.608936  ...     -2225.828726      674.755149               17   \n",
              "1       -2821.380423  ...     -2132.792778      531.555185               15   \n",
              "2       -2454.559305  ...     -2045.845762      455.971203               13   \n",
              "3       -1986.668089  ...     -1870.244038      386.509396               11   \n",
              "4       -1808.237084  ...     -1831.103573      390.080073               10   \n",
              "\n",
              "   split0_train_score  split1_train_score  split2_train_score  \\\n",
              "0         -702.659529         -812.505684         -825.765638   \n",
              "1         -711.849481         -813.303061         -815.003972   \n",
              "2         -740.759664         -844.889413         -813.723776   \n",
              "3         -775.485546         -904.555232         -887.650766   \n",
              "4         -810.842804         -966.198594         -949.753430   \n",
              "\n",
              "   split3_train_score  split4_train_score  mean_train_score  std_train_score  \n",
              "0         -898.368730         -715.453233       -790.950563        73.089710  \n",
              "1         -886.708128         -710.221339       -787.417196        67.763526  \n",
              "2         -894.113825         -730.969717       -804.891279        61.993206  \n",
              "3         -944.362714         -792.279240       -860.866700        65.714290  \n",
              "4         -999.420907         -857.550607       -916.753268        70.837520  \n",
              "\n",
              "[5 rows x 21 columns]"
            ],
            "text/html": [
              "\n",
              "  <div id=\"df-f1ce271b-78e7-45d1-a140-c8c9b66b39f6\">\n",
              "    <div class=\"colab-df-container\">\n",
              "      <div>\n",
              "<style scoped>\n",
              "    .dataframe tbody tr th:only-of-type {\n",
              "        vertical-align: middle;\n",
              "    }\n",
              "\n",
              "    .dataframe tbody tr th {\n",
              "        vertical-align: top;\n",
              "    }\n",
              "\n",
              "    .dataframe thead th {\n",
              "        text-align: right;\n",
              "    }\n",
              "</style>\n",
              "<table border=\"1\" class=\"dataframe\">\n",
              "  <thead>\n",
              "    <tr style=\"text-align: right;\">\n",
              "      <th></th>\n",
              "      <th>mean_fit_time</th>\n",
              "      <th>std_fit_time</th>\n",
              "      <th>mean_score_time</th>\n",
              "      <th>std_score_time</th>\n",
              "      <th>param_alpha</th>\n",
              "      <th>params</th>\n",
              "      <th>split0_test_score</th>\n",
              "      <th>split1_test_score</th>\n",
              "      <th>split2_test_score</th>\n",
              "      <th>split3_test_score</th>\n",
              "      <th>...</th>\n",
              "      <th>mean_test_score</th>\n",
              "      <th>std_test_score</th>\n",
              "      <th>rank_test_score</th>\n",
              "      <th>split0_train_score</th>\n",
              "      <th>split1_train_score</th>\n",
              "      <th>split2_train_score</th>\n",
              "      <th>split3_train_score</th>\n",
              "      <th>split4_train_score</th>\n",
              "      <th>mean_train_score</th>\n",
              "      <th>std_train_score</th>\n",
              "    </tr>\n",
              "  </thead>\n",
              "  <tbody>\n",
              "    <tr>\n",
              "      <th>0</th>\n",
              "      <td>0.016990</td>\n",
              "      <td>0.003190</td>\n",
              "      <td>0.003314</td>\n",
              "      <td>0.000730</td>\n",
              "      <td>0.0001</td>\n",
              "      <td>{'alpha': 0.0001}</td>\n",
              "      <td>-2385.711208</td>\n",
              "      <td>-1532.587882</td>\n",
              "      <td>-1550.735066</td>\n",
              "      <td>-3370.608936</td>\n",
              "      <td>...</td>\n",
              "      <td>-2225.828726</td>\n",
              "      <td>674.755149</td>\n",
              "      <td>17</td>\n",
              "      <td>-702.659529</td>\n",
              "      <td>-812.505684</td>\n",
              "      <td>-825.765638</td>\n",
              "      <td>-898.368730</td>\n",
              "      <td>-715.453233</td>\n",
              "      <td>-790.950563</td>\n",
              "      <td>73.089710</td>\n",
              "    </tr>\n",
              "    <tr>\n",
              "      <th>1</th>\n",
              "      <td>0.015662</td>\n",
              "      <td>0.003922</td>\n",
              "      <td>0.002622</td>\n",
              "      <td>0.000278</td>\n",
              "      <td>0.001</td>\n",
              "      <td>{'alpha': 0.001}</td>\n",
              "      <td>-2492.288972</td>\n",
              "      <td>-1449.070967</td>\n",
              "      <td>-1579.458994</td>\n",
              "      <td>-2821.380423</td>\n",
              "      <td>...</td>\n",
              "      <td>-2132.792778</td>\n",
              "      <td>531.555185</td>\n",
              "      <td>15</td>\n",
              "      <td>-711.849481</td>\n",
              "      <td>-813.303061</td>\n",
              "      <td>-815.003972</td>\n",
              "      <td>-886.708128</td>\n",
              "      <td>-710.221339</td>\n",
              "      <td>-787.417196</td>\n",
              "      <td>67.763526</td>\n",
              "    </tr>\n",
              "    <tr>\n",
              "      <th>2</th>\n",
              "      <td>0.013623</td>\n",
              "      <td>0.000550</td>\n",
              "      <td>0.002429</td>\n",
              "      <td>0.000070</td>\n",
              "      <td>0.01</td>\n",
              "      <td>{'alpha': 0.01}</td>\n",
              "      <td>-2497.865332</td>\n",
              "      <td>-1380.426462</td>\n",
              "      <td>-1627.000709</td>\n",
              "      <td>-2454.559305</td>\n",
              "      <td>...</td>\n",
              "      <td>-2045.845762</td>\n",
              "      <td>455.971203</td>\n",
              "      <td>13</td>\n",
              "      <td>-740.759664</td>\n",
              "      <td>-844.889413</td>\n",
              "      <td>-813.723776</td>\n",
              "      <td>-894.113825</td>\n",
              "      <td>-730.969717</td>\n",
              "      <td>-804.891279</td>\n",
              "      <td>61.993206</td>\n",
              "    </tr>\n",
              "    <tr>\n",
              "      <th>3</th>\n",
              "      <td>0.007446</td>\n",
              "      <td>0.000926</td>\n",
              "      <td>0.002469</td>\n",
              "      <td>0.000088</td>\n",
              "      <td>0.05</td>\n",
              "      <td>{'alpha': 0.05}</td>\n",
              "      <td>-2517.186387</td>\n",
              "      <td>-1373.740991</td>\n",
              "      <td>-1608.876237</td>\n",
              "      <td>-1986.668089</td>\n",
              "      <td>...</td>\n",
              "      <td>-1870.244038</td>\n",
              "      <td>386.509396</td>\n",
              "      <td>11</td>\n",
              "      <td>-775.485546</td>\n",
              "      <td>-904.555232</td>\n",
              "      <td>-887.650766</td>\n",
              "      <td>-944.362714</td>\n",
              "      <td>-792.279240</td>\n",
              "      <td>-860.866700</td>\n",
              "      <td>65.714290</td>\n",
              "    </tr>\n",
              "    <tr>\n",
              "      <th>4</th>\n",
              "      <td>0.005721</td>\n",
              "      <td>0.000104</td>\n",
              "      <td>0.002346</td>\n",
              "      <td>0.000084</td>\n",
              "      <td>0.1</td>\n",
              "      <td>{'alpha': 0.1}</td>\n",
              "      <td>-2553.723352</td>\n",
              "      <td>-1383.512551</td>\n",
              "      <td>-1650.343979</td>\n",
              "      <td>-1808.237084</td>\n",
              "      <td>...</td>\n",
              "      <td>-1831.103573</td>\n",
              "      <td>390.080073</td>\n",
              "      <td>10</td>\n",
              "      <td>-810.842804</td>\n",
              "      <td>-966.198594</td>\n",
              "      <td>-949.753430</td>\n",
              "      <td>-999.420907</td>\n",
              "      <td>-857.550607</td>\n",
              "      <td>-916.753268</td>\n",
              "      <td>70.837520</td>\n",
              "    </tr>\n",
              "  </tbody>\n",
              "</table>\n",
              "<p>5 rows × 21 columns</p>\n",
              "</div>\n",
              "      <button class=\"colab-df-convert\" onclick=\"convertToInteractive('df-f1ce271b-78e7-45d1-a140-c8c9b66b39f6')\"\n",
              "              title=\"Convert this dataframe to an interactive table.\"\n",
              "              style=\"display:none;\">\n",
              "        \n",
              "  <svg xmlns=\"http://www.w3.org/2000/svg\" height=\"24px\"viewBox=\"0 0 24 24\"\n",
              "       width=\"24px\">\n",
              "    <path d=\"M0 0h24v24H0V0z\" fill=\"none\"/>\n",
              "    <path d=\"M18.56 5.44l.94 2.06.94-2.06 2.06-.94-2.06-.94-.94-2.06-.94 2.06-2.06.94zm-11 1L8.5 8.5l.94-2.06 2.06-.94-2.06-.94L8.5 2.5l-.94 2.06-2.06.94zm10 10l.94 2.06.94-2.06 2.06-.94-2.06-.94-.94-2.06-.94 2.06-2.06.94z\"/><path d=\"M17.41 7.96l-1.37-1.37c-.4-.4-.92-.59-1.43-.59-.52 0-1.04.2-1.43.59L10.3 9.45l-7.72 7.72c-.78.78-.78 2.05 0 2.83L4 21.41c.39.39.9.59 1.41.59.51 0 1.02-.2 1.41-.59l7.78-7.78 2.81-2.81c.8-.78.8-2.07 0-2.86zM5.41 20L4 18.59l7.72-7.72 1.47 1.35L5.41 20z\"/>\n",
              "  </svg>\n",
              "      </button>\n",
              "      \n",
              "  <style>\n",
              "    .colab-df-container {\n",
              "      display:flex;\n",
              "      flex-wrap:wrap;\n",
              "      gap: 12px;\n",
              "    }\n",
              "\n",
              "    .colab-df-convert {\n",
              "      background-color: #E8F0FE;\n",
              "      border: none;\n",
              "      border-radius: 50%;\n",
              "      cursor: pointer;\n",
              "      display: none;\n",
              "      fill: #1967D2;\n",
              "      height: 32px;\n",
              "      padding: 0 0 0 0;\n",
              "      width: 32px;\n",
              "    }\n",
              "\n",
              "    .colab-df-convert:hover {\n",
              "      background-color: #E2EBFA;\n",
              "      box-shadow: 0px 1px 2px rgba(60, 64, 67, 0.3), 0px 1px 3px 1px rgba(60, 64, 67, 0.15);\n",
              "      fill: #174EA6;\n",
              "    }\n",
              "\n",
              "    [theme=dark] .colab-df-convert {\n",
              "      background-color: #3B4455;\n",
              "      fill: #D2E3FC;\n",
              "    }\n",
              "\n",
              "    [theme=dark] .colab-df-convert:hover {\n",
              "      background-color: #434B5C;\n",
              "      box-shadow: 0px 1px 3px 1px rgba(0, 0, 0, 0.15);\n",
              "      filter: drop-shadow(0px 1px 2px rgba(0, 0, 0, 0.3));\n",
              "      fill: #FFFFFF;\n",
              "    }\n",
              "  </style>\n",
              "\n",
              "      <script>\n",
              "        const buttonEl =\n",
              "          document.querySelector('#df-f1ce271b-78e7-45d1-a140-c8c9b66b39f6 button.colab-df-convert');\n",
              "        buttonEl.style.display =\n",
              "          google.colab.kernel.accessAllowed ? 'block' : 'none';\n",
              "\n",
              "        async function convertToInteractive(key) {\n",
              "          const element = document.querySelector('#df-f1ce271b-78e7-45d1-a140-c8c9b66b39f6');\n",
              "          const dataTable =\n",
              "            await google.colab.kernel.invokeFunction('convertToInteractive',\n",
              "                                                     [key], {});\n",
              "          if (!dataTable) return;\n",
              "\n",
              "          const docLinkHtml = 'Like what you see? Visit the ' +\n",
              "            '<a target=\"_blank\" href=https://colab.research.google.com/notebooks/data_table.ipynb>data table notebook</a>'\n",
              "            + ' to learn more about interactive tables.';\n",
              "          element.innerHTML = '';\n",
              "          dataTable['output_type'] = 'display_data';\n",
              "          await google.colab.output.renderOutput(dataTable, element);\n",
              "          const docLink = document.createElement('div');\n",
              "          docLink.innerHTML = docLinkHtml;\n",
              "          element.appendChild(docLink);\n",
              "        }\n",
              "      </script>\n",
              "    </div>\n",
              "  </div>\n",
              "  "
            ]
          },
          "metadata": {},
          "execution_count": 289
        }
      ],
      "source": [
        "# Save model_cv results into a dataframe\n",
        "cv_results = pd.DataFrame(model_cv.cv_results_)\n",
        "\n",
        "# cv_results head\n",
        "cv_results.head()\n"
      ]
    },
    {
      "cell_type": "markdown",
      "metadata": {
        "id": "TJ3ThAS_FXHU"
      },
      "source": [
        "#### plotting mean test and train scores with alpha"
      ]
    },
    {
      "cell_type": "code",
      "execution_count": null,
      "metadata": {
        "id": "fAeuf3YRFXHV",
        "colab": {
          "base_uri": "https://localhost:8080/",
          "height": 295
        },
        "outputId": "a40ec639-598a-474e-8dc5-0814037c8bf8"
      },
      "outputs": [
        {
          "output_type": "display_data",
          "data": {
            "text/plain": [
              "<Figure size 432x288 with 1 Axes>"
            ],
            "image/png": "[encoded data removed]"
          },
          "metadata": {
            "needs_background": "light"
          }
        }
      ],
      "source": [
        "# change param_alpha datatype to float\n",
        "cv_results['param_alpha'] = cv_results['param_alpha'].astype(int)\n",
        "# plotting\n",
        "plt.plot(cv_results['param_alpha'],cv_results['mean_train_score'])\n",
        "plt.plot(cv_results['param_alpha'],cv_results['mean_test_score'])\n",
        "plt.xlabel('alpha')\n",
        "plt.ylabel('Negative mean absolute error')\n",
        "plt.title('alpha vs Negative mean absolute error')\n",
        "plt.show()"
      ]
    },
    {
      "cell_type": "code",
      "execution_count": null,
      "metadata": {
        "id": "EkRVkz71FXHV",
        "colab": {
          "base_uri": "https://localhost:8080/"
        },
        "outputId": "1ba37fd5-2b53-4994-b68e-009fc8fe9a8b"
      },
      "outputs": [
        {
          "output_type": "execute_result",
          "data": {
            "text/plain": [
              "{'alpha': 0.6}"
            ]
          },
          "metadata": {},
          "execution_count": 291
        }
      ],
      "source": [
        "# Checking best  alpha from model_cv\n",
        "model_cv.best_params_"
      ]
    },
    {
      "cell_type": "markdown",
      "metadata": {
        "id": "4nNdc6pAFXHW"
      },
      "source": [
        "As you can see that train and test scores start to become parallel to each other after apha crosses 0.2. So lets check our Elastic model on alpha 0.2."
      ]
    },
    {
      "cell_type": "code",
      "execution_count": null,
      "metadata": {
        "id": "g7UNK1SnFXHW",
        "colab": {
          "base_uri": "https://localhost:8080/"
        },
        "outputId": "24dd2d35-aada-4180-d98e-e8b6813ad4ef"
      },
      "outputs": [
        {
          "output_type": "execute_result",
          "data": {
            "text/plain": [
              "ElasticNet(alpha=0.6)"
            ]
          },
          "metadata": {},
          "execution_count": 292
        }
      ],
      "source": [
        "# St alpha =0.2\n",
        "alpha =0.6\n",
        "\n",
        "# Define lasso with above alpha\n",
        "elasticnet = ElasticNet(alpha=alpha)\n",
        "  \n",
        "# fit lasso\n",
        "elasticnet.fit(Xtrain,Ytrain)\n"
      ]
    },
    {
      "cell_type": "code",
      "execution_count": null,
      "metadata": {
        "id": "THP4ruPXFXHX",
        "colab": {
          "base_uri": "https://localhost:8080/"
        },
        "outputId": "ae70b5d0-6da3-4622-cbc2-6050db3b62b1"
      },
      "outputs": [
        {
          "output_type": "execute_result",
          "data": {
            "text/plain": [
              "array([ 450.6883542 ,  367.52519545,  930.22168627,  -91.88036462,\n",
              "        820.98886284,  881.28612308,  289.48839537,  -33.08280156,\n",
              "         75.28381422,  747.4002887 ,  236.5226385 , -138.82948644,\n",
              "       -162.99671208,   70.07398162, -260.70712014,   55.69325039,\n",
              "        -57.20359602,  -47.68507932,   76.30892691,  123.54562102,\n",
              "       -123.54753819, -215.49065489,  215.49214315,  -39.24171501,\n",
              "         39.23919116,  402.29854766,   81.92020628, -167.22185662,\n",
              "         54.73543796,  -97.02319841,  -56.45090673, -346.25560631,\n",
              "        377.57567854, -484.36021922,  484.36043969, -146.04785231,\n",
              "        -71.34491537, -231.89961868,  263.52043521,  -26.5127528 ,\n",
              "        -95.23921495,   44.82283201,  673.82241683,   36.74192496,\n",
              "       -582.24436918,  318.21273518,  208.82062097,  101.34143294,\n",
              "         44.81733481,  -67.76713747,  -61.32696734, -128.04017349,\n",
              "        123.56249742,   -0.        ,  105.0803095 , -143.98271177,\n",
              "         -0.        ,   79.42843045,  131.80827617, 1150.29203963,\n",
              "        658.20333623,  -10.14881486, -170.59012218,  -85.62970076,\n",
              "         16.1420054 ,  773.64248734, -124.19231929,   -0.        ,\n",
              "       -346.75272399, -258.92064358, -306.49657514, -100.08118519,\n",
              "        548.61599813, -203.68229411,  171.27897639, -277.79933152,\n",
              "       -413.37368026, -163.64798663,   83.79105606])"
            ]
          },
          "metadata": {},
          "execution_count": 293
        }
      ],
      "source": [
        "# print lasso coeficients\n",
        "\n",
        "elasticnet.coef_"
      ]
    },
    {
      "cell_type": "markdown",
      "metadata": {
        "id": "ohY5UDYVFXHa"
      },
      "source": [
        "### Model evaluation\n",
        "\n",
        "<p style='text-align: right;'> points= 5</p>\n",
        "\n",
        "Lets compare all three model result using error term . Here we will check RMSE.\n",
        "\n"
      ]
    },
    {
      "cell_type": "code",
      "execution_count": null,
      "metadata": {
        "id": "1CXDf6PEFXHb"
      },
      "outputs": [],
      "source": [
        "# Calculate all 3 predictions \n",
        "pred_r = ridge.predict(Xtest)\n",
        "pred_l = lasso.predict(Xtest)\n",
        "pred_en = elasticnet.predict(Xtest)"
      ]
    },
    {
      "cell_type": "code",
      "execution_count": null,
      "metadata": {
        "id": "oR-Rhf09FXHc",
        "colab": {
          "base_uri": "https://localhost:8080/"
        },
        "outputId": "586cb7e4-1196-4703-9670-492827ccc2b1"
      },
      "outputs": [
        {
          "output_type": "stream",
          "name": "stdout",
          "text": [
            "RMSE of ridge : 2302.2948183062326\n",
            "RMSE of lasso : 2398.8455114113735\n",
            "RMSE of elasticnet : 2431.240360911597\n"
          ]
        }
      ],
      "source": [
        "# import mean_squared_error module\n",
        "from sklearn.metrics import mean_squared_error as MSE\n",
        "\n",
        "# print RMSE for all 3 techniques\n",
        "print(\"RMSE of ridge : {0}\".format(np.sqrt(MSE(pred_r,Ytest))))\n",
        "print(\"RMSE of lasso : {0}\".format(np.sqrt(MSE(pred_l,Ytest))))\n",
        "print(\"RMSE of elasticnet : {0}\".format(np.sqrt(MSE(pred_en,Ytest))))"
      ]
    },
    {
      "cell_type": "markdown",
      "metadata": {
        "id": "nzsYpQwBFXHd"
      },
      "source": [
        "As you can see for our problem statement Ridge as a regularization technique gave us the best result"
      ]
    },
    {
      "cell_type": "markdown",
      "metadata": {
        "id": "PY-oj9enFXHh"
      },
      "source": [
        "## Generalised Regression using Polynomial regression\n",
        "\n",
        "<p style='text-align: right;'> points= 18</p>\n",
        "\n",
        "In this section, we will build a generalised regression model on the electricity consumption dataset. The dataset contains two variables - year and electricity consumption.\n",
        "\n",
        "Refrence: https://www.analyticsvidhya.com/blog/2020/03/polynomial-regression-python/?\n"
      ]
    },
    {
      "cell_type": "code",
      "execution_count": null,
      "metadata": {
        "id": "tX52NmlZFXHh"
      },
      "outputs": [],
      "source": [
        "#importing libraries PolynomialFeatures, LinearRegression, Pipeline  , metrics from sklearn\n",
        "from sklearn.preprocessing import PolynomialFeatures as PF\n",
        "from sklearn.pipeline import Pipeline\n",
        "from sklearn.metrics import r2_score"
      ]
    },
    {
      "cell_type": "code",
      "execution_count": null,
      "metadata": {
        "id": "PdnXWq6jFXHi"
      },
      "outputs": [],
      "source": [
        "#fetching data\n",
        "elec_cons = pd.read_csv('total-electricity-consumption-us.csv')"
      ]
    },
    {
      "cell_type": "code",
      "execution_count": null,
      "metadata": {
        "id": "rKUQcNWzFXHj",
        "colab": {
          "base_uri": "https://localhost:8080/"
        },
        "outputId": "3944cb8d-c893-4cbf-fcc6-b0b780e2c870"
      },
      "outputs": [
        {
          "output_type": "execute_result",
          "data": {
            "text/plain": [
              "(51, 2)"
            ]
          },
          "metadata": {},
          "execution_count": 298
        }
      ],
      "source": [
        "# number of observations: 51\n",
        "elec_cons.shape"
      ]
    },
    {
      "cell_type": "code",
      "execution_count": null,
      "metadata": {
        "id": "zSuarpHvFXHl",
        "colab": {
          "base_uri": "https://localhost:8080/"
        },
        "outputId": "7e28e637-b81a-4abd-dd0b-2c1fe0b77729"
      },
      "outputs": [
        {
          "output_type": "execute_result",
          "data": {
            "text/plain": [
              "Year           0\n",
              "Consumption    0\n",
              "dtype: int64"
            ]
          },
          "metadata": {},
          "execution_count": 299
        }
      ],
      "source": [
        "# checking NA\n",
        "# there are no missing values in the dataset\n",
        "elec_cons.isna().sum()"
      ]
    },
    {
      "cell_type": "code",
      "execution_count": null,
      "metadata": {
        "id": "iLjiaqmKFXHm",
        "colab": {
          "base_uri": "https://localhost:8080/"
        },
        "outputId": "c3fe3107-0912-445f-a4fa-f1c386e8d441"
      },
      "outputs": [
        {
          "output_type": "stream",
          "name": "stdout",
          "text": [
            "51\n"
          ]
        }
      ],
      "source": [
        "#Defining length of elec_cons index\n",
        "size = elec_cons.shape[0]\n",
        "print(size)\n",
        "# Defining custom index which ranges from 0 to size and step size as  5\n",
        "index = range(0,size,5)\n",
        "\n",
        "#train will not have same index which is is defined above\n",
        "train = elec_cons[~elec_cons.index.isin(index)]\n",
        "\n",
        "#test will have same index which is is defined above\n",
        "test = elec_cons[elec_cons.index.isin(index)]\n"
      ]
    },
    {
      "cell_type": "code",
      "execution_count": null,
      "metadata": {
        "id": "qMgQRHrIFXHq",
        "colab": {
          "base_uri": "https://localhost:8080/"
        },
        "outputId": "dd20c68d-03df-44c8-ff9f-616dd2cf4574"
      },
      "outputs": [
        {
          "output_type": "stream",
          "name": "stdout",
          "text": [
            "40\n"
          ]
        },
        {
          "output_type": "execute_result",
          "data": {
            "text/plain": [
              "11"
            ]
          },
          "metadata": {},
          "execution_count": 301
        }
      ],
      "source": [
        "#print train and test length\n",
        "print(train.shape[0])\n",
        "test.shape[0]\n"
      ]
    },
    {
      "cell_type": "code",
      "execution_count": null,
      "metadata": {
        "id": "MjXV9RafFXHr"
      },
      "outputs": [],
      "source": [
        "# converting X to a two dimensional array, as required by the learning algorithm\n",
        "#Making X_train two dimensional\n",
        "X_train = np.array(train[['Year']])\n",
        "\n",
        "#Defining y_train\n",
        "y_train = np.array(train['Consumption'])\n",
        "\n",
        "#Making X_test two dimensional\n",
        "X_test = np.array(test[['Year']])\n",
        "\n",
        "#Defining y_test\n",
        "y_test = np.array(test['Consumption'])"
      ]
    },
    {
      "cell_type": "markdown",
      "metadata": {
        "id": "357bfu2bFXHs"
      },
      "source": [
        "Doing a polynomial regression: Comparing linear, quadratic and cubic fits\n",
        "\n",
        "Pipeline helps you associate two models or  s to be built sequentially with each other, in this case, the  s are PolynomialFeatures() and LinearRegression()"
      ]
    },
    {
      "cell_type": "code",
      "execution_count": null,
      "metadata": {
        "id": "gAWtoQo7FXHu"
      },
      "outputs": [],
      "source": [
        "# Defining empty array r2_train and r2_test\n",
        "r2_train = []\n",
        "r2_test = []\n",
        "\n",
        "#Define degrees as list with 1,2 and 3 as elements\n",
        "degrees = [1,2,3]\n",
        "\n"
      ]
    },
    {
      "cell_type": "markdown",
      "metadata": {
        "id": "l0br_OUZFXHu"
      },
      "source": [
        "Check its library: https://scikit-learn.org/stable/modules/generated/sklearn.pipeline.Pipeline.html"
      ]
    },
    {
      "cell_type": "markdown",
      "metadata": {
        "id": "L0OG1Vf3R2b6"
      },
      "source": [
        "### **`Reference video below for pipeline`**"
      ]
    },
    {
      "cell_type": "code",
      "source": [
        "YouTubeVideo('DbKncMPQhoA',width=700, height=400)"
      ],
      "metadata": {
        "id": "3hLP_rm8R2b7",
        "colab": {
          "base_uri": "https://localhost:8080/",
          "height": 422
        },
        "outputId": "71f9f57a-cefa-4712-d90c-8b31c2c7d468"
      },
      "execution_count": null,
      "outputs": [
        {
          "output_type": "execute_result",
          "data": {
            "text/plain": [
              "<IPython.lib.display.YouTubeVideo at 0x7fa89dd07490>"
            ],
            "text/html": [
              "\n",
              "        <iframe\n",
              "            width=\"700\"\n",
              "            height=\"400\"\n",
              "            src=\"https://www.youtube.com/embed/DbKncMPQhoA\"\n",
              "            frameborder=\"0\"\n",
              "            allowfullscreen\n",
              "        ></iframe>\n",
              "        "
            ],
            "image/jpeg": "[encoded data removed]"
          },
          "metadata": {},
          "execution_count": 304
        }
      ]
    },
    {
      "cell_type": "code",
      "execution_count": null,
      "metadata": {
        "id": "71qOr474FXHv",
        "colab": {
          "base_uri": "https://localhost:8080/",
          "height": 851
        },
        "outputId": "425b0b72-cbda-40aa-cb00-8428a49e159f"
      },
      "outputs": [
        {
          "output_type": "display_data",
          "data": {
            "text/plain": [
              "<Figure size 432x288 with 1 Axes>"
            ],
            "image/png": "[encoded data removed]"
          },
          "metadata": {
            "needs_background": "light"
          }
        },
        {
          "output_type": "display_data",
          "data": {
            "text/plain": [
              "<Figure size 432x288 with 1 Axes>"
            ],
            "image/png": "[encoded data removed]"
          },
          "metadata": {
            "needs_background": "light"
          }
        },
        {
          "output_type": "display_data",
          "data": {
            "text/plain": [
              "<Figure size 432x288 with 1 Axes>"
            ],
            "image/png": "[encoded data removed]"
          },
          "metadata": {
            "needs_background": "light"
          }
        }
      ],
      "source": [
        "# Iterating over each degree value\n",
        "\n",
        "for degree in degrees:\n",
        "  line = Pipeline([('PF',PF(degree=degree)),('LR',LR())])\n",
        "  line.fit(X_train,y_train)\n",
        "  y_pred_test = line.predict(X_test)\n",
        "  r2_test.append(r2_score(y_pred_test,y_test))\n",
        "  y_pred_train = line.predict(X_train)\n",
        "  r2_train.append(r2_score(y_train,y_pred_train))\n",
        "\n",
        "  fig , ax = plt.subplots()\n",
        "  ax.scatter(X_train,y_train)\n",
        "  ax.plot(X_train,y_pred_train)\n",
        "  ax.scatter(X_train,y_train)\n",
        "  ax.plot(X_test,y_pred_test)\n",
        "  ax.set_title(\"Degree=\"+str(degree))\n",
        "  ax.set_xlabel('Year')\n",
        "  ax.set_ylabel('Power Consumption')\n",
        "  plt.show()"
      ]
    },
    {
      "cell_type": "code",
      "execution_count": null,
      "metadata": {
        "id": "gYcLiGiKFXHw",
        "colab": {
          "base_uri": "https://localhost:8080/"
        },
        "outputId": "d2646adc-7472-4741-8a06-733dbd094436"
      },
      "outputs": [
        {
          "output_type": "stream",
          "name": "stdout",
          "text": [
            "[0.8423747402176137, 0.9908896744553399, 0.9979789881922152]\n"
          ]
        },
        {
          "output_type": "execute_result",
          "data": {
            "text/plain": [
              "[0.7541009810885405, 0.9862705615079461, 0.9984520398079032]"
            ]
          },
          "metadata": {},
          "execution_count": 306
        }
      ],
      "source": [
        "# respective test r-squared scores of predictions\n",
        "print(r2_train)\n",
        "r2_test\n"
      ]
    },
    {
      "cell_type": "markdown",
      "metadata": {
        "id": "dflgpL1GFXHw"
      },
      "source": [
        "As you can see that as polynomial degree increases accuracy also increases. But degree should also be decided based on checking condition of of underfitting and overtting.\n",
        "\n",
        "If you wanna check difference between simple, multiple and polynomial regression then watch: https://youtu.be/i_9dsEqn5h0\n"
      ]
    },
    {
      "cell_type": "markdown",
      "metadata": {
        "id": "08AHovnMSFez"
      },
      "source": [
        "### **`Reference video below for difference between simple, multiple, and polynomial regression`**"
      ]
    },
    {
      "cell_type": "code",
      "source": [
        "YouTubeVideo('i_9dsEqn5h0',width=700, height=400)"
      ],
      "metadata": {
        "id": "gK1Lv5z-SFe5",
        "colab": {
          "base_uri": "https://localhost:8080/",
          "height": 422
        },
        "outputId": "43d61616-2e2c-4a8c-eae8-ec8b62fb1f7d"
      },
      "execution_count": null,
      "outputs": [
        {
          "output_type": "execute_result",
          "data": {
            "text/plain": [
              "<IPython.lib.display.YouTubeVideo at 0x7fa89d92ec10>"
            ],
            "text/html": [
              "\n",
              "        <iframe\n",
              "            width=\"700\"\n",
              "            height=\"400\"\n",
              "            src=\"https://www.youtube.com/embed/i_9dsEqn5h0\"\n",
              "            frameborder=\"0\"\n",
              "            allowfullscreen\n",
              "        ></iframe>\n",
              "        "
            ],
            "image/jpeg": "[encoded data removed]"
          },
          "metadata": {},
          "execution_count": 307
        }
      ]
    },
    {
      "cell_type": "markdown",
      "source": [
        "# **`Summary:`**\n",
        "\n",
        "Ridge: It includes all (or none) of the features in the model. Thus, the major advantage of ridge regression is coefficient shrinkage and reducing model complexity.\n",
        "\n",
        "Lasso: Along with shrinking coefficients, lasso performs feature selection as well. some of the coefficients become exactly zero, which is equivalent to the particular feature being excluded from the model.\n",
        "\n",
        "ElasticNet: It is an extension of linear regression that adds regularization penalties to the loss function during training.\n",
        "\n",
        "Polynomial Regression:It is a form of regression analysis in which the relationship between the independent variables and dependent variables are modeled in the nth degree polynomial\n",
        "\n",
        "GridSearchCV: It helps to loop through predefined hyperparameters and fit your estimator (model) on your training set.\n"
      ],
      "metadata": {
        "id": "oRYDnTQADomv"
      }
    },
    {
      "cell_type": "markdown",
      "metadata": {
        "id": "s-SlFMoGFXHx"
      },
      "source": [
        "-----------------------\n",
        "\n",
        "# Bam! Congratulations You have completed your 11th milestone challenge too!\n",
        "-----------------\n",
        "# FeedBack\n",
        "We hope you’ve enjoyed this course so far. We’re committed to help you use \"AI for All\" course to its full potential, so that you have a great learning experience. And that’s why we need your help in form of a feedback here.\n",
        "\n",
        "Please fill this feedback form https://forms.gle/NG4QD8ncH8FNF2iB8"
      ]
    }
  ],
  "metadata": {
    "kernelspec": {
      "display_name": "Python 3",
      "language": "python",
      "name": "python3"
    },
    "language_info": {
      "codemirror_mode": {
        "name": "ipython",
        "version": 3
      },
      "file_extension": ".py",
      "mimetype": "text/x-python",
      "name": "python",
      "nbconvert_exporter": "python",
      "pygments_lexer": "ipython3",
      "version": "3.8.5"
    },
    "colab": {
      "name": "Advance_Linear_Regression_withoutcode .ipynb",
      "provenance": [],
      "collapsed_sections": [],
      "include_colab_link": true
    }
  },
  "nbformat": 4,
  "nbformat_minor": 0
}